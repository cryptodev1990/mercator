{
 "cells": [
  {
   "cell_type": "code",
   "execution_count": 165,
   "metadata": {},
   "outputs": [],
   "source": [
    "import sys\n",
    "sys.path.append(\"..\")"
   ]
  },
  {
   "cell_type": "code",
   "execution_count": 13,
   "metadata": {},
   "outputs": [],
   "source": [
    "%reload_ext autoreload\n",
    "%autoreload 1\n",
    "%aimport pygeolift\n"
   ]
  },
  {
   "cell_type": "code",
   "execution_count": 14,
   "metadata": {},
   "outputs": [],
   "source": [
    "from rpy2.robjects.packages import importr, data\n",
    "from rpy2.robjects import pandas2ri, default_converter\n",
    "from rpy2.robjects.conversion import localconverter, rpy2py\n",
    "from rpy2.rinterface_lib.embedded import RRuntimeError"
   ]
  },
  {
   "cell_type": "code",
   "execution_count": 15,
   "metadata": {},
   "outputs": [],
   "source": [
    "from pygeolift import geolift"
   ]
  },
  {
   "cell_type": "markdown",
   "metadata": {},
   "source": [
    "Load example package data, `GeoLift_PreTest`."
   ]
  },
  {
   "cell_type": "code",
   "execution_count": 19,
   "metadata": {},
   "outputs": [],
   "source": [
    "geo_lift_pre_test_r_df = data(geolift.geo_lift).fetch('GeoLift_PreTest')[\"GeoLift_PreTest\"]\n",
    "with localconverter(default_converter + pandas2ri.converter):\n",
    "  geo_lift_pre_test = rpy2py(geo_lift_pre_test_r_df)"
   ]
  },
  {
   "cell_type": "code",
   "execution_count": 30,
   "metadata": {},
   "outputs": [
    {
     "name": "stderr",
     "output_type": "stream",
     "text": [
      "R[write to console]: ##################################\n",
      "#####       Summary       #####\n",
      "##################################\n",
      "\n",
      "* Raw Number of Locations: 40\n",
      "* Time Periods: 90\n",
      "* Final Number of Locations (Complete): 40\n",
      "\n"
     ]
    }
   ],
   "source": [
    "geo_test_data_pre_test =  geolift.geo_data_read(geo_lift_pre_test,\n",
    "                                        date_id = \"date\",\n",
    "                                        location_id = \"location\",\n",
    "                                        Y_id = \"Y\",\n",
    "                                        X = [], #empty list as we have no covariates\n",
    "                                        format = \"yyyy-mm-dd\",\n",
    "                                        summary = True)\n",
    "                                \n"
   ]
  },
  {
   "cell_type": "code",
   "execution_count": 121,
   "metadata": {},
   "outputs": [
    {
     "name": "stderr",
     "output_type": "stream",
     "text": [
      "R[write to console]: Setting up cluster.\n",
      "\n",
      "R[write to console]: Importing functions into cluster.\n",
      "\n",
      "R[write to console]: \n",
      "Deterministic setup with 2 locations in treatment.\n",
      "\n",
      "R[write to console]: \n",
      "Deterministic setup with 3 locations in treatment.\n",
      "\n",
      "R[write to console]: \n",
      "Deterministic setup with 4 locations in treatment.\n",
      "\n",
      "R[write to console]: \n",
      "Deterministic setup with 5 locations in treatment.\n",
      "\n"
     ]
    },
    {
     "name": "stdout",
     "output_type": "stream",
     "text": [
      "  ID                                     location duration EffectSize Power\n",
      "1  1      atlanta, chicago, las vegas, saint paul       15      -0.05     1\n",
      "2  2                            chicago, portland       15      -0.05     1\n",
      "3  3      atlanta, chicago, las vegas, saint paul       10      -0.05     1\n",
      "4  4       chicago, cincinnati, houston, portland       15      -0.05     1\n",
      "5  5            chicago, houston, nashville, reno       15      -0.05     1\n",
      "6  6 atlanta, chicago, cleveland, las vegas, reno       10      -0.05     1\n",
      "  AvgScaledL2Imbalance Investment    AvgATT Average_MDE ProportionTotal_Y\n",
      "1            0.5558341   85305.00 -189.8766 -0.05007765        0.08767192\n",
      "2            0.1738778   32281.87 -140.4179 -0.04898682        0.03306537\n",
      "3            0.5978398   57760.87 -182.5825 -0.04753797        0.08767192\n",
      "4            0.1971864   74118.37 -170.0523 -0.05153888        0.07576405\n",
      "5            0.3321341   75556.12 -161.7403 -0.04825348        0.07816073\n",
      "6            0.4536741   69300.00 -174.5213 -0.04735064        0.10714670\n",
      "  abs_lift_in_zero    Holdout rank correlation\n",
      "1            0.000 0.08767192    1   0.9775394\n",
      "2            0.001 0.03306537    2   0.9321104\n",
      "3            0.002 0.08767192    3   0.9775394\n",
      "4            0.002 0.07576405    3   0.9144814\n",
      "5            0.002 0.07816073    3   0.9146693\n",
      "6            0.003 0.10714670    6   0.9788758\n"
     ]
    }
   ],
   "source": [
    "market_selection = geo_lift.r.GeoLiftMarketSelection(data = geo_test_data_pre_test,\n",
    "                                          treatment_periods = base.c(10,15),\n",
    "                                          N = base.c(2,3,4,5),\n",
    "                                          Y_id = \"Y\",\n",
    "                                          location_id = \"location\",\n",
    "                                          time_id = \"time\",\n",
    "                                          effect_size = base.seq(-0.25, 0.25, 0.05),\n",
    "                                          lookback_window = 1, \n",
    "                                          include_markets = base.c(\"chicago\"),\n",
    "                                          exclude_markets = base.c(\"honolulu\"),\n",
    "                                          cpic = 7.50,\n",
    "                                          budget = 100000,\n",
    "                                          alpha = 0.1,\n",
    "                                          Correlations = True,\n",
    "                                          fixed_effects = True,\n",
    "                                          side_of_test = \"one_sided\")\n"
   ]
  },
  {
   "cell_type": "code",
   "execution_count": 152,
   "metadata": {},
   "outputs": [],
   "source": []
  },
  {
   "cell_type": "code",
   "execution_count": 122,
   "metadata": {},
   "outputs": [
    {
     "name": "stderr",
     "output_type": "stream",
     "text": [
      "R[write to console]: ##################################\n",
      "#####       Summary       #####\n",
      "##################################\n",
      "\n",
      "* Raw Number of Locations: 40\n",
      "* Time Periods: 105\n",
      "* Final Number of Locations (Complete): 40\n",
      "\n"
     ]
    }
   ],
   "source": [
    "from rpy2.robjects.packages import data as r_package_data\n",
    "from rpy2.robjects import StrVector\n",
    "geo_lift = importr(\"GeoLift\")\n",
    "augsynth = importr(\"augsynth\")\n",
    "methods = importr(\"methods\")\n",
    "GeoLift_Test = r_package_data(geo_lift).fetch('GeoLift_Test')[\"GeoLift_Test\"]\n",
    "\n",
    "geo_test_data_test = geo_lift.GeoDataRead(data = GeoLift_Test,\n",
    "                                    date_id = \"date\",\n",
    "                                    location_id = \"location\",\n",
    "                                    Y_id = \"Y\",\n",
    "                                    format = \"yyyy-mm-dd\",\n",
    "                                    summary = True)\n",
    "\n",
    "geo_test = geo_lift.GeoLift(Y_id = \"Y\",\n",
    "                   data = geo_test_data_test,\n",
    "                   locations = StrVector([\"chicago\", \"portland\"]),\n",
    "                   treatment_start_time = 91,\n",
    "                   treatment_end_time = 105)"
   ]
  },
  {
   "cell_type": "code",
   "execution_count": 170,
   "metadata": {},
   "outputs": [],
   "source": [
    "f"
   ]
  },
  {
   "cell_type": "code",
   "execution_count": 172,
   "metadata": {},
   "outputs": [
    {
     "ename": "AttributeError",
     "evalue": "can't set attribute 'results'",
     "output_type": "error",
     "traceback": [
      "\u001b[0;31m---------------------------------------------------------------------------\u001b[0m",
      "\u001b[0;31mAttributeError\u001b[0m                            Traceback (most recent call last)",
      "\u001b[1;32m/Users/jrnold/geox/py-geolift/notebooks/PyGeoLiftWalkThrough.ipynb Cell 13'\u001b[0m in \u001b[0;36m<cell line: 1>\u001b[0;34m()\u001b[0m\n\u001b[0;32m----> <a href='vscode-notebook-cell:/Users/jrnold/geox/py-geolift/notebooks/PyGeoLiftWalkThrough.ipynb#ch0000015?line=0'>1</a>\u001b[0m geo_test_2\u001b[39m.\u001b[39mresults \u001b[39m=\u001b[39m \u001b[39mNone\u001b[39;00m\n",
      "\u001b[0;31mAttributeError\u001b[0m: can't set attribute 'results'"
     ]
    }
   ],
   "source": []
  }
 ],
 "metadata": {
  "kernelspec": {
   "display_name": "Python 3.10.4 ('pygeolift-wkPm4r-4-py3.10')",
   "language": "python",
   "name": "python3"
  },
  "language_info": {
   "codemirror_mode": {
    "name": "ipython",
    "version": 3
   },
   "file_extension": ".py",
   "mimetype": "text/x-python",
   "name": "python",
   "nbconvert_exporter": "python",
   "pygments_lexer": "ipython3",
   "version": "3.10.4"
  },
  "orig_nbformat": 4,
  "vscode": {
   "interpreter": {
    "hash": "1e9a0460126532ec9d3af5fff910c35389b590dd1e18dec9beb0fe1db58b7069"
   }
  }
 },
 "nbformat": 4,
 "nbformat_minor": 2
}
