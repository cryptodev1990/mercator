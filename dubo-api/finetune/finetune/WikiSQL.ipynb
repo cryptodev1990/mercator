{
 "cells": [
  {
   "cell_type": "code",
   "execution_count": 171,
   "id": "e707a3ff",
   "metadata": {},
   "outputs": [],
   "source": [
    "import pandas as pd"
   ]
  },
  {
   "cell_type": "code",
   "execution_count": 191,
   "id": "7b6e4801",
   "metadata": {},
   "outputs": [],
   "source": [
    "agg_ops = ['', 'MAX', 'MIN', 'COUNT', 'SUM', 'AVG']\n",
    "cond_ops = ['=', '>', '<', 'OP']\n",
    "\n",
    "def expand_query(row):\n",
    "    d = row['sql']\n",
    "    \n",
    "    sel_index  = d['sel']\n",
    "    agg_index  = d['agg']\n",
    "    conditions = d['conds']\n",
    "    \n",
    "    rep = 'SELECT {agg} {sel} FROM table'.format(\n",
    "            agg=agg_ops[agg_index],\n",
    "            sel=row['header'][sel_index])\n",
    "    if conditions:\n",
    "                rep += ' WHERE ' + ' AND '.join(['{} {} {}'.format(row['header'][i], cond_ops[o], v) \n",
    "                                                 for i, o, v in conditions])\n",
    "    \n",
    "    return rep\n",
    "\n",
    "def quote(row):\n",
    "    if row['conds'] == []:\n",
    "        return row\n",
    "    x = row['conds'][0]\n",
    "    if isinstance(x[2], str) and ' ' in x[2]:\n",
    "        return {'sel': row['sel'], 'conds':   [[x[0], x[1], f'\"{x[2]}\"']], 'agg': row['agg']}\n",
    "    else:\n",
    "        return row"
   ]
  },
  {
   "cell_type": "code",
   "execution_count": 192,
   "id": "9e562a97",
   "metadata": {},
   "outputs": [],
   "source": [
    "df        = pd.read_json('~/WIkiSQL/data/dev.jsonl', lines=True)\n",
    "df_tables = pd.read_json('~/WIkiSQL/data/dev.tables.jsonl', lines=True)\n",
    "df        = df.merge(df_tables[['id','header']], left_on='table_id', right_on='id')\n",
    "\n",
    "df['header'] = df['header'].apply(lambda x: [f'\"{i}\"' if ' ' in i else i for i in x])\n",
    "df['query']  = df.apply(lambda x: expand_query(x), axis=1)\n",
    "df['sql']    = df['sql'].apply(lambda x: quote(x))"
   ]
  },
  {
   "cell_type": "code",
   "execution_count": 193,
   "id": "69fb19f0",
   "metadata": {},
   "outputs": [
    {
     "name": "stdout",
     "output_type": "stream",
     "text": [
      "SELECT  Position FROM table WHERE \"School/Club Team\" = Butler CC (KS)\n"
     ]
    }
   ],
   "source": [
    "print(df['query'].loc[0])"
   ]
  },
  {
   "cell_type": "code",
   "execution_count": 196,
   "id": "3d1a476b",
   "metadata": {},
   "outputs": [
    {
     "name": "stdout",
     "output_type": "stream",
     "text": [
      "[[5, 0, '\"Butler CC (KS)\"']]\n"
     ]
    }
   ],
   "source": [
    "print(df.loc[0]['sql']['conds'])"
   ]
  },
  {
   "cell_type": "code",
   "execution_count": 15,
   "id": "cbc727c4",
   "metadata": {},
   "outputs": [
    {
     "data": {
      "text/plain": [
       "['phase', 'table_id', 'question', 'sql', 'id', 'header']"
      ]
     },
     "execution_count": 15,
     "metadata": {},
     "output_type": "execute_result"
    }
   ],
   "source": [
    "df.columns.to_list()"
   ]
  },
  {
   "cell_type": "code",
   "execution_count": 16,
   "id": "c3c3c3ba",
   "metadata": {},
   "outputs": [
    {
     "data": {
      "text/plain": [
       "0       SELECT  Position FROM table WHERE School/Club ...\n",
       "1       SELECT COUNT School/Club Team FROM table WHERE...\n",
       "2       SELECT  School/Club Team FROM table WHERE No. ...\n",
       "3              SELECT  Player FROM table WHERE No. = '42'\n",
       "4       SELECT  Player FROM table WHERE Position = 'Gu...\n",
       "                              ...                        \n",
       "8416    SELECT  Loss FROM table WHERE Attendance > '49...\n",
       "8417    SELECT MAX Attendance FROM table WHERE Opponen...\n",
       "8418    SELECT  Party FROM table WHERE Representative ...\n",
       "8419    SELECT  State FROM table WHERE Representative ...\n",
       "8420    SELECT  Lifespan FROM table WHERE Party = 'dem...\n",
       "Length: 8421, dtype: object"
      ]
     },
     "execution_count": 16,
     "metadata": {},
     "output_type": "execute_result"
    }
   ],
   "source": []
  },
  {
   "cell_type": "code",
   "execution_count": null,
   "id": "ef1b791d",
   "metadata": {},
   "outputs": [],
   "source": []
  }
 ],
 "metadata": {
  "kernelspec": {
   "display_name": "Python 3 (ipykernel)",
   "language": "python",
   "name": "python3"
  },
  "language_info": {
   "codemirror_mode": {
    "name": "ipython",
    "version": 3
   },
   "file_extension": ".py",
   "mimetype": "text/x-python",
   "name": "python",
   "nbconvert_exporter": "python",
   "pygments_lexer": "ipython3",
   "version": "3.10.9"
  }
 },
 "nbformat": 4,
 "nbformat_minor": 5
}
