{
 "cells": [
  {
   "cell_type": "code",
   "execution_count": 1,
   "id": "394cfc68",
   "metadata": {},
   "outputs": [],
   "source": [
    "import requests as r\n",
    "\n",
    "res = r.get('https://dubo-api.mercator.tech/demos/census', params={'query': 'Where are the olds'})"
   ]
  },
  {
   "cell_type": "code",
   "execution_count": 2,
   "id": "7c3bf671",
   "metadata": {},
   "outputs": [],
   "source": [
    "import base64\n",
    "\n",
    "def header_to_sql(request_object: any):\n",
    "    encoded_sql = request_object.headers['x-generated-sql']\n",
    "    decoded_sql = base64.b64decode(encoded_sql).decode('ascii')\n",
    "    return decoded_sql"
   ]
  },
  {
   "cell_type": "code",
   "execution_count": 4,
   "id": "7fb9a9d2",
   "metadata": {},
   "outputs": [
    {
     "name": "stdout",
     "output_type": "stream",
     "text": [
      "SELECT\n",
      "  zcta,\n",
      "  num_male_85_years_and_over / total_population AS male_ratio,\n",
      "  num_female_85_years_and_over / total_population AS female_ratio\n",
      "FROM acs_sex_by_age\n",
      "WHERE\n",
      "  total_population <> 0 AND total_population <> 0\n"
     ]
    }
   ],
   "source": [
    "print(header_to_sql(res))"
   ]
  },
  {
   "cell_type": "code",
   "execution_count": null,
   "id": "d158c8ac",
   "metadata": {},
   "outputs": [],
   "source": []
  }
 ],
 "metadata": {
  "kernelspec": {
   "display_name": "Python 3 (ipykernel)",
   "language": "python",
   "name": "python3"
  },
  "language_info": {
   "codemirror_mode": {
    "name": "ipython",
    "version": 3
   },
   "file_extension": ".py",
   "mimetype": "text/x-python",
   "name": "python",
   "nbconvert_exporter": "python",
   "pygments_lexer": "ipython3",
   "version": "3.9.6"
  }
 },
 "nbformat": 4,
 "nbformat_minor": 5
}
