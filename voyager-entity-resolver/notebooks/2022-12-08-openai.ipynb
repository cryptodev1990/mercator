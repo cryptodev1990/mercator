{
 "cells": [
  {
   "cell_type": "markdown",
   "metadata": {},
   "source": [
    "## OSM ID Preset Schemas\n",
    "\n",
    "The OSM Id editor defines \"presets\" which are roughly spatial feature categories. These have associated names, terms, and aliases which can be used for lookup."
   ]
  },
  {
   "cell_type": "code",
   "execution_count": 8,
   "metadata": {},
   "outputs": [
    {
     "data": {
      "text/plain": [
       "1431"
      ]
     },
     "execution_count": 8,
     "metadata": {},
     "output_type": "execute_result"
    }
   ],
   "source": [
    "import duckdb\n",
    "df = duckdb.query(\n",
    "\"\"\"\n",
    "    SELECT\n",
    "        \"Word / Phrase\" as phrase,\n",
    "        Key AS key,\n",
    "        Value AS value\n",
    "    FROM read_csv_auto('../data/nominatim-special-phrases.csv', HEADER=TRUE)\n",
    "    WHERE Operator = '-'\n",
    "        AND Plural = 'N'\n",
    "\"\"\" \n",
    ").to_df()\n",
    "df.size"
   ]
  },
  {
   "attachments": {},
   "cell_type": "markdown",
   "metadata": {},
   "source": [
    "There are 400+ distinct key/values here"
   ]
  },
  {
   "cell_type": "code",
   "execution_count": 6,
   "metadata": {},
   "outputs": [
    {
     "data": {
      "text/html": [
       "<div>\n",
       "<style scoped>\n",
       "    .dataframe tbody tr th:only-of-type {\n",
       "        vertical-align: middle;\n",
       "    }\n",
       "\n",
       "    .dataframe tbody tr th {\n",
       "        vertical-align: top;\n",
       "    }\n",
       "\n",
       "    .dataframe thead th {\n",
       "        text-align: right;\n",
       "    }\n",
       "</style>\n",
       "<table border=\"1\" class=\"dataframe\">\n",
       "  <thead>\n",
       "    <tr style=\"text-align: right;\">\n",
       "      <th></th>\n",
       "      <th>count_star()</th>\n",
       "    </tr>\n",
       "  </thead>\n",
       "  <tbody>\n",
       "    <tr>\n",
       "      <th>0</th>\n",
       "      <td>410</td>\n",
       "    </tr>\n",
       "  </tbody>\n",
       "</table>\n",
       "</div>"
      ],
      "text/plain": [
       "   count_star()\n",
       "0           410"
      ]
     },
     "execution_count": 6,
     "metadata": {},
     "output_type": "execute_result"
    }
   ],
   "source": [
    "duckdb.query(\"SELECT count(*) FROM (SELECT key, value FROM df GROUP BY key, value)\").to_df()"
   ]
  },
  {
   "cell_type": "code",
   "execution_count": 11,
   "metadata": {},
   "outputs": [
    {
     "name": "stdout",
     "output_type": "stream",
     "text": [
      "Convert each phrase to an Open Street Maps (OSM) tag in key=value format.\n",
      "phrase: Hotel\n",
      "OSM tag: tourism=hotel\n",
      "\n",
      "phrase: Quarry\n",
      "OSM tag: landuse=quarry\n",
      "\n",
      "phrase: Driving School\n",
      "OSM tag: amenity=driving_school\n",
      "\n",
      "phrase: Wood\n",
      "OSM tag: natural=wood\n",
      "\n",
      "phrase: Waste Basket\n",
      "OSM tag: amenity=waste_basket\n",
      "\n",
      "phrase: Station\n",
      "OSM tag: building=train_station\n",
      "\n",
      "phrase: Plaque\n",
      "OSM tag: memorial=plaque\n",
      "\n",
      "phrase: Charity Shop\n",
      "OSM tag: shop=charity\n",
      "\n",
      "phrase: Bureau de Change\n",
      "OSM tag: amenity=bureau_de_change\n",
      "\n",
      "phrase: Motorway Road\n",
      "OSM tag: highway=motorway_link\n",
      "\n",
      "phrase: Monorail\n",
      "OSM tag: railway=monorail\n",
      "\n",
      "phrase: Tailor\n",
      "OSM tag: craft=tailor\n",
      "\n",
      "phrase: Aerodrome\n",
      "OSM tag: aeroway=aerodrome\n",
      "\n",
      "phrase: Pet Shop\n",
      "OSM tag: shop=pet\n",
      "\n",
      "phrase: Bay\n",
      "OSM tag: natural=bay\n",
      "\n",
      "phrase: Farm\n",
      "OSM tag: place=farm\n",
      "\n",
      "phrase: Kneipp Basin\n",
      "OSM tag: amenity=kneipp_water_cure\n",
      "\n",
      "phrase: Video Shop\n",
      "OSM tag: shop=video\n",
      "\n",
      "phrase: Wetland\n",
      "OSM tag: natural=wetland\n",
      "\n",
      "phrase: Municipality\n",
      "OSM tag: place=municipality\n",
      "\n",
      "phrase: Hardware Store\n",
      "OSM tag: shop=hardware\n",
      "\n",
      "phrase: Chapel\n",
      "OSM tag: building=chapel\n",
      "\n",
      "phrase: Suburb\n",
      "OSM tag: place=suburb\n",
      "\n",
      "phrase: Bin\n",
      "OSM tag: amenity=waste_basket\n",
      "\n",
      "phrase: Ford\n",
      "OSM tag: highway=ford\n",
      "\n",
      "phrase: ATM\n",
      "OSM tag: atm=yes\n",
      "\n",
      "phrase: Secondary Road\n",
      "OSM tag: highway=secondary\n",
      "\n",
      "phrase: Subway Entrance\n",
      "OSM tag: railway=subway_entrance\n",
      "\n",
      "phrase: Hairdresser\n",
      "OSM tag: shop=hairdresser\n",
      "\n",
      "phrase: Nature Reserve\n",
      "OSM tag: leisure=nature_reserve\n",
      "\n",
      "phrase: Railway under Construction\n",
      "OSM tag:  railway = construction\n"
     ]
    }
   ],
   "source": [
    "import random\n",
    "rows = list(df.itertuples(index=False))\n",
    "random.shuffle(rows)\n",
    "\n",
    "print(\"\"\"Convert each phrase to an Open Street Maps (OSM) tag in key=value format.\"\"\")\n",
    "\n",
    "for row in rows[:30]:\n",
    "    print(f\"phrase: {row.phrase}\")\n",
    "    print(f\"OSM tag: {row.key}={row.value}\")\n",
    "    print()\n",
    "    \n",
    "row = rows[30]\n",
    "print(f\"phrase: {row.phrase}\")\n",
    "print(\"OSM tag: \", row.key, \"=\", row.value)\n"
   ]
  },
  {
   "attachments": {},
   "cell_type": "markdown",
   "metadata": {},
   "source": [
    "```\n",
    "phrase: Electrician\n",
    "OSM tag: craft=electrician\n",
    "```"
   ]
  },
  {
   "attachments": {},
   "cell_type": "markdown",
   "metadata": {},
   "source": [
    "```\n",
    "phrase: Glacier\n",
    "OSM tag: natural=glacier\n",
    "```"
   ]
  },
  {
   "attachments": {},
   "cell_type": "markdown",
   "metadata": {},
   "source": [
    "```\n",
    "phrase: Minor Road\n",
    "OSM tag: highway=minor_road\n",
    "Expected: highway=minor\n",
    "```"
   ]
  },
  {
   "cell_type": "markdown",
   "metadata": {},
   "source": [
    "```\n",
    "phrase: Wine Shop\n",
    "OSM tag: shop=alcohol\n",
    "Expected: shop=wine"
   ]
  },
  {
   "attachments": {},
   "cell_type": "markdown",
   "metadata": {},
   "source": [
    "```\n",
    "phrase: Cemetery\n",
    "OSM tag: landuse=cemetery\n",
    "```"
   ]
  },
  {
   "attachments": {},
   "cell_type": "markdown",
   "metadata": {},
   "source": [
    "```\n",
    "phrase: Ethiopian\n",
    "OSM tag: cuisine=ethiopian\n",
    "```"
   ]
  },
  {
   "attachments": {},
   "cell_type": "markdown",
   "metadata": {},
   "source": [
    "Note this will only match modern  wind turbines: https://wiki.openstreetmap.org/wiki/Tag:man_made%3Dwindmill"
   ]
  },
  {
   "attachments": {},
   "cell_type": "markdown",
   "metadata": {},
   "source": [
    "```\n",
    "phrase: wind mills\n",
    "OSM tag: man_made=windmill\n",
    "```"
   ]
  },
  {
   "attachments": {},
   "cell_type": "markdown",
   "metadata": {},
   "source": [
    "```\n",
    "phrase: Phone Booth\n",
    "OSM tag: amenity=telephone\n",
    "```"
   ]
  },
  {
   "attachments": {},
   "cell_type": "markdown",
   "metadata": {},
   "source": [
    "```\n",
    "phrase: Subway Station\n",
    "OSM tag: public_transport=subway_entrance\n",
    "Expected: railway=subway\n",
    "```\n",
    "\n",
    "Not the correct tag for a railway station either: public_transport=subway_entrance"
   ]
  },
  {
   "cell_type": "markdown",
   "metadata": {},
   "source": [
    "```\n",
    "phrase: Residential Area\n",
    "OSM tag: landuse=residential\n",
    "```"
   ]
  },
  {
   "attachments": {},
   "cell_type": "markdown",
   "metadata": {},
   "source": [
    "```\n",
    "phrase: Hi-Fi\n",
    "OSM tag: shop=electronics\n",
    "expcected: shop=hifi\n",
    "```"
   ]
  },
  {
   "attachments": {},
   "cell_type": "markdown",
   "metadata": {},
   "source": [
    "```\n",
    "phrase: Marsh\n",
    "OSM tag: natural=marsh\n",
    "```"
   ]
  },
  {
   "attachments": {},
   "cell_type": "markdown",
   "metadata": {},
   "source": [
    "12 queries. 8 correct."
   ]
  }
 ],
 "metadata": {
  "kernelspec": {
   "display_name": "Python 3.10.8 ('env': venv)",
   "language": "python",
   "name": "python3"
  },
  "language_info": {
   "codemirror_mode": {
    "name": "ipython",
    "version": 3
   },
   "file_extension": ".py",
   "mimetype": "text/x-python",
   "name": "python",
   "nbconvert_exporter": "python",
   "pygments_lexer": "ipython3",
   "version": "3.10.8"
  },
  "orig_nbformat": 4,
  "vscode": {
   "interpreter": {
    "hash": "f7b02fc0b30ee7be6f90fe6b5c0a7e215f00226b9f2791e0036cca5eac8b96d0"
   }
  }
 },
 "nbformat": 4,
 "nbformat_minor": 2
}
