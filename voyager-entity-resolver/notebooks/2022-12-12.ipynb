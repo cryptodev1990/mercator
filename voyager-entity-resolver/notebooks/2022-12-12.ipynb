{
 "cells": [
  {
   "attachments": {},
   "cell_type": "markdown",
   "metadata": {},
   "source": [
    "# Data Generators"
   ]
  },
  {
   "cell_type": "code",
   "execution_count": 15,
   "metadata": {},
   "outputs": [
    {
     "data": {
      "text/plain": [
       "[TextToSQL(sql=\"\\n    SELECT osm_id\\n    FROM osm\\n    WHERE tags ->> 'aerialway' = 'zip_line'\\n    \", text='zip line'),\n",
       " TextToSQL(sql=\"\\n    SELECT osm_id\\n    FROM osm\\n    WHERE tags ->> 'aerialway' = 'zip_line'\\n    \", text='zip lines'),\n",
       " TextToSQL(sql=\"\\n    SELECT osm_id\\n    FROM osm\\n    WHERE tags ->> 'aerialway' = 'zip_line'\\n    \", text='zip wire'),\n",
       " TextToSQL(sql=\"\\n    SELECT osm_id\\n    FROM osm\\n    WHERE tags ->> 'aerialway' = 'zip_line'\\n    \", text='zip wires'),\n",
       " TextToSQL(sql=\"\\n    SELECT osm_id\\n    FROM osm\\n    WHERE tags ->> 'aerialway' = 'zip_line'\\n    \", text='zipline'),\n",
       " TextToSQL(sql=\"\\n    SELECT osm_id\\n    FROM osm\\n    WHERE tags ->> 'aerialway' = 'zip_line'\\n    \", text='ziplines'),\n",
       " TextToSQL(sql=\"\\n    SELECT osm_id\\n    FROM osm\\n    WHERE tags ->> 'aerialway' = 'zip_line'\\n    \", text='zipwire'),\n",
       " TextToSQL(sql=\"\\n    SELECT osm_id\\n    FROM osm\\n    WHERE tags ->> 'aerialway' = 'zip_line'\\n    \", text='zipwires'),\n",
       " TextToSQL(sql=\"\\n    SELECT osm_id\\n    FROM osm\\n    WHERE tags ->> 'aeroway' = 'aerodrome'\\n    \", text='aerodrome'),\n",
       " TextToSQL(sql=\"\\n    SELECT osm_id\\n    FROM osm\\n    WHERE tags ->> 'aeroway' = 'aerodrome'\\n    \", text='aerodromes')]"
      ]
     },
     "execution_count": 15,
     "metadata": {},
     "output_type": "execute_result"
    }
   ],
   "source": [
    "import duckdb\n",
    "import jinja2 as j2\n",
    "import re\n",
    "import json\n",
    "from typing import Generator\n",
    "import pydantic\n",
    "from itertools import islice\n",
    "from ruamel.yaml import YAML\n",
    "from itertools import islice\n",
    "\n",
    "OSM_TABLENAME = \"osm\"\n",
    "ENV = j2.Environment()\n",
    "\n",
    "def quote(value: str) -> str:\n",
    "    value = re.sub(r\"'\", r\"\\\\'\", value)\n",
    "    return f\"'{value}'\"\n",
    "\n",
    "ENV.filters[\"quote\"] = quote\n",
    "\n",
    "class TextToSQL(pydantic.BaseModel):\n",
    "    sql: str\n",
    "    text: str\n",
    "\n",
    "def load_special_phrases() -> Generator[TextToSQL, None, None]:\n",
    "\n",
    "    df = duckdb.query(\n",
    "    \"\"\"\n",
    "    SELECT\n",
    "        lower(\"Word / Phrase\") as phrase,\n",
    "        Key AS key,\n",
    "        Value AS value\n",
    "    FROM read_csv_auto('../data/nominatim-special-phrases.csv', HEADER=TRUE)\n",
    "    WHERE Operator = '-'\n",
    "    \"\"\" \n",
    "    ).to_df()\n",
    "    \n",
    "    template = \"\"\"\n",
    "    SELECT osm_id\n",
    "    FROM {{tablename}}\n",
    "    WHERE tags ->> {{key | quote}} = {{value | quote}}\n",
    "    \"\"\"\n",
    "    \n",
    "    output = []\n",
    "    for i, row in df.iterrows():\n",
    "        sql = ENV.from_string(template).render(tablename=OSM_TABLENAME, key=row.key, value=row.value)\n",
    "        yield TextToSQL(text=row.phrase, sql=sql)\n",
    "\n",
    "list(islice(load_special_phrases(), 10))"
   ]
  },
  {
   "cell_type": "code",
   "execution_count": 13,
   "metadata": {},
   "outputs": [
    {
     "data": {
      "text/plain": [
       "[TextToSQL(sql=\"\\n        SELECT *\\n        FROM osm\\n        WHERE TRUE\\n        \\n        \\n        tags ? 'aerialway'\\n        \\n        \\n        \", text='aerialway feature'),\n",
       " TextToSQL(sql=\"\\n        SELECT *\\n        FROM osm\\n        WHERE TRUE\\n        \\n        \\n        tags ? 'aeroway'\\n        \\n        \\n        \", text='aeroway feature'),\n",
       " TextToSQL(sql=\"\\n        SELECT *\\n        FROM osm\\n        WHERE TRUE\\n        \\n        \\n        tags ? 'amenity'\\n        \\n        \\n        \", text='amenity'),\n",
       " TextToSQL(sql=\"\\n        SELECT *\\n        FROM osm\\n        WHERE TRUE\\n        \\n        \\n        tags ? 'attraction'\\n        \\n        \\n        \", text='attraction'),\n",
       " TextToSQL(sql=\"\\n        SELECT *\\n        FROM osm\\n        WHERE TRUE\\n        \\n        \\n        tags ? 'boundary'\\n        \\n        \\n        \", text='boundary'),\n",
       " TextToSQL(sql=\"\\n        SELECT *\\n        FROM osm\\n        WHERE TRUE\\n        \\n        \\n        tags ? 'building'\\n        \\n        \\n        \", text='building'),\n",
       " TextToSQL(sql=\"\\n        SELECT *\\n        FROM osm\\n        WHERE TRUE\\n        \\n        \\n        tags ->> 'embankment' = 'yes'\\n        \\n        \\n        \", text='embankment'),\n",
       " TextToSQL(sql=\"\\n        SELECT *\\n        FROM osm\\n        WHERE TRUE\\n        \\n        \\n        tags ? 'emergency'\\n        \\n        \\n        \", text='emergency feature'),\n",
       " TextToSQL(sql=\"\\n        SELECT *\\n        FROM osm\\n        WHERE TRUE\\n        \\n        \\n        tags ? 'ford'\\n        \\n        \\n        \", text='ford'),\n",
       " TextToSQL(sql=\"\\n        SELECT *\\n        FROM osm\\n        WHERE TRUE\\n        \\n        \\n        tags ? 'highway'\\n        \\n        \\n        \", text='highway feature')]"
      ]
     },
     "execution_count": 13,
     "metadata": {},
     "output_type": "execute_result"
    }
   ],
   "source": [
    "def load_id_presets() -> Generator[TextToSQL, None, None]:\n",
    "    \"\"\"Yield examples of query text and SQL to run for each preset in the ID tagging schema.\"\"\"\n",
    "    tmpl = \"\"\"\n",
    "        SELECT *\n",
    "        FROM osm\n",
    "        WHERE TRUE\n",
    "        {% for tag, value in tags.items() %}\n",
    "        {% if value == \"*\" %}\n",
    "        tags ? {{ tag | quote }}\n",
    "        {% else %}\n",
    "        tags ->> {{ tag | quote }} = {{ value | quote }}\n",
    "        {% endif %}\n",
    "        {% endfor %}\n",
    "        \"\"\"    \n",
    "    with open(\"../data/id-tagging-schema/presets.json\", \"r\") as f:\n",
    "        presets = json.load(f)\n",
    "    with open(\"../data/id-tagging-schema/translations.en.json\", \"r\") as f:\n",
    "        translations = json.load(f)\n",
    "\n",
    "    for k, v in translations[\"en\"][\"presets\"][\"presets\"].items():\n",
    "        if k not in presets:\n",
    "            print(f\"{k} not in presets\")\n",
    "        else:\n",
    "            presets[k].update(v)\n",
    "\n",
    "    for k, v in presets.items():\n",
    "        terms = v.get(\"terms\", \"\")\n",
    "        presets[k][\"terms\"] = [x.strip() for x in terms.split(\",\") if x.strip() != \"\"]\n",
    "\n",
    "    for k, v in presets.items():  \n",
    "        aliases = v.get(\"aliases\", \"\")\n",
    "        presets[k][\"aliases\"] = [x.strip() for x in aliases.splitlines() if x.strip() != \"\"]\n",
    "        \n",
    "    for p in presets.values():\n",
    "        queries = [\n",
    "            p[\"name\"].lower(),\n",
    "            *[term.lower() for term in p[\"terms\"]],\n",
    "            *[alias.lower() for alias in p[\"aliases\"]]\n",
    "        ]\n",
    "        for q in queries:\n",
    "            if not q:\n",
    "                continue\n",
    "            tags = p[\"tags\"]\n",
    "            sql = ENV.from_string(tmpl).render(tablename=OSM_TABLENAME, tags=tags)\n",
    "            yield TextToSQL(text=q, sql=sql)\n",
    "            \n",
    "list(islice(load_id_presets(), 10))"
   ]
  },
  {
   "cell_type": "code",
   "execution_count": 16,
   "metadata": {},
   "outputs": [
    {
     "data": {
      "text/plain": [
       "[TextToSQL(sql='\\n    SELECT *\\n    FROM osm\\n    WHERE FALSE\\n     \\n    \\n    OR power=line\\n    \\n     \\n    \\n    OR power=minor_line\\n    \\n     \\n    \\n    OR power=cable\\n    \\n    \\n    ;\\n    ', text='power lines'),\n",
       " TextToSQL(sql='\\n    SELECT *\\n    FROM osm\\n    WHERE FALSE\\n     \\n    \\n    OR power=plant\\n    \\n    \\n    ;\\n    ', text='powerplants'),\n",
       " TextToSQL(sql='\\n    SELECT *\\n    FROM osm\\n    WHERE FALSE\\n     \\n    \\n    OR power=plant\\n    \\n    \\n    ;\\n    ', text='power plants'),\n",
       " TextToSQL(sql='\\n    SELECT *\\n    FROM osm\\n    WHERE FALSE\\n     \\n    \\n    OR power=substation\\n    \\n    \\n    ;\\n    ', text='power stations'),\n",
       " TextToSQL(sql='\\n    SELECT *\\n    FROM osm\\n    WHERE FALSE\\n     \\n    \\n    OR cusisine=ethiopian\\n    \\n    \\n    ;\\n    ', text='ethiopian'),\n",
       " TextToSQL(sql='\\n    SELECT *\\n    FROM osm\\n    WHERE FALSE\\n     \\n    \\n    OR cusisine=ethiopian\\n    \\n    \\n    ;\\n    ', text='ethiopian food'),\n",
       " TextToSQL(sql='\\n    SELECT *\\n    FROM osm\\n    WHERE FALSE\\n     \\n    \\n    OR (TRUE\\n        \\n        AND cusisine=ethiopian\\n        \\n        AND amenity=restaurant\\n        \\n    )\\n    \\n    \\n    ;\\n    ', text='ethiopian restaurant'),\n",
       " TextToSQL(sql='\\n    SELECT *\\n    FROM osm\\n    WHERE FALSE\\n     \\n    \\n    OR railway=station\\n    \\n    \\n    ;\\n    ', text='train stations'),\n",
       " TextToSQL(sql='\\n    SELECT *\\n    FROM osm\\n    WHERE FALSE\\n     \\n    \\n    OR railway=station\\n    \\n    \\n    ;\\n    ', text='train'),\n",
       " TextToSQL(sql='\\n    SELECT *\\n    FROM osm\\n    WHERE FALSE\\n     \\n    \\n    OR landuse=retail\\n    \\n    \\n    ;\\n    ', text='retail area')]"
      ]
     },
     "execution_count": 16,
     "metadata": {},
     "output_type": "execute_result"
    }
   ],
   "source": [
    "yaml = YAML()\n",
    "\n",
    "def load_queries() -> Generator[TextToSQL, None, None]:\n",
    "    \"\"\"Yield some manually defined queries\"\"\"\n",
    "    with open(\"../data/queries.yml\", \"r\") as f:\n",
    "        queries = yaml.load(f)\n",
    "    tmpl = \"\"\"\n",
    "    SELECT *\n",
    "    FROM osm\n",
    "    WHERE FALSE\n",
    "    {% for tag in tags %} {# assume at least one tag #}\n",
    "    {% if tag is string %}\n",
    "    OR {{ tag }}\n",
    "    {% else %}\n",
    "    OR (TRUE\n",
    "        {% for tv in tag %}\n",
    "        AND {{ tv }}\n",
    "        {%  endfor %}\n",
    "    )\n",
    "    {% endif %}\n",
    "    {% endfor %}\n",
    "    ;\n",
    "    \"\"\"\n",
    "    for q in queries:\n",
    "        tags = q[\"tags\"]\n",
    "        sql = ENV.from_string(tmpl).render(tags=tags)\n",
    "        yield TextToSQL(text=q[\"text\"], sql=sql)\n",
    "\n",
    "list(islice(load_queries(), 10))"
   ]
  }
 ],
 "metadata": {
  "kernelspec": {
   "display_name": "Python 3.10.8 ('env': venv)",
   "language": "python",
   "name": "python3"
  },
  "language_info": {
   "codemirror_mode": {
    "name": "ipython",
    "version": 3
   },
   "file_extension": ".py",
   "mimetype": "text/x-python",
   "name": "python",
   "nbconvert_exporter": "python",
   "pygments_lexer": "ipython3",
   "version": "3.10.8"
  },
  "orig_nbformat": 4,
  "vscode": {
   "interpreter": {
    "hash": "f7b02fc0b30ee7be6f90fe6b5c0a7e215f00226b9f2791e0036cca5eac8b96d0"
   }
  }
 },
 "nbformat": 4,
 "nbformat_minor": 2
}
