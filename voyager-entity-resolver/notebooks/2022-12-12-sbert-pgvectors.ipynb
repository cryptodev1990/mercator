{
 "cells": [
  {
   "attachments": {},
   "cell_type": "markdown",
   "metadata": {},
   "source": [
    "## Sentence Embedding Exploration and PgVectors (2022-12-12)\n",
    "\n",
    "- Initial exploration of sentence embeddings\n",
    "- No harder than word embeddings\n",
    "- Off the shelf works somewhat better than word embeddings anecdotally\n",
    "- Used model `all-MiniLM-L6-v2` - did not explore other models. Reason: time. Will consider other models in the future.\n",
    "- No problem setting up pgvector\n",
    "- Took a more than an hour to load 40k word vectors into posgres. Caveat - using batch updates / inserts or other\n",
    "  loading tricks could help."
   ]
  },
  {
   "cell_type": "code",
   "execution_count": 14,
   "metadata": {},
   "outputs": [],
   "source": [
    "import sqlalchemy as sa\n",
    "from sqlalchemy import create_engine\n",
    "engine = create_engine(\"postgresql+psycopg2://jeffreyarnold@localhost:5432/osm\", future=True)\n",
    "\n",
    "from sqlalchemy import text\n",
    "with engine.connect() as conn:\n",
    "    features = conn.execute(text(\"SELECT osm_id, tags FROM  osm TABLESAMPLE SYSTEM (1) LIMIT 10\")).fetchall()\n",
    "\n",
    "from typing import Dict, Any\n",
    "import spacy\n",
    "from typing import List\n",
    "import itertools\n",
    "import re\n",
    "\n",
    "class Documentizer:\n",
    "\n",
    "    def __init__(self) -> None:\n",
    "        pass\n",
    "    \n",
    "    def _key_cleaner(self, key: str) -> str:\n",
    "        key = re.sub(\"[_:]\", \" \", key)\n",
    "        return key\n",
    "    \n",
    "    def _value_cleaner(self, value: str) -> str:\n",
    "        value = value.replace(\"yes\", \"\").replace(\"no\", \"\").strip()\n",
    "        # _ splits \"coffe_shop\" into \"coffe shop\"\n",
    "        # ; is needed to split lists of values like \"american;burger;fast_food\" into \"american burger fast food\"\n",
    "        value = re.sub(\"[_;]\", \" \", value)\n",
    "        return value  \n",
    "    \n",
    "    def _tag_filter(self, key: str, value: str) -> List[str]:\n",
    "        if value == \"no\":\n",
    "            return []\n",
    "        return [self._key_cleaner(key), self._value_cleaner(value)]\n",
    "    \n",
    "    def __call__(self, tags: Dict[str, Any]) -> str:\n",
    "        return \" \".join(itertools.chain.from_iterable(self._tag_filter(k, v) for k, v in tags.items()))\n"
   ]
  },
  {
   "cell_type": "code",
   "execution_count": 15,
   "metadata": {},
   "outputs": [],
   "source": [
    "import sentence_transformers\n",
    "from sentence_transformers import SentenceTransformer, util\n",
    "import torch\n",
    "\n",
    "embedder = SentenceTransformer('all-MiniLM-L6-v2')\n"
   ]
  },
  {
   "cell_type": "code",
   "execution_count": 16,
   "metadata": {},
   "outputs": [],
   "source": [
    "import jinja2 as j2\n",
    "ENV = j2.Environment(undefined=j2.StrictUndefined)\n",
    "\n",
    "from spacy.tokens import Doc\n",
    "\n",
    "if not Doc.has_extension(\"osm_id\"):\n",
    "    Doc.set_extension(\"osm_id\", default=None)\n",
    "    \n",
    "# Oakland bbox\n",
    "bbox = (-122.350244,37.698079,-122.112321,37.850861)\n",
    "\n",
    "query =\"\"\"\n",
    "SELECT osm_id, tags\n",
    "FROM osm\n",
    "WHERE geom && ST_MakeEnvelope({{bbox | join(\",\")}}, 4326)\n",
    "    AND osm_type = 'N'\n",
    "LIMIT 500000\n",
    "\"\"\"\n",
    "\n",
    "query = ENV.from_string(query).render(bbox=bbox)\n",
    "\n",
    "docs = []\n",
    "\n",
    "import itertools\n",
    "\n",
    "documentizer = Documentizer()\n",
    "\n",
    "with engine.connect() as conn:\n",
    "    features = conn.execute(text(query))\n",
    "    documents = [{\"osm_id\": row.osm_id, \"tags\": row.tags, \"text\": documentizer(row.tags)} for row in features]\n"
   ]
  },
  {
   "cell_type": "code",
   "execution_count": null,
   "metadata": {},
   "outputs": [],
   "source": [
    "corpus = [doc[\"text\"] for doc in documents]\n",
    "\n",
    "corpus_embeddings = embedder.encode(corpus, convert_to_tensor=True)"
   ]
  },
  {
   "cell_type": "code",
   "execution_count": 17,
   "metadata": {},
   "outputs": [
    {
     "name": "stdout",
     "output_type": "stream",
     "text": [
      "\n",
      "\n",
      "======================\n",
      "\n",
      "\n",
      "Query: cafe\n",
      "\n",
      "Top 5 most similar sentences in corpus:\n",
      "name Cafe 88 amenity cafe (Score: 0.7526)\n",
      "name Caffe 817 amenity cafe (Score: 0.7185)\n",
      "amenity cafe (Score: 0.7131)\n",
      "amenity cafe (Score: 0.7131)\n",
      "name Comeback Cafe amenity cafe (Score: 0.7073)\n",
      "\n",
      "\n",
      "======================\n",
      "\n",
      "\n",
      "Query: coffee shop\n",
      "\n",
      "Top 5 most similar sentences in corpus:\n",
      "name Beanery Coffee Roasters shop coffee amenity cafe (Score: 0.6642)\n",
      "amenity cafe cuisine coffee shop (Score: 0.6619)\n",
      "name Starbucks amenity cafe cuisine coffee shop (Score: 0.6433)\n",
      "name Coffee Cultures amenity cafe cuisine coffee shop (Score: 0.6372)\n",
      "name Peerless Coffee and Tea Espresso and Shop amenity cafe (Score: 0.6253)\n",
      "\n",
      "\n",
      "======================\n",
      "\n",
      "\n",
      "Query: wind mill\n",
      "\n",
      "Top 5 most similar sentences in corpus:\n",
      "name Wind River Systems office company (Score: 0.5386)\n",
      "leisure garden (Score: 0.4158)\n",
      "name Wing Lee Cleaners shop dry cleaning (Score: 0.4135)\n",
      "name Kitesurf Launch sport windsurfing;kitesurfing;wingsurfing leisure slipway website https://www.sfba.org/alameda.html (Score: 0.4112)\n",
      "name Wah Hang Market(2) shop greengrocer (Score: 0.4056)\n",
      "\n",
      "\n",
      "======================\n",
      "\n",
      "\n",
      "Query: wind mills\n",
      "\n",
      "Top 5 most similar sentences in corpus:\n",
      "name Wind River Systems office company (Score: 0.5677)\n",
      "name Kitesurf Launch sport windsurfing;kitesurfing;wingsurfing leisure slipway website https://www.sfba.org/alameda.html (Score: 0.4283)\n",
      "name Iron Works craft metal construction (Score: 0.3986)\n",
      "name Oakland Radiosonde Station man made monitoring station operator US National Weather Service manufacturer Vaisala monitoring wind  monitoring weather  (Score: 0.3871)\n",
      "name Pacific Ranges and Hoods shop appliance (Score: 0.3767)\n",
      "\n",
      "\n",
      "======================\n",
      "\n",
      "\n",
      "Query: ethiopian restraunt\n",
      "\n",
      "Top 5 most similar sentences in corpus:\n",
      "name Shewhat cafe phone 5102509533 amenity restaurant cuisine ethiopian (Score: 0.5253)\n",
      "name Messob Ethiopian Restaurant amenity restaurant (Score: 0.5135)\n",
      "name Asmara phone (510) 547-5100 amenity restaurant cuisine ethiopian website http://asmararestaurant.com/ takeaway  addr city Oakland wheelchair  addr street Telegraph Avenue addr postcode 94609 opening hours Tu-Su 11:30-22:30 (Score: 0.5103)\n",
      "name Lemat phone +15104302717 amenity restaurant cuisine ethiopian website https://www.lematethiorestaurant.com/ addr street Adeline Street addr postcode 94703 opening hours We-Mo 12:00-22:00 addr housenumber 3212 (Score: 0.4611)\n",
      "name Ras Dashen Ethiopian Market phone +15109229412 amenity marketplace addr street Telegraph Avenue addr housenumber 5831 (Score: 0.4593)\n",
      "\n",
      "\n",
      "======================\n",
      "\n",
      "\n",
      "Query: train\n",
      "\n",
      "Top 5 most similar sentences in corpus:\n",
      "railway crossing (Score: 0.5742)\n",
      "railway crossing (Score: 0.5742)\n",
      "railway crossing (Score: 0.5742)\n",
      "railway crossing (Score: 0.5742)\n",
      "railway crossing (Score: 0.5742)\n",
      "\n",
      "\n",
      "======================\n",
      "\n",
      "\n",
      "Query: arport\n",
      "\n",
      "Top 5 most similar sentences in corpus:\n",
      "name The Port Workspaces office coworking website http://portworkspaces.com/ addr city Oakland addr state CA addr street Thomas L. Berkley Way opening hours Mo-Fr 08:00-18:00 internet access wlan addr housenumber 344 internet access fee  internet access ssid ThePortMall (Score: 0.3800)\n",
      "name The Port Bar amenity bar (Score: 0.3682)\n",
      "waterway dock (Score: 0.3655)\n",
      "name Oakland Port Street (Score: 0.3642)\n",
      "aerialway station public transport station (Score: 0.3332)\n"
     ]
    }
   ],
   "source": [
    "# Query sentences:\n",
    "queries = [\"cafe\", \"coffee shop\", \"wind mill\", \"wind mills\", \"ethiopian restraunt\", \"train\", \"arport\"]\n",
    "\n",
    "# Find the closest 5 sentences of the corpus for each query sentence based on cosine similarity\n",
    "top_k = min(5, len(corpus))\n",
    "for query in queries:\n",
    "    query_embedding = embedder.encode(query, convert_to_tensor=True)\n",
    "\n",
    "    # We use cosine-similarity and torch.topk to find the highest 5 scores\n",
    "    cos_scores = util.cos_sim(query_embedding, corpus_embeddings)[0]\n",
    "    top_results = torch.topk(cos_scores, k=top_k)\n",
    "\n",
    "    print(\"\\n\\n======================\\n\\n\")\n",
    "    print(\"Query:\", query)\n",
    "    print(\"\\nTop 5 most similar sentences in corpus:\")\n",
    "\n",
    "    for score, idx in zip(top_results[0], top_results[1]):\n",
    "        print(corpus[idx], \"(Score: {:.4f})\".format(score))\n",
    "\n",
    "    \"\"\"\n",
    "    # Alternatively, we can also use util.semantic_search to perform cosine similarty + topk\n",
    "    hits = util.semantic_search(query_embedding, corpus_embeddings, top_k=5)\n",
    "    hits = hits[0]      #Get the hits for the first query\n",
    "    for hit in hits:\n",
    "        print(corpus[hit['corpus_id']], \"(Score: {:.4f})\".format(hit['score']))\n",
    "    \"\"\""
   ]
  },
  {
   "attachments": {},
   "cell_type": "markdown",
   "metadata": {},
   "source": [
    "# pgvector extension\n",
    "\n",
    "Proof of concept to load vectors into Postgres using [pgvector](https://github.com/pgvector/pgvector)"
   ]
  },
  {
   "cell_type": "code",
   "execution_count": 37,
   "metadata": {},
   "outputs": [],
   "source": [
    "with engine.connect() as conn:\n",
    "    conn.execute(text(\"CREATE EXTENSION IF NOT EXISTS vector\"))\n",
    "    conn.execute(text(\"ALTER TABLE osm ADD COLUMN embedding vector(384)\"))"
   ]
  },
  {
   "attachments": {},
   "cell_type": "markdown",
   "metadata": {},
   "source": [
    "killed the upload after 89 minutes. \n"
   ]
  },
  {
   "cell_type": "code",
   "execution_count": 40,
   "metadata": {},
   "outputs": [
    {
     "ename": "KeyboardInterrupt",
     "evalue": "",
     "output_type": "error",
     "traceback": [
      "\u001b[0;31m---------------------------------------------------------------------------\u001b[0m",
      "\u001b[0;31mKeyboardInterrupt\u001b[0m                         Traceback (most recent call last)",
      "Cell \u001b[0;32mIn[40], line 4\u001b[0m\n\u001b[1;32m      2\u001b[0m \u001b[39mfor\u001b[39;00m i, doc \u001b[39min\u001b[39;00m \u001b[39menumerate\u001b[39m(documents):\n\u001b[1;32m      3\u001b[0m     embed \u001b[39m=\u001b[39m \u001b[39mstr\u001b[39m(\u001b[39mlist\u001b[39m(corpus_embeddings[i]\u001b[39m.\u001b[39mnumpy()))\n\u001b[0;32m----> 4\u001b[0m     conn\u001b[39m.\u001b[39;49mexecute(text(\u001b[39m\"\"\"\u001b[39;49m\n\u001b[1;32m      5\u001b[0m \u001b[39m    UPDATE osm\u001b[39;49m\n\u001b[1;32m      6\u001b[0m \u001b[39m    SET embedding = :embed\u001b[39;49m\n\u001b[1;32m      7\u001b[0m \u001b[39m    WHERE osm_id = :osm_id\u001b[39;49m\n\u001b[1;32m      8\u001b[0m \u001b[39m    \u001b[39;49m\u001b[39m\"\"\"\u001b[39;49m), {\u001b[39m\"\u001b[39;49m\u001b[39membed\u001b[39;49m\u001b[39m\"\u001b[39;49m: embed, \u001b[39m\"\u001b[39;49m\u001b[39mosm_id\u001b[39;49m\u001b[39m\"\u001b[39;49m: doc[\u001b[39m\"\u001b[39;49m\u001b[39mosm_id\u001b[39;49m\u001b[39m\"\u001b[39;49m]})\n",
      "File \u001b[0;32m~/mercator/voyager-entity-resolver/env/lib/python3.10/site-packages/sqlalchemy/future/engine.py:280\u001b[0m, in \u001b[0;36mConnection.execute\u001b[0;34m(self, statement, parameters, execution_options)\u001b[0m\n\u001b[1;32m    248\u001b[0m \u001b[39mdef\u001b[39;00m \u001b[39mexecute\u001b[39m(\u001b[39mself\u001b[39m, statement, parameters\u001b[39m=\u001b[39m\u001b[39mNone\u001b[39;00m, execution_options\u001b[39m=\u001b[39m\u001b[39mNone\u001b[39;00m):\n\u001b[1;32m    249\u001b[0m     \u001b[39mr\u001b[39m\u001b[39m\"\"\"Executes a SQL statement construct and returns a\u001b[39;00m\n\u001b[1;32m    250\u001b[0m \u001b[39m    :class:`_engine.Result`.\u001b[39;00m\n\u001b[1;32m    251\u001b[0m \n\u001b[0;32m   (...)\u001b[0m\n\u001b[1;32m    278\u001b[0m \n\u001b[1;32m    279\u001b[0m \u001b[39m    \"\"\"\u001b[39;00m\n\u001b[0;32m--> 280\u001b[0m     \u001b[39mreturn\u001b[39;00m \u001b[39mself\u001b[39;49m\u001b[39m.\u001b[39;49m_execute_20(\n\u001b[1;32m    281\u001b[0m         statement, parameters, execution_options \u001b[39mor\u001b[39;49;00m NO_OPTIONS\n\u001b[1;32m    282\u001b[0m     )\n",
      "File \u001b[0;32m~/mercator/voyager-entity-resolver/env/lib/python3.10/site-packages/sqlalchemy/engine/base.py:1705\u001b[0m, in \u001b[0;36mConnection._execute_20\u001b[0;34m(self, statement, parameters, execution_options)\u001b[0m\n\u001b[1;32m   1701\u001b[0m     util\u001b[39m.\u001b[39mraise_(\n\u001b[1;32m   1702\u001b[0m         exc\u001b[39m.\u001b[39mObjectNotExecutableError(statement), replace_context\u001b[39m=\u001b[39merr\n\u001b[1;32m   1703\u001b[0m     )\n\u001b[1;32m   1704\u001b[0m \u001b[39melse\u001b[39;00m:\n\u001b[0;32m-> 1705\u001b[0m     \u001b[39mreturn\u001b[39;00m meth(\u001b[39mself\u001b[39;49m, args_10style, kwargs_10style, execution_options)\n",
      "File \u001b[0;32m~/mercator/voyager-entity-resolver/env/lib/python3.10/site-packages/sqlalchemy/sql/elements.py:334\u001b[0m, in \u001b[0;36mClauseElement._execute_on_connection\u001b[0;34m(self, connection, multiparams, params, execution_options, _force)\u001b[0m\n\u001b[1;32m    330\u001b[0m \u001b[39mdef\u001b[39;00m \u001b[39m_execute_on_connection\u001b[39m(\n\u001b[1;32m    331\u001b[0m     \u001b[39mself\u001b[39m, connection, multiparams, params, execution_options, _force\u001b[39m=\u001b[39m\u001b[39mFalse\u001b[39;00m\n\u001b[1;32m    332\u001b[0m ):\n\u001b[1;32m    333\u001b[0m     \u001b[39mif\u001b[39;00m _force \u001b[39mor\u001b[39;00m \u001b[39mself\u001b[39m\u001b[39m.\u001b[39msupports_execution:\n\u001b[0;32m--> 334\u001b[0m         \u001b[39mreturn\u001b[39;00m connection\u001b[39m.\u001b[39;49m_execute_clauseelement(\n\u001b[1;32m    335\u001b[0m             \u001b[39mself\u001b[39;49m, multiparams, params, execution_options\n\u001b[1;32m    336\u001b[0m         )\n\u001b[1;32m    337\u001b[0m     \u001b[39melse\u001b[39;00m:\n\u001b[1;32m    338\u001b[0m         \u001b[39mraise\u001b[39;00m exc\u001b[39m.\u001b[39mObjectNotExecutableError(\u001b[39mself\u001b[39m)\n",
      "File \u001b[0;32m~/mercator/voyager-entity-resolver/env/lib/python3.10/site-packages/sqlalchemy/engine/base.py:1572\u001b[0m, in \u001b[0;36mConnection._execute_clauseelement\u001b[0;34m(self, elem, multiparams, params, execution_options)\u001b[0m\n\u001b[1;32m   1560\u001b[0m compiled_cache \u001b[39m=\u001b[39m execution_options\u001b[39m.\u001b[39mget(\n\u001b[1;32m   1561\u001b[0m     \u001b[39m\"\u001b[39m\u001b[39mcompiled_cache\u001b[39m\u001b[39m\"\u001b[39m, \u001b[39mself\u001b[39m\u001b[39m.\u001b[39mengine\u001b[39m.\u001b[39m_compiled_cache\n\u001b[1;32m   1562\u001b[0m )\n\u001b[1;32m   1564\u001b[0m compiled_sql, extracted_params, cache_hit \u001b[39m=\u001b[39m elem\u001b[39m.\u001b[39m_compile_w_cache(\n\u001b[1;32m   1565\u001b[0m     dialect\u001b[39m=\u001b[39mdialect,\n\u001b[1;32m   1566\u001b[0m     compiled_cache\u001b[39m=\u001b[39mcompiled_cache,\n\u001b[0;32m   (...)\u001b[0m\n\u001b[1;32m   1570\u001b[0m     linting\u001b[39m=\u001b[39m\u001b[39mself\u001b[39m\u001b[39m.\u001b[39mdialect\u001b[39m.\u001b[39mcompiler_linting \u001b[39m|\u001b[39m compiler\u001b[39m.\u001b[39mWARN_LINTING,\n\u001b[1;32m   1571\u001b[0m )\n\u001b[0;32m-> 1572\u001b[0m ret \u001b[39m=\u001b[39m \u001b[39mself\u001b[39;49m\u001b[39m.\u001b[39;49m_execute_context(\n\u001b[1;32m   1573\u001b[0m     dialect,\n\u001b[1;32m   1574\u001b[0m     dialect\u001b[39m.\u001b[39;49mexecution_ctx_cls\u001b[39m.\u001b[39;49m_init_compiled,\n\u001b[1;32m   1575\u001b[0m     compiled_sql,\n\u001b[1;32m   1576\u001b[0m     distilled_params,\n\u001b[1;32m   1577\u001b[0m     execution_options,\n\u001b[1;32m   1578\u001b[0m     compiled_sql,\n\u001b[1;32m   1579\u001b[0m     distilled_params,\n\u001b[1;32m   1580\u001b[0m     elem,\n\u001b[1;32m   1581\u001b[0m     extracted_params,\n\u001b[1;32m   1582\u001b[0m     cache_hit\u001b[39m=\u001b[39;49mcache_hit,\n\u001b[1;32m   1583\u001b[0m )\n\u001b[1;32m   1584\u001b[0m \u001b[39mif\u001b[39;00m has_events:\n\u001b[1;32m   1585\u001b[0m     \u001b[39mself\u001b[39m\u001b[39m.\u001b[39mdispatch\u001b[39m.\u001b[39mafter_execute(\n\u001b[1;32m   1586\u001b[0m         \u001b[39mself\u001b[39m,\n\u001b[1;32m   1587\u001b[0m         elem,\n\u001b[0;32m   (...)\u001b[0m\n\u001b[1;32m   1591\u001b[0m         ret,\n\u001b[1;32m   1592\u001b[0m     )\n",
      "File \u001b[0;32m~/mercator/voyager-entity-resolver/env/lib/python3.10/site-packages/sqlalchemy/engine/base.py:1943\u001b[0m, in \u001b[0;36mConnection._execute_context\u001b[0;34m(self, dialect, constructor, statement, parameters, execution_options, *args, **kw)\u001b[0m\n\u001b[1;32m   1940\u001b[0m             branched\u001b[39m.\u001b[39mclose()\n\u001b[1;32m   1942\u001b[0m \u001b[39mexcept\u001b[39;00m \u001b[39mBaseException\u001b[39;00m \u001b[39mas\u001b[39;00m e:\n\u001b[0;32m-> 1943\u001b[0m     \u001b[39mself\u001b[39;49m\u001b[39m.\u001b[39;49m_handle_dbapi_exception(\n\u001b[1;32m   1944\u001b[0m         e, statement, parameters, cursor, context\n\u001b[1;32m   1945\u001b[0m     )\n\u001b[1;32m   1947\u001b[0m \u001b[39mreturn\u001b[39;00m result\n",
      "File \u001b[0;32m~/mercator/voyager-entity-resolver/env/lib/python3.10/site-packages/sqlalchemy/engine/base.py:2128\u001b[0m, in \u001b[0;36mConnection._handle_dbapi_exception\u001b[0;34m(self, e, statement, parameters, cursor, context)\u001b[0m\n\u001b[1;32m   2124\u001b[0m         util\u001b[39m.\u001b[39mraise_(\n\u001b[1;32m   2125\u001b[0m             sqlalchemy_exception, with_traceback\u001b[39m=\u001b[39mexc_info[\u001b[39m2\u001b[39m], from_\u001b[39m=\u001b[39me\n\u001b[1;32m   2126\u001b[0m         )\n\u001b[1;32m   2127\u001b[0m     \u001b[39melse\u001b[39;00m:\n\u001b[0;32m-> 2128\u001b[0m         util\u001b[39m.\u001b[39;49mraise_(exc_info[\u001b[39m1\u001b[39;49m], with_traceback\u001b[39m=\u001b[39;49mexc_info[\u001b[39m2\u001b[39;49m])\n\u001b[1;32m   2130\u001b[0m \u001b[39mfinally\u001b[39;00m:\n\u001b[1;32m   2131\u001b[0m     \u001b[39mdel\u001b[39;00m \u001b[39mself\u001b[39m\u001b[39m.\u001b[39m_reentrant_error\n",
      "File \u001b[0;32m~/mercator/voyager-entity-resolver/env/lib/python3.10/site-packages/sqlalchemy/util/compat.py:211\u001b[0m, in \u001b[0;36mraise_\u001b[0;34m(***failed resolving arguments***)\u001b[0m\n\u001b[1;32m    208\u001b[0m     exception\u001b[39m.\u001b[39m__cause__ \u001b[39m=\u001b[39m replace_context\n\u001b[1;32m    210\u001b[0m \u001b[39mtry\u001b[39;00m:\n\u001b[0;32m--> 211\u001b[0m     \u001b[39mraise\u001b[39;00m exception\n\u001b[1;32m    212\u001b[0m \u001b[39mfinally\u001b[39;00m:\n\u001b[1;32m    213\u001b[0m     \u001b[39m# credit to\u001b[39;00m\n\u001b[1;32m    214\u001b[0m     \u001b[39m# https://cosmicpercolator.com/2016/01/13/exception-leaks-in-python-2-and-3/\u001b[39;00m\n\u001b[1;32m    215\u001b[0m     \u001b[39m# as the __traceback__ object creates a cycle\u001b[39;00m\n\u001b[1;32m    216\u001b[0m     \u001b[39mdel\u001b[39;00m exception, replace_context, from_, with_traceback\n",
      "File \u001b[0;32m~/mercator/voyager-entity-resolver/env/lib/python3.10/site-packages/sqlalchemy/engine/base.py:1900\u001b[0m, in \u001b[0;36mConnection._execute_context\u001b[0;34m(self, dialect, constructor, statement, parameters, execution_options, *args, **kw)\u001b[0m\n\u001b[1;32m   1898\u001b[0m                 \u001b[39mbreak\u001b[39;00m\n\u001b[1;32m   1899\u001b[0m     \u001b[39mif\u001b[39;00m \u001b[39mnot\u001b[39;00m evt_handled:\n\u001b[0;32m-> 1900\u001b[0m         \u001b[39mself\u001b[39;49m\u001b[39m.\u001b[39;49mdialect\u001b[39m.\u001b[39;49mdo_execute(\n\u001b[1;32m   1901\u001b[0m             cursor, statement, parameters, context\n\u001b[1;32m   1902\u001b[0m         )\n\u001b[1;32m   1904\u001b[0m \u001b[39mif\u001b[39;00m \u001b[39mself\u001b[39m\u001b[39m.\u001b[39m_has_events \u001b[39mor\u001b[39;00m \u001b[39mself\u001b[39m\u001b[39m.\u001b[39mengine\u001b[39m.\u001b[39m_has_events:\n\u001b[1;32m   1905\u001b[0m     \u001b[39mself\u001b[39m\u001b[39m.\u001b[39mdispatch\u001b[39m.\u001b[39mafter_cursor_execute(\n\u001b[1;32m   1906\u001b[0m         \u001b[39mself\u001b[39m,\n\u001b[1;32m   1907\u001b[0m         cursor,\n\u001b[0;32m   (...)\u001b[0m\n\u001b[1;32m   1911\u001b[0m         context\u001b[39m.\u001b[39mexecutemany,\n\u001b[1;32m   1912\u001b[0m     )\n",
      "File \u001b[0;32m~/mercator/voyager-entity-resolver/env/lib/python3.10/site-packages/sqlalchemy/engine/default.py:736\u001b[0m, in \u001b[0;36mDefaultDialect.do_execute\u001b[0;34m(self, cursor, statement, parameters, context)\u001b[0m\n\u001b[1;32m    735\u001b[0m \u001b[39mdef\u001b[39;00m \u001b[39mdo_execute\u001b[39m(\u001b[39mself\u001b[39m, cursor, statement, parameters, context\u001b[39m=\u001b[39m\u001b[39mNone\u001b[39;00m):\n\u001b[0;32m--> 736\u001b[0m     cursor\u001b[39m.\u001b[39;49mexecute(statement, parameters)\n",
      "File \u001b[0;32m/opt/homebrew/Cellar/python@3.10/3.10.8/Frameworks/Python.framework/Versions/3.10/lib/python3.10/encodings/utf_8.py:15\u001b[0m, in \u001b[0;36mdecode\u001b[0;34m(input, errors)\u001b[0m\n\u001b[1;32m     11\u001b[0m \u001b[39m### Codec APIs\u001b[39;00m\n\u001b[1;32m     13\u001b[0m encode \u001b[39m=\u001b[39m codecs\u001b[39m.\u001b[39mutf_8_encode\n\u001b[0;32m---> 15\u001b[0m \u001b[39mdef\u001b[39;00m \u001b[39mdecode\u001b[39m(\u001b[39minput\u001b[39m, errors\u001b[39m=\u001b[39m\u001b[39m'\u001b[39m\u001b[39mstrict\u001b[39m\u001b[39m'\u001b[39m):\n\u001b[1;32m     16\u001b[0m     \u001b[39mreturn\u001b[39;00m codecs\u001b[39m.\u001b[39mutf_8_decode(\u001b[39minput\u001b[39m, errors, \u001b[39mTrue\u001b[39;00m)\n\u001b[1;32m     18\u001b[0m \u001b[39mclass\u001b[39;00m \u001b[39mIncrementalEncoder\u001b[39;00m(codecs\u001b[39m.\u001b[39mIncrementalEncoder):\n",
      "\u001b[0;31mKeyboardInterrupt\u001b[0m: "
     ]
    }
   ],
   "source": [
    "with engine.connect() as conn:\n",
    "    for i, doc in enumerate(documents):\n",
    "        embed = str(list(corpus_embeddings[i].numpy()))\n",
    "        conn.execute(text(\"\"\"\n",
    "        UPDATE osm\n",
    "        SET embedding = :embed\n",
    "        WHERE osm_id = :osm_id\n",
    "        \"\"\"), {\"embed\": embed, \"osm_id\": doc[\"osm_id\"]})\n"
   ]
  },
  {
   "cell_type": "code",
   "execution_count": 31,
   "metadata": {},
   "outputs": [
    {
     "data": {
      "text/plain": [
       "'[-0.023183504, -0.079287805, -0.017884871, 0.055417657, 0.0008431207, 0.0319564, -0.038964204, 0.12262586, -0.12085, -0.04256106, -0.0040748753, -0.026869537, 0.001456012, 0.026645683, -0.003220808, 0.09341368, -0.03641462, 0.05689699, -0.04943897, -0.008999851, 0.013227197, -0.114441134, -0.027501876, -0.00086226093, -0.048031323, -0.024000254, 0.026468333, 0.0044135866, -0.020003095, -0.05423768, -0.06735641, -0.017488835, -0.071719594, 0.024877336, 0.005633726, -0.02154252, 0.075405374, -0.027228838, 0.054416828, 0.018888496, -0.06510048, -0.036264226, -0.042696398, 0.0689855, 0.09092336, 0.048798345, 0.0129739195, -0.02074254, -0.060705245, -0.024103433, 0.036865745, -0.053874683, 0.007822419, 0.06297742, -0.05410355, 0.01664775, 0.0155653125, 0.015502567, 0.060299642, 0.108421445, -0.102812275, -0.018160364, -0.036404625, -0.060512584, 0.03309949, -0.070785254, -0.097935915, 0.07578102, 0.053189542, 0.02991527, 0.028597124, -0.034161814, -0.012848741, -0.051193368, 0.019141361, -0.034890253, -0.028731016, 0.066826224, -0.06213546, -0.022453021, -0.0997069, -0.026678834, -0.0024580637, -0.017596684, 0.007680849, -0.0044303383, 0.0021155823, 0.0009501571, 0.007404742, 0.022071926, 0.09843814, 0.04726399, -0.010102917, 0.02875198, -0.014914379, 0.007545861, -0.06281237, -0.050051745, 0.07807089, 0.02896621, -0.006618588, 0.014382777, -0.028962864, 0.09332308, -0.019876152, 0.04669956, -0.029121378, 0.007269957, 0.0014580936, -0.057632416, 0.046468448, -0.03379332, 0.035684884, -0.020926114, -0.05038789, 0.026931679, -0.017074244, -0.030447075, 0.018301502, 0.01947956, 0.021972872, -0.0108419955, 0.069961324, 0.071675636, -0.048606094, -0.056382213, 0.10468027, -9.78828e-34, -0.06911307, -0.012750122, 0.04157578, 0.016379457, 0.035636637, 0.014590094, -0.121456996, -0.04341677, -0.02228643, 0.061056305, -0.0861346, 0.025566425, -0.0027182852, -0.08697902, 0.069054805, -0.08836986, 0.011066986, -0.06494382, -0.054055832, 0.06923438, 0.022694327, -0.06276796, 0.0001087358, -0.03861769, 0.049507678, 0.051436402, -0.018610004, -0.052569497, 0.040151022, -0.0028673818, -0.02714235, 0.03477637, 0.0013283582, 0.02796399, -0.11684217, 0.059509933, 0.051222645, -0.009382997, 0.0038306867, 0.017005835, 0.0026167145, -0.100074284, 0.06610937, 0.03498647, -0.008206617, 0.001347183, 0.083224975, 0.004457468, -0.08179257, 0.11936304, -0.05552161, 0.025838068, -0.01030237, -0.06581468, 0.074525304, 0.008143032, -0.006868318, 0.029829416, 0.037672203, 0.062206104, 0.063530274, -0.028571509, -0.031561814, 0.03405198, 0.008504258, -0.050028075, -0.025568396, -0.013340937, 0.044342216, 0.024894616, -0.097244464, -0.002668815, 0.022615101, 0.05247676, -0.024183631, -0.03603248, -0.14337255, 0.10576796, 0.08484451, -0.044051506, -0.08125573, 0.011165119, -0.004835314, -0.045629952, 0.1651764, -0.015415964, -0.0027732505, -0.04455732, -0.0798593, 0.017432591, -0.048897296, 0.0023653004, 0.059729807, 0.057858773, 0.099780284, 4.16471e-34, 0.07556144, -0.0003770492, 0.046548966, -0.020031061, -0.07402583, 0.02851166, 0.063686036, -0.042641122, 0.00202613, 0.17930107, -0.045139402, 0.048111867, 0.029854422, 0.018589713, 0.0063939, -0.085620224, 0.05439153, 0.061614014, 0.033595636, -0.030120006, -2.3916811e-05, 0.011674241, -0.121463686, -0.012636841, 0.012103709, -8.6830005e-05, -0.021866508, -0.054923058, 0.0008726603, -0.0023074944, -0.03193271, -0.038567312, 0.048798326, -0.04245078, -0.0148464, 0.04682503, 0.0501075, -0.0024274553, 0.05251332, 0.025850328, 0.043065336, -0.005466284, 0.08737536, -0.035877228, -0.016112136, 0.044395022, -0.12209049, 0.10457421, -0.107367024, 0.023198333, -0.041797563, 0.037458554, 0.019277839, -0.08608245, 0.03221389, 0.026183276, -0.062767714, 0.009576073, -0.06639051, -0.03420416, 0.13709643, -0.03038482, -0.041813713, -0.0058013937, 0.018825075, -0.009960925, 0.0062662256, -0.032916103, 0.016039338, 0.010141052, -0.044517793, 0.036553822, 0.02029392, -0.057576332, -0.046479296, -0.06669514, 0.077355355, 0.08624901, 0.02588201, -0.06262495, -0.03258425, -0.030199658, 0.02986837, 0.016898762, 0.010373676, -0.015440405, 0.005292406, 0.024861963, 0.08063988, -0.046242163, 0.006146661, -0.03389093, 0.019952074, -0.019652845, -0.06616919, -1.1454413e-08, -0.019430572, 0.054372124, -0.059047375, -0.012915116, 0.036605824, 0.045584623, 0.005584453, 0.021266954, -0.07976741, 0.013542311, 0.028934173, 0.03817316, -0.04661633, 0.09459369, 0.031053655, -0.0038139743, 0.013257249, 0.044969607, 0.022118118, 0.070347585, -0.01432025, 0.053456586, 0.011526447, 0.08990375, -0.016888507, -0.013695576, 0.021926647, 0.053525306, 0.038528748, -0.078056306, 0.0710583, 0.0070050186, -0.006336872, 0.0505721, 0.05551472, 0.04346924, -0.033788957, 0.10976652, 0.032544613, -0.035041753, 0.020660054, -0.061277132, 0.018663518, 0.02362785, 0.09620571, -0.004022839, -0.06673875, -0.011526353, 0.03273137, -0.05650069, -0.07217674, 0.012888434, 0.041645724, 0.04048231, 0.052603174, 0.030013582, -0.020887814, 0.0032191353, -0.073957115, -0.00752413, -0.014621614, 0.0010765147, 0.013020575, 0.009597778]'"
      ]
     },
     "execution_count": 31,
     "metadata": {},
     "output_type": "execute_result"
    }
   ],
   "source": [
    "str(list(embed.numpy()))"
   ]
  }
 ],
 "metadata": {
  "kernelspec": {
   "display_name": "env",
   "language": "python",
   "name": "python3"
  },
  "language_info": {
   "codemirror_mode": {
    "name": "ipython",
    "version": 3
   },
   "file_extension": ".py",
   "mimetype": "text/x-python",
   "name": "python",
   "nbconvert_exporter": "python",
   "pygments_lexer": "ipython3",
   "version": "3.10.8 (main, Oct 13 2022, 09:48:40) [Clang 14.0.0 (clang-1400.0.29.102)]"
  },
  "orig_nbformat": 4,
  "vscode": {
   "interpreter": {
    "hash": "4212373f8085a675b26b7c86407d61877f46627c779e666d726e7ed1440a9e8c"
   }
  }
 },
 "nbformat": 4,
 "nbformat_minor": 2
}
