{
 "cells": [
  {
   "attachments": {},
   "cell_type": "markdown",
   "metadata": {},
   "source": [
    "# Data Generators\n",
    "\n",
    "Examples of generating SQL queries for keywords and \n",
    "\n",
    "- https://github.com/openstreetmap/id-tagging-schema\n",
    "- https://wiki.openstreetmap.org/wiki/Nominatim/Special_Phrases\n",
    "- hand-generated queries from \n",
    "\n",
    "These can be used for training or validation of retrieval."
   ]
  },
  {
   "cell_type": "code",
   "execution_count": 221,
   "metadata": {},
   "outputs": [
    {
     "data": {
      "text/plain": [
       "[TextToSQL(sql=\"\\n    SELECT osm_id\\n    FROM osm\\n    WHERE tags ->> 'aerialway' = 'zip_line'\\n    \", text='zip line'),\n",
       " TextToSQL(sql=\"\\n    SELECT osm_id\\n    FROM osm\\n    WHERE tags ->> 'aerialway' = 'zip_line'\\n    \", text='zip lines'),\n",
       " TextToSQL(sql=\"\\n    SELECT osm_id\\n    FROM osm\\n    WHERE tags ->> 'aerialway' = 'zip_line'\\n    \", text='zip wire'),\n",
       " TextToSQL(sql=\"\\n    SELECT osm_id\\n    FROM osm\\n    WHERE tags ->> 'aerialway' = 'zip_line'\\n    \", text='zip wires'),\n",
       " TextToSQL(sql=\"\\n    SELECT osm_id\\n    FROM osm\\n    WHERE tags ->> 'aerialway' = 'zip_line'\\n    \", text='zipline'),\n",
       " TextToSQL(sql=\"\\n    SELECT osm_id\\n    FROM osm\\n    WHERE tags ->> 'aerialway' = 'zip_line'\\n    \", text='ziplines'),\n",
       " TextToSQL(sql=\"\\n    SELECT osm_id\\n    FROM osm\\n    WHERE tags ->> 'aerialway' = 'zip_line'\\n    \", text='zipwire'),\n",
       " TextToSQL(sql=\"\\n    SELECT osm_id\\n    FROM osm\\n    WHERE tags ->> 'aerialway' = 'zip_line'\\n    \", text='zipwires'),\n",
       " TextToSQL(sql=\"\\n    SELECT osm_id\\n    FROM osm\\n    WHERE tags ->> 'aeroway' = 'aerodrome'\\n    \", text='aerodrome'),\n",
       " TextToSQL(sql=\"\\n    SELECT osm_id\\n    FROM osm\\n    WHERE tags ->> 'aeroway' = 'aerodrome'\\n    \", text='aerodromes')]"
      ]
     },
     "execution_count": 221,
     "metadata": {},
     "output_type": "execute_result"
    }
   ],
   "source": [
    "import duckdb\n",
    "import jinja2 as j2\n",
    "import re\n",
    "import json\n",
    "from typing import Generator\n",
    "import pydantic\n",
    "from itertools import islice\n",
    "from ruamel.yaml import YAML\n",
    "from itertools import islice\n",
    "from typing import Generator\n",
    "\n",
    "OSM_TABLENAME = \"osm\"\n",
    "ENV = j2.Environment()\n",
    "\n",
    "def quote(value: str) -> str:\n",
    "    value = re.sub(r\"'\", r\"\\\\'\", value)\n",
    "    return f\"'{value}'\"\n",
    "\n",
    "ENV.filters[\"quote\"] = quote\n",
    "\n",
    "class TextToSQL(pydantic.BaseModel):\n",
    "    sql: str\n",
    "    text: str\n",
    "\n",
    "def load_special_phrases() -> Generator[TextToSQL, None, None]:\n",
    "\n",
    "    df = duckdb.query(\n",
    "    \"\"\"\n",
    "    SELECT\n",
    "        lower(\"Word / Phrase\") as phrase,\n",
    "        Key AS key,\n",
    "        Value AS value\n",
    "    FROM read_csv_auto('../data/nominatim-special-phrases.csv', HEADER=TRUE)\n",
    "    WHERE Operator = '-'\n",
    "    \"\"\" \n",
    "    ).to_df()\n",
    "    \n",
    "    template = \"\"\"\n",
    "    SELECT osm_id\n",
    "    FROM {{tablename}}\n",
    "    WHERE tags ->> {{key | quote}} = {{value | quote}}\n",
    "    \"\"\"\n",
    "    \n",
    "    output = []\n",
    "    for i, row in df.iterrows():\n",
    "        sql = ENV.from_string(template).render(tablename=OSM_TABLENAME, key=row.key, value=row.value)\n",
    "        yield TextToSQL(text=row.phrase, sql=sql)\n",
    "\n",
    "list(islice(load_special_phrases(), 10))"
   ]
  },
  {
   "cell_type": "code",
   "execution_count": 2,
   "metadata": {},
   "outputs": [
    {
     "ename": "ImportError",
     "evalue": "cannot import name 'generator' from 'typing' (/opt/homebrew/Cellar/python@3.10/3.10.8/Frameworks/Python.framework/Versions/3.10/lib/python3.10/typing.py)",
     "output_type": "error",
     "traceback": [
      "\u001b[0;31m---------------------------------------------------------------------------\u001b[0m",
      "\u001b[0;31mImportError\u001b[0m                               Traceback (most recent call last)",
      "Cell \u001b[0;32mIn[2], line 1\u001b[0m\n\u001b[0;32m----> 1\u001b[0m \u001b[39mfrom\u001b[39;00m \u001b[39mtyping\u001b[39;00m \u001b[39mimport\u001b[39;00m generator\n\u001b[1;32m      2\u001b[0m \u001b[39mdef\u001b[39;00m \u001b[39mload_id_presets\u001b[39m() \u001b[39m-\u001b[39m\u001b[39m>\u001b[39m Generator[TextToSQL, \u001b[39mNone\u001b[39;00m, \u001b[39mNone\u001b[39;00m]:\n\u001b[1;32m      3\u001b[0m     \u001b[39m\"\"\"Yield examples of query text and SQL to run for each preset in the ID tagging schema.\"\"\"\u001b[39;00m\n",
      "\u001b[0;31mImportError\u001b[0m: cannot import name 'generator' from 'typing' (/opt/homebrew/Cellar/python@3.10/3.10.8/Frameworks/Python.framework/Versions/3.10/lib/python3.10/typing.py)"
     ]
    }
   ],
   "source": [
    "\n",
    "def load_id_presets() -> Generator[TextToSQL, None, None]:\n",
    "    \"\"\"Yield examples of query text and SQL to run for each preset in the ID tagging schema.\"\"\"\n",
    "    tmpl = \"\"\"\n",
    "        SELECT *\n",
    "        FROM osm\n",
    "        WHERE TRUE\n",
    "        {%- for tag, value in tags.items() %}\n",
    "        {%- if value == \"*\" %}\n",
    "        AND tags ? {{ tag | quote }}\n",
    "        {%- else %}\n",
    "        AND tags ->> {{ tag | quote }} = {{ value | quote }}\n",
    "        {%- endif %}\n",
    "        {%- endfor %}\n",
    "        AND (\n",
    "            FALSE\n",
    "            {%- if 'area' in geometry %}\n",
    "            OR (osm_type = 'W' AND ST_GeometryType(geometry) = 'ST_Polygon')\n",
    "            {%- endif %}\n",
    "            {%- if 'line' in geometry %}\n",
    "            OR (osm_type = 'W' AND ST_GeometryType(geometry) = 'ST_LineString')\n",
    "            {%- endif %}\n",
    "            {%- if 'point' in geometry %}\n",
    "            OR (osm_type = 'N')\n",
    "            {%- endif %}\n",
    "            {#- TODO figure out what a vertex is #}\n",
    "            {%- if 'vertex' in geometry %}\n",
    "            OR (osm_type = 'N')\n",
    "            {%- endif %}            \n",
    "            {%- if 'point' in geometry %}\n",
    "            OR (osm_type = 'R')\n",
    "            {%- endif %}            \n",
    "        )\n",
    "        \"\"\"    \n",
    "    with open(\"../data/id-tagging-schema/presets.json\", \"r\") as f:\n",
    "        presets = json.load(f)\n",
    "    with open(\"../data/id-tagging-schema/translations.en.json\", \"r\") as f:\n",
    "        translations = json.load(f)\n",
    "    # Preset fallbacks are some generic presets that are used in the ID schema\n",
    "    # but not defined in the presets.json file.\n",
    "    with open(\"../data/id-tagging-schema/preset-fallbacks.json\", \"r\") as f:\n",
    "        defaults = json.load(f)        \n",
    "\n",
    "    for k, v in translations[\"en\"][\"presets\"][\"presets\"].items():\n",
    "        if k not in presets:\n",
    "            print(f\"{k} not in presets\")\n",
    "        else:\n",
    "            presets[k].update(v)\n",
    "\n",
    "    for k, v in presets.items():\n",
    "        terms = v.get(\"terms\", \"\")\n",
    "        presets[k][\"terms\"] = [x.strip() for x in terms.split(\",\") if x.strip() != \"\"]\n",
    "\n",
    "    for k, v in presets.items():  \n",
    "        aliases = v.get(\"aliases\", \"\")\n",
    "        presets[k][\"aliases\"] = [x.strip() for x in aliases.splitlines() if x.strip() != \"\"]\n",
    "\n",
    "    presets.update(defaults)\n",
    "        \n",
    "    for p in presets.values():\n",
    "        queries = [\n",
    "            p[\"name\"].lower(),\n",
    "            *[term.lower() for term in p[\"terms\"]],\n",
    "            *[alias.lower() for alias in p[\"aliases\"]]\n",
    "        ]\n",
    "        for q in queries:\n",
    "            if not q:\n",
    "                continue\n",
    "            tags = p[\"tags\"]\n",
    "            sql = ENV.from_string(tmpl).render(tablename=OSM_TABLENAME, tags=tags, geometry=p[\"geometry\"])\n",
    "            yield TextToSQL(text=q, sql=sql)\n",
    "            \n",
    "list(islice(load_id_presets(), 10))"
   ]
  },
  {
   "cell_type": "code",
   "execution_count": 228,
   "metadata": {},
   "outputs": [
    {
     "data": {
      "text/plain": [
       "[TextToSQL(sql='\\n    SELECT *\\n    FROM osm\\n    WHERE FALSE\\n     \\n    \\n    OR power=line\\n    \\n     \\n    \\n    OR power=minor_line\\n    \\n     \\n    \\n    OR power=cable\\n    \\n    \\n    ;\\n    ', text='power lines'),\n",
       " TextToSQL(sql='\\n    SELECT *\\n    FROM osm\\n    WHERE FALSE\\n     \\n    \\n    OR power=plant\\n    \\n    \\n    ;\\n    ', text='powerplants'),\n",
       " TextToSQL(sql='\\n    SELECT *\\n    FROM osm\\n    WHERE FALSE\\n     \\n    \\n    OR power=plant\\n    \\n    \\n    ;\\n    ', text='power plants'),\n",
       " TextToSQL(sql='\\n    SELECT *\\n    FROM osm\\n    WHERE FALSE\\n     \\n    \\n    OR power=substation\\n    \\n    \\n    ;\\n    ', text='power stations'),\n",
       " TextToSQL(sql='\\n    SELECT *\\n    FROM osm\\n    WHERE FALSE\\n     \\n    \\n    OR cusisine=ethiopian\\n    \\n    \\n    ;\\n    ', text='ethiopian'),\n",
       " TextToSQL(sql='\\n    SELECT *\\n    FROM osm\\n    WHERE FALSE\\n     \\n    \\n    OR cusisine=ethiopian\\n    \\n    \\n    ;\\n    ', text='ethiopian food'),\n",
       " TextToSQL(sql='\\n    SELECT *\\n    FROM osm\\n    WHERE FALSE\\n     \\n    \\n    OR (TRUE\\n        \\n        AND cusisine=ethiopian\\n        \\n        AND amenity=restaurant\\n        \\n    )\\n    \\n    \\n    ;\\n    ', text='ethiopian restaurant'),\n",
       " TextToSQL(sql='\\n    SELECT *\\n    FROM osm\\n    WHERE FALSE\\n     \\n    \\n    OR railway=station\\n    \\n    \\n    ;\\n    ', text='train stations'),\n",
       " TextToSQL(sql='\\n    SELECT *\\n    FROM osm\\n    WHERE FALSE\\n     \\n    \\n    OR railway=station\\n    \\n    \\n    ;\\n    ', text='train'),\n",
       " TextToSQL(sql='\\n    SELECT *\\n    FROM osm\\n    WHERE FALSE\\n     \\n    \\n    OR landuse=retail\\n    \\n    \\n    ;\\n    ', text='retail area')]"
      ]
     },
     "execution_count": 228,
     "metadata": {},
     "output_type": "execute_result"
    }
   ],
   "source": [
    "yaml = YAML()\n",
    "\n",
    "def load_queries() -> Generator[TextToSQL, None, None]:\n",
    "    \"\"\"Yield some manually defined queries\"\"\"\n",
    "    with open(\"../data/queries.yml\", \"r\") as f:\n",
    "        queries = yaml.load(f)\n",
    "    tmpl = \"\"\"\n",
    "    SELECT *\n",
    "    FROM osm\n",
    "    WHERE FALSE\n",
    "    {% for tag in tags %} {# assume at least one tag #}\n",
    "    {% if tag is string %}\n",
    "    OR {{ tag }}\n",
    "    {% else %}\n",
    "    OR (TRUE\n",
    "        {% for tv in tag %}\n",
    "        AND {{ tv }}\n",
    "        {%  endfor %}\n",
    "    )\n",
    "    {% endif %}\n",
    "    {% endfor %}\n",
    "    ;\n",
    "    \"\"\"\n",
    "    for q in queries:\n",
    "        tags = q[\"tags\"]\n",
    "        sql = ENV.from_string(tmpl).render(tags=tags)\n",
    "        yield TextToSQL(text=q[\"text\"], sql=sql)\n",
    "\n",
    "list(islice(load_queries(), 10))"
   ]
  }
 ],
 "metadata": {
  "kernelspec": {
   "display_name": "env",
   "language": "python",
   "name": "python3"
  },
  "language_info": {
   "codemirror_mode": {
    "name": "ipython",
    "version": 3
   },
   "file_extension": ".py",
   "mimetype": "text/x-python",
   "name": "python",
   "nbconvert_exporter": "python",
   "pygments_lexer": "ipython3",
   "version": "3.10.8"
  },
  "orig_nbformat": 4,
  "vscode": {
   "interpreter": {
    "hash": "4212373f8085a675b26b7c86407d61877f46627c779e666d726e7ed1440a9e8c"
   }
  }
 },
 "nbformat": 4,
 "nbformat_minor": 2
}
