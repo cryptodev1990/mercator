{
 "cells": [
  {
   "cell_type": "markdown",
   "metadata": {},
   "source": [
    "## Summary\n",
    "\n",
    "Walkthrough of GeoLift to check that PyGeoLift works correctly."
   ]
  },
  {
   "cell_type": "code",
   "execution_count": 3,
   "metadata": {},
   "outputs": [],
   "source": [
    "import sys\n",
    "sys.path.append(\"..\")"
   ]
  },
  {
   "cell_type": "code",
   "execution_count": 4,
   "metadata": {},
   "outputs": [],
   "source": [
    "%reload_ext autoreload\n",
    "%autoreload 2\n",
    "%aimport pygeolift"
   ]
  },
  {
   "cell_type": "code",
   "execution_count": 5,
   "metadata": {},
   "outputs": [],
   "source": [
    "import pygeolift.data"
   ]
  },
  {
   "cell_type": "code",
   "execution_count": 6,
   "metadata": {},
   "outputs": [],
   "source": [
    "from rpy2.robjects.packages import importr, data as r_package_data\n",
    "from rpy2.robjects import pandas2ri, default_converter, numpy2ri, NULL\n",
    "from rpy2.robjects.conversion import localconverter"
   ]
  },
  {
   "cell_type": "code",
   "execution_count": 7,
   "metadata": {},
   "outputs": [],
   "source": [
    "from pygeolift import geolift"
   ]
  },
  {
   "cell_type": "markdown",
   "metadata": {},
   "source": [
    "Load example package data, `GeoLift_PreTest`."
   ]
  },
  {
   "cell_type": "code",
   "execution_count": 8,
   "metadata": {},
   "outputs": [],
   "source": [
    "geo_lift_pre_test = pygeolift.data.load_GeoLift_PreTest()"
   ]
  },
  {
   "cell_type": "code",
   "execution_count": 10,
   "metadata": {},
   "outputs": [
    {
     "name": "stderr",
     "output_type": "stream",
     "text": [
      "R[write to console]: ##################################\n",
      "#####       Summary       #####\n",
      "##################################\n",
      "\n",
      "* Raw Number of Locations: 40\n",
      "* Time Periods: 90\n",
      "* Final Number of Locations (Complete): 40\n",
      "\n"
     ]
    }
   ],
   "source": [
    "geo_test_data_pre_test =  geolift.geo_data_read(geo_lift_pre_test,\n",
    "                                        date_id = \"date\",\n",
    "                                        location_id = \"location\",\n",
    "                                        Y_id = \"Y\",\n",
    "                                        X = [], #empty list as we have no covariates\n",
    "                                        format = \"yyyy-mm-dd\",\n",
    "                                        summary = True)"
   ]
  },
  {
   "cell_type": "code",
   "execution_count": 11,
   "metadata": {},
   "outputs": [
    {
     "name": "stderr",
     "output_type": "stream",
     "text": [
      "R[write to console]: Setting up cluster.\n",
      "\n",
      "R[write to console]: Importing functions into cluster.\n",
      "\n",
      "R[write to console]: Attempting to load the environment ‘package:dplyr’\n",
      "\n",
      "R[write to console]: \n",
      "Attaching package: ‘dplyr’\n",
      "\n",
      "\n",
      "R[write to console]: The following objects are masked from ‘package:stats’:\n",
      "\n",
      "    filter, lag\n",
      "\n",
      "\n",
      "R[write to console]: The following objects are masked from ‘package:base’:\n",
      "\n",
      "    intersect, setdiff, setequal, union\n",
      "\n",
      "\n",
      "R[write to console]: \n",
      "Deterministic setup with 2 locations in treatment.\n",
      "\n",
      "R[write to console]: \n",
      "Deterministic setup with 3 locations in treatment.\n",
      "\n",
      "R[write to console]: \n",
      "Deterministic setup with 4 locations in treatment.\n",
      "\n",
      "R[write to console]: \n",
      "Deterministic setup with 5 locations in treatment.\n",
      "\n"
     ]
    },
    {
     "name": "stdout",
     "output_type": "stream",
     "text": [
      "  ID                                           location duration EffectSize\n",
      "1  1            atlanta, chicago, las vegas, saint paul       15       0.05\n",
      "2  2                                  chicago, portland       15       0.05\n",
      "3  3             chicago, cincinnati, houston, portland       15       0.05\n",
      "4  4                  chicago, houston, nashville, reno       15       0.05\n",
      "5  5       atlanta, chicago, cleveland, las vegas, reno       10       0.05\n",
      "6  6 atlanta, chicago, cleveland, las vegas, saint paul       10       0.05\n",
      "  Power AvgScaledL2Imbalance Investment   AvgATT Average_MDE ProportionTotal_Y\n",
      "1     1            0.5558341   85305.00 189.2567  0.04991417        0.08767192\n",
      "2     1            0.1738778   32281.87 146.5321  0.05111983        0.03306537\n",
      "3     1            0.1971864   74118.37 159.3627  0.04829913        0.07576405\n",
      "4     1            0.3321341   75556.12 174.0647  0.05193036        0.07816073\n",
      "5     1            0.4536741   69300.00 195.0787  0.05292824        0.10714670\n",
      "6     1            0.6273970   70187.62 176.4054  0.04699004        0.10736581\n",
      "  abs_lift_in_zero   Holdout rank correlation\n",
      "1            0.000 0.9123281    1   0.9775394\n",
      "2            0.001 0.9669346    2   0.9321104\n",
      "3            0.002 0.9242359    3   0.9144814\n",
      "4            0.002 0.9218393    3   0.9146693\n",
      "5            0.003 0.8928533    5   0.9788758\n",
      "6            0.003 0.8926342    5   0.9856002\n"
     ]
    }
   ],
   "source": [
    "import numpy as np\n",
    "market_selections = geolift.geo_lift_market_selection(\n",
    "                                        data = geo_test_data_pre_test,\n",
    "                                        treatment_periods = [10,15],\n",
    "                                        N = [2,3,4,5],\n",
    "                                        Y_id = \"Y\",\n",
    "                                        location_id = \"location\",\n",
    "                                        time_id = \"time\",\n",
    "                                        effect_size = list(np.arange(-0.25, 0.25, 0.05)),\n",
    "                                        lookback_window = 1, \n",
    "                                        include_markets = [\"chicago\"],\n",
    "                                        exclude_markets = [\"honolulu\"],\n",
    "                                        cpic = 7.50,\n",
    "                                        budget = 100000,\n",
    "                                        alpha = 0.1,\n",
    "                                        Correlations = True,\n",
    "                                        fixed_effects = True,\n",
    "                                        side_of_test = \"one_sided\"\n",
    "                                        )\n",
    "\n"
   ]
  },
  {
   "cell_type": "markdown",
   "metadata": {},
   "source": [
    "type(geolift.rpackage)"
   ]
  },
  {
   "cell_type": "code",
   "execution_count": 10,
   "metadata": {},
   "outputs": [
    {
     "data": {
      "text/plain": [
       "rpy2.robjects.vectors.ListVector"
      ]
     },
     "execution_count": 10,
     "metadata": {},
     "output_type": "execute_result"
    }
   ],
   "source": [
    "type(market_selections)"
   ]
  },
  {
   "cell_type": "code",
   "execution_count": 15,
   "metadata": {},
   "outputs": [],
   "source": [
    "GeoLift_Test = pygeolift.data.load_GeoLift_Test()"
   ]
  },
  {
   "cell_type": "code",
   "execution_count": 13,
   "metadata": {},
   "outputs": [
    {
     "name": "stderr",
     "output_type": "stream",
     "text": [
      "R[write to console]: ##################################\n",
      "#####       Summary       #####\n",
      "##################################\n",
      "\n",
      "* Raw Number of Locations: 40\n",
      "* Time Periods: 105\n",
      "* Final Number of Locations (Complete): 40\n",
      "\n"
     ]
    }
   ],
   "source": [
    "geo_test_data_test = geolift.geo_data_read(data = GeoLift_Test,\n",
    "                                    date_id = \"date\",\n",
    "                                    location_id = \"location\",\n",
    "                                    Y_id = \"Y\",\n",
    "                                    format = \"yyyy-mm-dd\",\n",
    "                                    summary = True)\n",
    "\n",
    "\n"
   ]
  },
  {
   "cell_type": "code",
   "execution_count": 14,
   "metadata": {},
   "outputs": [
    {
     "data": {
      "text/html": [
       "<div>\n",
       "<style scoped>\n",
       "    .dataframe tbody tr th:only-of-type {\n",
       "        vertical-align: middle;\n",
       "    }\n",
       "\n",
       "    .dataframe tbody tr th {\n",
       "        vertical-align: top;\n",
       "    }\n",
       "\n",
       "    .dataframe thead th {\n",
       "        text-align: right;\n",
       "    }\n",
       "</style>\n",
       "<table border=\"1\" class=\"dataframe\">\n",
       "  <thead>\n",
       "    <tr style=\"text-align: right;\">\n",
       "      <th></th>\n",
       "      <th>location</th>\n",
       "      <th>time</th>\n",
       "      <th>Y</th>\n",
       "    </tr>\n",
       "  </thead>\n",
       "  <tbody>\n",
       "    <tr>\n",
       "      <th>1</th>\n",
       "      <td>atlanta</td>\n",
       "      <td>1</td>\n",
       "      <td>3384</td>\n",
       "    </tr>\n",
       "    <tr>\n",
       "      <th>2</th>\n",
       "      <td>atlanta</td>\n",
       "      <td>2</td>\n",
       "      <td>3904</td>\n",
       "    </tr>\n",
       "    <tr>\n",
       "      <th>3</th>\n",
       "      <td>atlanta</td>\n",
       "      <td>3</td>\n",
       "      <td>5734</td>\n",
       "    </tr>\n",
       "    <tr>\n",
       "      <th>4</th>\n",
       "      <td>atlanta</td>\n",
       "      <td>4</td>\n",
       "      <td>4311</td>\n",
       "    </tr>\n",
       "    <tr>\n",
       "      <th>5</th>\n",
       "      <td>atlanta</td>\n",
       "      <td>5</td>\n",
       "      <td>3686</td>\n",
       "    </tr>\n",
       "  </tbody>\n",
       "</table>\n",
       "</div>"
      ],
      "text/plain": [
       "  location  time     Y\n",
       "1  atlanta     1  3384\n",
       "2  atlanta     2  3904\n",
       "3  atlanta     3  5734\n",
       "4  atlanta     4  4311\n",
       "5  atlanta     5  3686"
      ]
     },
     "execution_count": 14,
     "metadata": {},
     "output_type": "execute_result"
    }
   ],
   "source": [
    "geo_test_data_test.head()"
   ]
  },
  {
   "cell_type": "markdown",
   "metadata": {},
   "source": [
    "Experiment create info\n",
    "\n",
    "- name\n",
    "- locations and variants\n",
    "- experiment start\n",
    "- experiment end\n",
    "- metrics\n",
    "- time unit: date\n",
    "- additional matching metrics (TBD)\n",
    "- model used to analyze it ... ? \n",
    "\n",
    "TODO: the data and metrics will include data prior to the experiment start. How should that be handled? "
   ]
  },
  {
   "cell_type": "code",
   "execution_count": 23,
   "metadata": {},
   "outputs": [
    {
     "data": {
      "text/plain": [
       "array(['2021-04-01', '2021-04-15'], dtype=object)"
      ]
     },
     "execution_count": 23,
     "metadata": {},
     "output_type": "execute_result"
    }
   ],
   "source": [
    "geo_lift_test_dates = GeoLift_Test['date'].unique()\n",
    "geo_lift_test_dates.sort()\n",
    "geo_lift_test_dates[[90, 104]]"
   ]
  },
  {
   "cell_type": "code",
   "execution_count": 15,
   "metadata": {},
   "outputs": [],
   "source": [
    "geo_test = geolift.geo_lift(\n",
    "                   data = geo_test_data_test,\n",
    "                   locations = [\"chicago\", \"portland\"],\n",
    "                   treatment_start_time = 91, \n",
    "                   treatment_end_time = 105,\n",
    "                   Y_id = \"Y\",\n",
    "                   location_id = \"location\",\n",
    "                   time_id = \"time\")\n"
   ]
  },
  {
   "cell_type": "markdown",
   "metadata": {},
   "source": [
    "experiment: \n",
    "  - id\n",
    "  - name\n",
    "  - pre_period_start\n",
    "  - pre_period_end\n",
    "  - treatment_end\n",
    "  - treatment_start\n",
    "  - alpha\n",
    "\n",
    "experiment_variants:\n",
    "  - variant: str\n",
    "\n",
    "experiment_assignments:\n",
    "  - variant: str\n",
    "  - location: str\n",
    "\n",
    "results:\n",
    "  - experiment_id\n",
    "  - blob of stuff\n",
    "\n",
    "\n",
    "['results',\n",
    " 'inference',\n",
    " 'data',\n",
    " 'y_obs',\n",
    " 'y_hat',\n",
    " 'ATT',\n",
    " 'ATT_se',\n",
    " 'TreatmentStart',\n",
    " 'TreatmentEnd',\n",
    " 'test_id',\n",
    " 'incremental',\n",
    " 'Y_id',\n",
    " 'summary',\n",
    " 'ConfidenceIntervals',\n",
    " 'lower_bound',\n",
    " 'upper_bound',\n",
    " 'df_weights',\n",
    " 'stat_test']\n"
   ]
  },
  {
   "cell_type": "code",
   "execution_count": 54,
   "metadata": {},
   "outputs": [
    {
     "data": {
      "text/plain": [
       "40"
      ]
     },
     "execution_count": 54,
     "metadata": {},
     "output_type": "execute_result"
    }
   ],
   "source": [
    "# \n",
    "# treated_time = 15\n",
    "# untreated time = 90\n",
    "# geo_test_data_test['time'].max(). Max 105 time periods\n",
    "# treated locations = 2\n",
    "# geo_test_data_test['location'].unique().size = 40 unique periods"
   ]
  },
  {
   "cell_type": "markdown",
   "metadata": {},
   "source": [
    "Note: Augsynth fits the per-period \"mean\" of all the treated units!"
   ]
  },
  {
   "cell_type": "code",
   "execution_count": 94,
   "metadata": {},
   "outputs": [
    {
     "name": "stdout",
     "output_type": "stream",
     "text": [
      "  loc_id     name\n",
      "1      6  chicago\n",
      "2     32 portland\n",
      "\n"
     ]
    },
    {
     "data": {
      "text/html": [
       "\n",
       "        <span>FloatMatrix with 38 elements.</span>\n",
       "        <table>\n",
       "        <tbody>\n",
       "          <tr>\n",
       "          \n",
       "            <td>\n",
       "            0.000000\n",
       "            </td>\n",
       "          \n",
       "            <td>\n",
       "            0.046525\n",
       "            </td>\n",
       "          \n",
       "            <td>\n",
       "            -0.000000\n",
       "            </td>\n",
       "          \n",
       "            <td>\n",
       "            ...\n",
       "            </td>\n",
       "          \n",
       "            <td>\n",
       "            0.000000\n",
       "            </td>\n",
       "          \n",
       "            <td>\n",
       "            0.000000\n",
       "            </td>\n",
       "          \n",
       "            <td>\n",
       "            0.000000\n",
       "            </td>\n",
       "          \n",
       "          </tr>\n",
       "        </tbody>\n",
       "        </table>\n",
       "        "
      ],
      "text/plain": [
       "<rpy2.robjects.vectors.FloatMatrix object at 0x13001dc00> [RTYPES.REALSXP]\n",
       "R classes: ('matrix', 'array')\n",
       "[0.000000, 0.046525, -0.000000, 0.133537, ..., 0.045073, 0.000000, 0.000000, 0.000000]"
      ]
     },
     "execution_count": 94,
     "metadata": {},
     "output_type": "execute_result"
    }
   ],
   "source": [
    "from pygeolift.rpy2_utils import r_df_to_pandas\n",
    "print(geo_test.rx2(\"test_id\"))\n",
    "results = geo_test.rx2(\"results\")\n",
    "results.rx2(\"weights\")"
   ]
  },
  {
   "cell_type": "code",
   "execution_count": 36,
   "metadata": {},
   "outputs": [],
   "source": [
    "# Experiment\n",
    "import pandas as pd\n",
    "name = 'Example 1'\n",
    "variants = ['treatment', 'control']\n",
    "treatment_locations = ['chicago', 'portland']\n",
    "start_date = '2021-04-01'\n",
    "end_date = '2021-04-15'\n",
    "\n",
    "locations = pd.DataFrame({'location': GeoLift_Test['location'].unique()})\n",
    "locations['variant'] = 'control'\n",
    "locations[locations['location'].isin(treatment_locations)] = 'treatment'\n"
   ]
  },
  {
   "cell_type": "code",
   "execution_count": null,
   "metadata": {},
   "outputs": [
    {
     "data": {
      "text/plain": [
       "array([-2147483648], dtype=int32)"
      ]
     },
     "execution_count": 24,
     "metadata": {},
     "output_type": "execute_result"
    }
   ],
   "source": [
    "geo_test.summary.bias_est"
   ]
  }
 ],
 "metadata": {
  "kernelspec": {
   "display_name": "Python 3.9.4 ('pygeolift-wkPm4r-4-py3.9')",
   "language": "python",
   "name": "python3"
  },
  "language_info": {
   "codemirror_mode": {
    "name": "ipython",
    "version": 3
   },
   "file_extension": ".py",
   "mimetype": "text/x-python",
   "name": "python",
   "nbconvert_exporter": "python",
   "pygments_lexer": "ipython3",
   "version": "3.9.4"
  },
  "vscode": {
   "interpreter": {
    "hash": "ca414c69c7298fb00569e95dd2b663bc30b01481e44c0b4308f8c12a44e87259"
   }
  }
 },
 "nbformat": 4,
 "nbformat_minor": 2
}
