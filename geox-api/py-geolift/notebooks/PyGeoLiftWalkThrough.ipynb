{
 "cells": [
  {
   "cell_type": "markdown",
   "metadata": {},
   "source": [
    "## Summary\n",
    "\n",
    "Walkthrough of GeoLift to check that PyGeoLift works correctly."
   ]
  },
  {
   "cell_type": "code",
   "execution_count": 4,
   "metadata": {},
   "outputs": [],
   "source": [
    "import sys\n",
    "sys.path.append(\"..\")"
   ]
  },
  {
   "cell_type": "code",
   "execution_count": 2,
   "metadata": {},
   "outputs": [],
   "source": [
    "%reload_ext autoreload\n",
    "%autoreload 2\n",
    "%aimport pygeolift"
   ]
  },
  {
   "cell_type": "code",
   "execution_count": 3,
   "metadata": {},
   "outputs": [],
   "source": [
    "import pygeolift.data"
   ]
  },
  {
   "cell_type": "code",
   "execution_count": 4,
   "metadata": {},
   "outputs": [],
   "source": [
    "from rpy2.robjects.packages import importr, data as r_package_data\n",
    "from rpy2.robjects import pandas2ri, default_converter, numpy2ri, NULL\n",
    "from rpy2.robjects.conversion import localconverter"
   ]
  },
  {
   "cell_type": "code",
   "execution_count": 5,
   "metadata": {},
   "outputs": [],
   "source": [
    "from pygeolift import geolift"
   ]
  },
  {
   "cell_type": "markdown",
   "metadata": {},
   "source": [
    "Load example package data, `GeoLift_PreTest`."
   ]
  },
  {
   "cell_type": "code",
   "execution_count": 6,
   "metadata": {},
   "outputs": [],
   "source": [
    "geo_lift_pre_test = pygeolift.data.load_GeoLift_PreTest()"
   ]
  },
  {
   "cell_type": "code",
   "execution_count": 7,
   "metadata": {},
   "outputs": [
    {
     "name": "stderr",
     "output_type": "stream",
     "text": [
      "R[write to console]: ##################################\n",
      "#####       Summary       #####\n",
      "##################################\n",
      "\n",
      "* Raw Number of Locations: 40\n",
      "* Time Periods: 90\n",
      "* Final Number of Locations (Complete): 40\n",
      "\n"
     ]
    }
   ],
   "source": [
    "geo_test_data_pre_test =  geolift.geo_data_read(geo_lift_pre_test,\n",
    "                                        date_id = \"date\",\n",
    "                                        location_id = \"location\",\n",
    "                                        Y_id = \"Y\",\n",
    "                                        X = [], #empty list as we have no covariates\n",
    "                                        format = \"yyyy-mm-dd\",\n",
    "                                        summary = True)"
   ]
  },
  {
   "cell_type": "code",
   "execution_count": 11,
   "metadata": {},
   "outputs": [
    {
     "name": "stderr",
     "output_type": "stream",
     "text": [
      "R[write to console]: Setting up cluster.\n",
      "\n",
      "R[write to console]: Importing functions into cluster.\n",
      "\n",
      "R[write to console]: Attempting to load the environment ‘package:dplyr’\n",
      "\n",
      "R[write to console]: \n",
      "Attaching package: ‘dplyr’\n",
      "\n",
      "\n",
      "R[write to console]: The following objects are masked from ‘package:stats’:\n",
      "\n",
      "    filter, lag\n",
      "\n",
      "\n",
      "R[write to console]: The following objects are masked from ‘package:base’:\n",
      "\n",
      "    intersect, setdiff, setequal, union\n",
      "\n",
      "\n",
      "R[write to console]: \n",
      "Deterministic setup with 2 locations in treatment.\n",
      "\n",
      "R[write to console]: \n",
      "Deterministic setup with 3 locations in treatment.\n",
      "\n",
      "R[write to console]: \n",
      "Deterministic setup with 4 locations in treatment.\n",
      "\n",
      "R[write to console]: \n",
      "Deterministic setup with 5 locations in treatment.\n",
      "\n"
     ]
    },
    {
     "name": "stdout",
     "output_type": "stream",
     "text": [
      "  ID                                           location duration EffectSize\n",
      "1  1            atlanta, chicago, las vegas, saint paul       15       0.05\n",
      "2  2                                  chicago, portland       15       0.05\n",
      "3  3             chicago, cincinnati, houston, portland       15       0.05\n",
      "4  4                  chicago, houston, nashville, reno       15       0.05\n",
      "5  5       atlanta, chicago, cleveland, las vegas, reno       10       0.05\n",
      "6  6 atlanta, chicago, cleveland, las vegas, saint paul       10       0.05\n",
      "  Power AvgScaledL2Imbalance Investment   AvgATT Average_MDE ProportionTotal_Y\n",
      "1     1            0.5558341   85305.00 189.2567  0.04991417        0.08767192\n",
      "2     1            0.1738778   32281.87 146.5321  0.05111983        0.03306537\n",
      "3     1            0.1971864   74118.37 159.3627  0.04829913        0.07576405\n",
      "4     1            0.3321341   75556.12 174.0647  0.05193036        0.07816073\n",
      "5     1            0.4536741   69300.00 195.0787  0.05292824        0.10714670\n",
      "6     1            0.6273970   70187.62 176.4054  0.04699004        0.10736581\n",
      "  abs_lift_in_zero   Holdout rank correlation\n",
      "1            0.000 0.9123281    1   0.9775394\n",
      "2            0.001 0.9669346    2   0.9321104\n",
      "3            0.002 0.9242359    3   0.9144814\n",
      "4            0.002 0.9218393    3   0.9146693\n",
      "5            0.003 0.8928533    5   0.9788758\n",
      "6            0.003 0.8926342    5   0.9856002\n"
     ]
    }
   ],
   "source": [
    "base = importr('base')\n",
    "from rpy2 import robjects\n",
    "import numpy as np\n",
    "import pandas as pd\n",
    "\n",
    "market_selections = geolift.geo_lift_market_selection(\n",
    "                                        data = geo_test_data_pre_test,\n",
    "                                        treatment_periods = [10,15],\n",
    "                                        N = [2,3,4,5],\n",
    "                                        Y_id = \"Y\",\n",
    "                                        location_id = \"location\",\n",
    "                                        time_id = \"time\",\n",
    "                                        effect_size = list(np.arange(-0.25, 0.25, 0.05)),\n",
    "                                        lookback_window = 1, \n",
    "                                        include_markets = [\"chicago\"],\n",
    "                                        exclude_markets = [\"honolulu\"],\n",
    "                                        cpic = 7.50,\n",
    "                                        budget = 100000,\n",
    "                                        alpha = 0.1,\n",
    "                                        Correlations = True,\n",
    "                                        fixed_effects = True,\n",
    "                                        side_of_test = \"one_sided\"\n",
    "                                        )\n",
    "\n"
   ]
  },
  {
   "cell_type": "code",
   "execution_count": 9,
   "metadata": {},
   "outputs": [
    {
     "name": "stdout",
     "output_type": "stream",
     "text": [
      "    ID                                           location  duration  \\\n",
      "1    1            atlanta, chicago, las vegas, saint paul      15.0   \n",
      "2    2                                  chicago, portland      15.0   \n",
      "3    3             chicago, cincinnati, houston, portland      15.0   \n",
      "4    4                  chicago, houston, nashville, reno      15.0   \n",
      "5    5       atlanta, chicago, cleveland, las vegas, reno      10.0   \n",
      "6    6  atlanta, chicago, cleveland, las vegas, saint ...      10.0   \n",
      "7    7            atlanta, chicago, las vegas, saint paul      10.0   \n",
      "8    8             chicago, cincinnati, houston, portland      10.0   \n",
      "9    9                                  chicago, portland      10.0   \n",
      "10  10                         chicago, houston, portland      10.0   \n",
      "11  11                         chicago, houston, portland      15.0   \n",
      "12  12                                   atlanta, chicago      15.0   \n",
      "13  13                  atlanta, chicago, las vegas, reno      10.0   \n",
      "14  14  chicago, cincinnati, houston, nashville, san d...      15.0   \n",
      "15  15                                   atlanta, chicago      10.0   \n",
      "16  16             atlanta, chicago, cleveland, las vegas      15.0   \n",
      "17  17  baton rouge, chicago, cincinnati, portland, sa...      15.0   \n",
      "18  18                  chicago, houston, nashville, reno      10.0   \n",
      "19  19             atlanta, chicago, cleveland, las vegas      10.0   \n",
      "20  20                  atlanta, chicago, las vegas, reno      15.0   \n",
      "21  21                       atlanta, chicago, cincinnati      15.0   \n",
      "22  22                             atlanta, chicago, reno      15.0   \n",
      "23  23  atlanta, chicago, cincinnati, nashville, san d...      15.0   \n",
      "24  24    baltimore, chicago, houston, philadelphia, reno      10.0   \n",
      "25  25       chicago, houston, nashville, reno, san diego      15.0   \n",
      "26  26                       atlanta, chicago, cincinnati      10.0   \n",
      "27  27  chicago, cincinnati, houston, philadelphia, po...      10.0   \n",
      "28  28                  chicago, miami, phoenix, portland      10.0   \n",
      "29  29                  chicago, miami, phoenix, portland      15.0   \n",
      "30  30                                chicago, cincinnati      15.0   \n",
      "31  31             baltimore, chicago, philadelphia, reno      10.0   \n",
      "32  32  atlanta, chicago, cincinnati, nashville, san d...      10.0   \n",
      "33  33                        atlanta, chicago, las vegas      15.0   \n",
      "34  34  baton rouge, chicago, cincinnati, portland, sa...      10.0   \n",
      "35  35  chicago, cincinnati, houston, nashville, san d...      10.0   \n",
      "36  36            atlanta, chicago, cincinnati, san diego      15.0   \n",
      "37  37                        atlanta, chicago, las vegas      10.0   \n",
      "38  38                             atlanta, chicago, reno      10.0   \n",
      "39  39    atlanta, chicago, houston, nashville, san diego      10.0   \n",
      "40  40                                chicago, cincinnati      10.0   \n",
      "41  41       atlanta, chicago, las vegas, nashville, reno      10.0   \n",
      "42  42       chicago, houston, nashville, reno, san diego      10.0   \n",
      "43  43            atlanta, chicago, cincinnati, san diego      10.0   \n",
      "44  44               atlanta, chicago, houston, nashville      15.0   \n",
      "45  45    chicago, miami, philadelphia, phoenix, portland      10.0   \n",
      "46  46           chicago, columbus, philadelphia, phoenix      10.0   \n",
      "47  47          chicago, las vegas, philadelphia, phoenix      10.0   \n",
      "48  48               atlanta, chicago, houston, nashville      10.0   \n",
      "49  49     atlanta, chicago, houston, reno, san francisco      15.0   \n",
      "50  50              atlanta, chicago, reno, san francisco      15.0   \n",
      "51  51              atlanta, chicago, reno, san francisco      10.0   \n",
      "52  52     atlanta, chicago, houston, reno, san francisco      10.0   \n",
      "\n",
      "      EffectSize  Power  AvgScaledL2Imbalance    Investment      AvgATT  \\\n",
      "1   5.000000e-02    1.0              0.555834  8.530500e+04  189.256744   \n",
      "2   5.000000e-02    1.0              0.173878  3.228187e+04  146.532081   \n",
      "3   5.000000e-02    1.0              0.197186  7.411837e+04  159.362739   \n",
      "4   5.000000e-02    1.0              0.332134  7.555612e+04  174.064736   \n",
      "5   5.000000e-02    1.0              0.453674  6.930000e+04  195.078734   \n",
      "6   5.000000e-02    1.0              0.627397  7.018762e+04  176.405390   \n",
      "7   5.000000e-02    1.0              0.597840  5.776087e+04  202.490025   \n",
      "8   5.000000e-02    1.0              0.196700  4.951387e+04  151.574100   \n",
      "9   5.000000e-02    1.0              0.168231  2.182312e+04  155.452570   \n",
      "10  5.000000e-02    1.0              0.230563  3.769462e+04  182.782492   \n",
      "11  5.000000e-02    1.0              0.233664  5.651662e+04  187.099834   \n",
      "12  5.000000e-02    1.0              0.446155  4.067437e+04  156.003905   \n",
      "13  5.000000e-02    1.0              0.444398  5.687325e+04  213.629965   \n",
      "14  5.000000e-02    1.0              0.269917  9.575550e+04  146.797536   \n",
      "15  5.000000e-02    1.0              0.454754  2.743912e+04  154.693357   \n",
      "16  5.000000e-02    1.0              0.532348  8.666175e+04  220.819956   \n",
      "17  5.000000e-02    1.0              0.207596  8.529450e+04  125.542966   \n",
      "18  5.000000e-02    1.0              0.327820  5.002425e+04  137.321246   \n",
      "19  5.000000e-02    1.0              0.549326  5.846437e+04  232.901185   \n",
      "20  5.000000e-02    1.0              0.425787  8.491762e+04  224.493716   \n",
      "21  5.000000e-02    1.0              0.291723  5.827612e+04  134.162849   \n",
      "22  5.000000e-02    1.0              0.341805  5.745487e+04  126.851794   \n",
      "23  5.000000e-02    1.0              0.267020  9.647850e+04  124.746522   \n",
      "24  5.000000e-02    1.0              0.474358  9.582375e+04  322.687419   \n",
      "25  5.000000e-02    1.0              0.300327  9.493425e+04  123.971579   \n",
      "26  5.000000e-02    1.0              0.291483  3.925837e+04  119.070561   \n",
      "27  5.000000e-02    1.0              0.374160  9.227437e+04  319.940485   \n",
      "28  5.000000e-02    1.0              0.444208  5.656125e+04  246.581449   \n",
      "29  5.000000e-02    1.0              0.453001  8.378700e+04  241.324979   \n",
      "30  5.000000e-02    1.0              0.184246  3.331837e+04  100.433285   \n",
      "31  5.000000e-02    1.0              0.549276  7.995225e+04  355.475016   \n",
      "32  5.000000e-02    1.0              0.273342  6.480225e+04  110.454748   \n",
      "33  5.000000e-02    1.0              0.537844  6.813712e+04  274.087640   \n",
      "34  5.000000e-02    1.0              0.203638  5.731012e+04   97.076513   \n",
      "35  5.000000e-02    1.0              0.266671  6.380175e+04  104.887292   \n",
      "36 -5.551115e-17    1.0              0.242171  8.621354e-11  -80.203449   \n",
      "37  5.000000e-02    1.0              0.562174  4.603762e+04  295.749357   \n",
      "38 -5.000000e-02    1.0              0.347762  3.827475e+04 -257.588545   \n",
      "39  5.000000e-02    1.0              0.389355  6.885450e+04  273.212095   \n",
      "40 -5.551115e-17    1.0              0.180679  2.485387e-11  -93.981916   \n",
      "41  5.000000e-02    1.0              0.409123  6.962325e+04  291.595218   \n",
      "42 -5.551115e-17    1.0              0.296816  6.974213e-11 -111.878513   \n",
      "43 -5.551115e-17    1.0              0.241152  5.778961e-11 -129.530262   \n",
      "44  5.000000e-02    1.0              0.406306  8.373337e+04  310.577109   \n",
      "45  5.000000e-02    1.0              0.561854  9.932175e+04  443.941656   \n",
      "46  5.000000e-02    1.0              0.656444  9.257062e+04  522.556834   \n",
      "47  5.000000e-02    1.0              0.525101  9.511237e+04  553.777260   \n",
      "48  5.000000e-02    1.0              0.403671  5.606062e+04  359.294212   \n",
      "49 -5.551115e-17    1.0              0.406892  1.497727e-10 -400.973289   \n",
      "50 -5.551115e-17    1.0              0.362814  1.228667e-10 -428.671092   \n",
      "51 -5.551115e-17    1.0              0.362155  8.051643e-11 -535.769447   \n",
      "52 -5.551115e-17    1.0              0.399560  9.813733e-11 -538.944131   \n",
      "\n",
      "    Average_MDE  ProportionTotal_Y  abs_lift_in_zero   Holdout  rank  \\\n",
      "1      0.049914           0.087672             0.000  0.912328     1   \n",
      "2      0.051120           0.033065             0.001  0.966935     2   \n",
      "3      0.048299           0.075764             0.002  0.924236     3   \n",
      "4      0.051930           0.078161             0.002  0.921839     3   \n",
      "5      0.052928           0.107147             0.003  0.892853     5   \n",
      "6      0.046990           0.107366             0.003  0.892634     5   \n",
      "7      0.052721           0.087672             0.003  0.912328     5   \n",
      "8      0.045732           0.075764             0.004  0.924236     8   \n",
      "9      0.053608           0.033065             0.004  0.966935     8   \n",
      "10     0.054801           0.057971             0.005  0.942029    10   \n",
      "11     0.056195           0.057971             0.006  0.942029    11   \n",
      "12     0.042855           0.041952             0.007  0.958048    12   \n",
      "13     0.056703           0.087453             0.007  0.912547    12   \n",
      "14     0.042822           0.098011             0.007  0.901989    12   \n",
      "15     0.041959           0.041952             0.008  0.958048    15   \n",
      "16     0.057755           0.089225             0.008  0.910775    15   \n",
      "17     0.041043           0.087067             0.009  0.912933    17   \n",
      "18     0.040816           0.078161             0.009  0.921839    17   \n",
      "19     0.060343           0.089225             0.010  0.910775    19   \n",
      "20     0.060052           0.087453             0.010  0.912547    19   \n",
      "21     0.038421           0.059745             0.012  0.940255    21   \n",
      "22     0.036789           0.059874             0.013  0.940126    22   \n",
      "23     0.035876           0.098663             0.014  0.901337    23   \n",
      "24     0.063982           0.146029             0.014  0.853971    23   \n",
      "25     0.036246           0.098140             0.014  0.901860    23   \n",
      "26     0.033588           0.059745             0.016  0.940255    26   \n",
      "27     0.066002           0.138974             0.016  0.861026    26   \n",
      "28     0.066416           0.086440             0.016  0.913560    26   \n",
      "29     0.065779           0.086440             0.016  0.913560    26   \n",
      "30     0.033375           0.034188             0.017  0.965812    30   \n",
      "31     0.067823           0.121124             0.018  0.878876    31   \n",
      "32     0.031393           0.098663             0.019  0.901337    32   \n",
      "33     0.069117           0.069531             0.019  0.930469    32   \n",
      "34     0.031191           0.087067             0.019  0.912933    32   \n",
      "35     0.030244           0.098011             0.020  0.901989    35   \n",
      "36    -0.022711           0.079724             0.023  0.079724    36   \n",
      "37     0.073917           0.069531             0.024  0.930469    37   \n",
      "38    -0.073814           0.059874             0.024  0.059874    38   \n",
      "39     0.076260           0.105775             0.026  0.894225    39   \n",
      "40    -0.030525           0.034188             0.031  0.034188    40   \n",
      "41     0.080835           0.106391             0.031  0.893609    41   \n",
      "42    -0.032314           0.098140             0.032  0.098140    41   \n",
      "43    -0.035984           0.079724             0.036  0.079724    43   \n",
      "44     0.086344           0.085796             0.036  0.914204    44   \n",
      "45     0.086740           0.149650             0.037  0.850350    45   \n",
      "46     0.087716           0.139221             0.038  0.860779    46   \n",
      "47     0.090722           0.142270             0.041  0.857730    47   \n",
      "48     0.100785           0.085796             0.051  0.914204    48   \n",
      "49    -0.077147           0.144635             0.077  0.144635    49   \n",
      "50    -0.080166           0.119729             0.080  0.119729    50   \n",
      "51    -0.099759           0.119729             0.100  0.119729    51   \n",
      "52    -0.102591           0.144635             0.103  0.144635    52   \n",
      "\n",
      "    correlation  \n",
      "1      0.977539  \n",
      "2      0.932110  \n",
      "3      0.914481  \n",
      "4      0.914669  \n",
      "5      0.978876  \n",
      "6      0.985600  \n",
      "7      0.977539  \n",
      "8      0.914481  \n",
      "9      0.932110  \n",
      "10     0.913955  \n",
      "11     0.913955  \n",
      "12     0.964911  \n",
      "13     0.968308  \n",
      "14     0.899228  \n",
      "15     0.964911  \n",
      "16     0.982951  \n",
      "17     0.909183  \n",
      "18     0.914669  \n",
      "19     0.982951  \n",
      "20     0.968308  \n",
      "21     0.957772  \n",
      "22     0.960396  \n",
      "23     0.930298  \n",
      "24     0.941950  \n",
      "25     0.905964  \n",
      "26     0.957772  \n",
      "27     0.938457  \n",
      "28     0.930654  \n",
      "29     0.930654  \n",
      "30     0.935330  \n",
      "31     0.952709  \n",
      "32     0.930298  \n",
      "33     0.971475  \n",
      "34     0.909183  \n",
      "35     0.899228  \n",
      "36     0.942889  \n",
      "37     0.971475  \n",
      "38     0.960396  \n",
      "39     0.921086  \n",
      "40     0.935330  \n",
      "41     0.956418  \n",
      "42     0.905964  \n",
      "43     0.942889  \n",
      "44     0.930759  \n",
      "45     0.942323  \n",
      "46     0.965139  \n",
      "47     0.970384  \n",
      "48     0.930759  \n",
      "49     0.943778  \n",
      "50     0.953414  \n",
      "51     0.953414  \n",
      "52     0.943778  \n"
     ]
    }
   ],
   "source": [
    "print(market_selections)"
   ]
  },
  {
   "cell_type": "code",
   "execution_count": 10,
   "metadata": {},
   "outputs": [],
   "source": [
    "## Example - Analyzing the Test Results"
   ]
  },
  {
   "cell_type": "code",
   "execution_count": 11,
   "metadata": {},
   "outputs": [],
   "source": [
    "GeoLift_Test = pygeolift.data.load_GeoLift_Test()"
   ]
  },
  {
   "cell_type": "code",
   "execution_count": 12,
   "metadata": {},
   "outputs": [
    {
     "name": "stderr",
     "output_type": "stream",
     "text": [
      "R[write to console]: ##################################\n",
      "#####       Summary       #####\n",
      "##################################\n",
      "\n",
      "* Raw Number of Locations: 40\n",
      "* Time Periods: 105\n",
      "* Final Number of Locations (Complete): 40\n",
      "\n"
     ]
    }
   ],
   "source": [
    "geo_test_data_test = geolift.geo_data_read(data = GeoLift_Test,\n",
    "                                    date_id = \"date\",\n",
    "                                    location_id = \"location\",\n",
    "                                    Y_id = \"Y\",\n",
    "                                    format = \"yyyy-mm-dd\",\n",
    "                                    summary = True)\n",
    "\n",
    "\n"
   ]
  },
  {
   "cell_type": "code",
   "execution_count": 13,
   "metadata": {},
   "outputs": [
    {
     "data": {
      "text/html": [
       "<div>\n",
       "<style scoped>\n",
       "    .dataframe tbody tr th:only-of-type {\n",
       "        vertical-align: middle;\n",
       "    }\n",
       "\n",
       "    .dataframe tbody tr th {\n",
       "        vertical-align: top;\n",
       "    }\n",
       "\n",
       "    .dataframe thead th {\n",
       "        text-align: right;\n",
       "    }\n",
       "</style>\n",
       "<table border=\"1\" class=\"dataframe\">\n",
       "  <thead>\n",
       "    <tr style=\"text-align: right;\">\n",
       "      <th></th>\n",
       "      <th>location</th>\n",
       "      <th>time</th>\n",
       "      <th>Y</th>\n",
       "    </tr>\n",
       "  </thead>\n",
       "  <tbody>\n",
       "    <tr>\n",
       "      <th>1</th>\n",
       "      <td>atlanta</td>\n",
       "      <td>1</td>\n",
       "      <td>3384</td>\n",
       "    </tr>\n",
       "    <tr>\n",
       "      <th>2</th>\n",
       "      <td>atlanta</td>\n",
       "      <td>2</td>\n",
       "      <td>3904</td>\n",
       "    </tr>\n",
       "    <tr>\n",
       "      <th>3</th>\n",
       "      <td>atlanta</td>\n",
       "      <td>3</td>\n",
       "      <td>5734</td>\n",
       "    </tr>\n",
       "    <tr>\n",
       "      <th>4</th>\n",
       "      <td>atlanta</td>\n",
       "      <td>4</td>\n",
       "      <td>4311</td>\n",
       "    </tr>\n",
       "    <tr>\n",
       "      <th>5</th>\n",
       "      <td>atlanta</td>\n",
       "      <td>5</td>\n",
       "      <td>3686</td>\n",
       "    </tr>\n",
       "  </tbody>\n",
       "</table>\n",
       "</div>"
      ],
      "text/plain": [
       "  location  time     Y\n",
       "1  atlanta     1  3384\n",
       "2  atlanta     2  3904\n",
       "3  atlanta     3  5734\n",
       "4  atlanta     4  4311\n",
       "5  atlanta     5  3686"
      ]
     },
     "execution_count": 13,
     "metadata": {},
     "output_type": "execute_result"
    }
   ],
   "source": [
    "geo_test_data_test.head()"
   ]
  },
  {
   "cell_type": "code",
   "execution_count": 14,
   "metadata": {},
   "outputs": [],
   "source": [
    "geo_lift_r = geolift.rpackage"
   ]
  },
  {
   "cell_type": "code",
   "execution_count": 15,
   "metadata": {},
   "outputs": [],
   "source": [
    "from rpy2.robjects import local_context, conversion, default_converter, pandas2ri, StrVector\n",
    "\n",
    "with localconverter(default_converter + pandas2ri.converter):\n",
    "  geo_test_data_test_r = conversion.py2rpy(geo_test_data_test)"
   ]
  },
  {
   "cell_type": "code",
   "execution_count": 16,
   "metadata": {},
   "outputs": [
    {
     "data": {
      "text/plain": [
       "rpy2.robjects.vectors.DataFrame"
      ]
     },
     "execution_count": 16,
     "metadata": {},
     "output_type": "execute_result"
    }
   ],
   "source": [
    "type(geo_test_data_test_r)"
   ]
  },
  {
   "cell_type": "code",
   "execution_count": 36,
   "metadata": {},
   "outputs": [],
   "source": [
    "geo_test = geolift.geo_lift(\n",
    "                   data = geo_test_data_test_r,\n",
    "                   locations = [\"chicago\", \"portland\"],\n",
    "                   treatment_start_time = 91, \n",
    "                   treatment_end_time = 105,\n",
    "                   Y_id = \"Y\",\n",
    "                   location_id = \"location\",\n",
    "                   time_id = \"time\")\n"
   ]
  },
  {
   "cell_type": "code",
   "execution_count": 39,
   "metadata": {},
   "outputs": [
    {
     "name": "stdout",
     "output_type": "stream",
     "text": [
      "\n",
      "Statistics\n",
      "----------\n",
      "Average ATT: 155.556\n",
      "Percent Lift: 5.40%\n",
      "Incremental Y: 4666.67\n",
      "P-value: 0.02\n",
      "90.0% Confidence Interval: (-6535.290, -6535.290)\n",
      "\n",
      "Balance\n",
      "-------\n",
      "L2 Imbalance: 909.489\n",
      "Scaled L2 Imbalance: 0.1636\n",
      "Percent improvement from naive model: 84%\n",
      "Average estimated bias: \n",
      "\n",
      "Model Weights\n",
      "-------------\n",
      "Prognostic function: none\n",
      "\n",
      "\n"
     ]
    }
   ],
   "source": [
    "print(geo_test.summarize())"
   ]
  },
  {
   "cell_type": "code",
   "execution_count": 24,
   "metadata": {},
   "outputs": [
    {
     "data": {
      "text/plain": [
       "array([-2147483648], dtype=int32)"
      ]
     },
     "execution_count": 24,
     "metadata": {},
     "output_type": "execute_result"
    }
   ],
   "source": [
    "geo_test.summary.bias_est"
   ]
  }
 ],
 "metadata": {
  "kernelspec": {
   "display_name": "Python 3 (ipykernel)",
   "language": "python",
   "name": "python3"
  },
  "language_info": {
   "codemirror_mode": {
    "name": "ipython",
    "version": 3
   },
   "file_extension": ".py",
   "mimetype": "text/x-python",
   "name": "python",
   "nbconvert_exporter": "python",
   "pygments_lexer": "ipython3",
   "version": "3.9.13"
  },
  "vscode": {
   "interpreter": {
    "hash": "1e9a0460126532ec9d3af5fff910c35389b590dd1e18dec9beb0fe1db58b7069"
   }
  }
 },
 "nbformat": 4,
 "nbformat_minor": 2
}
