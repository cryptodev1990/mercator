{
 "cells": [
  {
   "cell_type": "markdown",
   "metadata": {},
   "source": [
    "# PyGeoLift Walkthrough\n",
    "\n",
    "## Summary\n",
    "\n",
    "Example of using the `pygeolift` package. This largely following the R package vignette for [GeoLift](https://github.com/facebookincubator/GeoLift/blob/main/vignettes/GeoLift_Walkthrough.md#example---data)."
   ]
  },
  {
   "cell_type": "markdown",
   "metadata": {},
   "source": [
    "## Prerequisites\n",
    "\n",
    "Follow the steps in `../README.md` to install R and python dependencies. This notebook should be running with a Python kernal from the poetry virtual environment."
   ]
  },
  {
   "cell_type": "markdown",
   "metadata": {},
   "source": [
    "Ensure that pygeolift is in the path."
   ]
  },
  {
   "cell_type": "code",
   "execution_count": 3,
   "metadata": {},
   "outputs": [],
   "source": [
    "import sys\n",
    "import os\n",
    "sys.path.append(\"..\")"
   ]
  },
  {
   "cell_type": "markdown",
   "metadata": {},
   "source": [
    "Development settings for reloading `pygeolift`."
   ]
  },
  {
   "cell_type": "code",
   "execution_count": 4,
   "metadata": {},
   "outputs": [],
   "source": [
    "%reload_ext autoreload\n",
    "%autoreload 1 # Reload all modules imported with %aimport every time before executing the Python code typed.\n",
    "%aimport pygeolift"
   ]
  },
  {
   "cell_type": "markdown",
   "metadata": {},
   "source": [
    "## Reading Example Data"
   ]
  },
  {
   "cell_type": "markdown",
   "metadata": {},
   "source": [
    "The `pygeolift` package includes the example datasets from the [GeoLift](https://github.com/facebookincubator/GeoLift) R package.\n",
    "\n",
    "The dataset `GeoLift_PreTest` is a includes cities and conversions. It is intended to be used as an example for selecting markets with GeoLift."
   ]
  },
  {
   "cell_type": "code",
   "execution_count": 5,
   "metadata": {},
   "outputs": [
    {
     "data": {
      "text/html": [
       "<div>\n",
       "<style scoped>\n",
       "    .dataframe tbody tr th:only-of-type {\n",
       "        vertical-align: middle;\n",
       "    }\n",
       "\n",
       "    .dataframe tbody tr th {\n",
       "        vertical-align: top;\n",
       "    }\n",
       "\n",
       "    .dataframe thead th {\n",
       "        text-align: right;\n",
       "    }\n",
       "</style>\n",
       "<table border=\"1\" class=\"dataframe\">\n",
       "  <thead>\n",
       "    <tr style=\"text-align: right;\">\n",
       "      <th></th>\n",
       "      <th>location</th>\n",
       "      <th>Y</th>\n",
       "      <th>date</th>\n",
       "    </tr>\n",
       "  </thead>\n",
       "  <tbody>\n",
       "    <tr>\n",
       "      <th>0</th>\n",
       "      <td>new york</td>\n",
       "      <td>3300</td>\n",
       "      <td>2021-01-01</td>\n",
       "    </tr>\n",
       "    <tr>\n",
       "      <th>1</th>\n",
       "      <td>new york</td>\n",
       "      <td>3202</td>\n",
       "      <td>2021-01-02</td>\n",
       "    </tr>\n",
       "    <tr>\n",
       "      <th>2</th>\n",
       "      <td>new york</td>\n",
       "      <td>4138</td>\n",
       "      <td>2021-01-03</td>\n",
       "    </tr>\n",
       "    <tr>\n",
       "      <th>3</th>\n",
       "      <td>new york</td>\n",
       "      <td>3716</td>\n",
       "      <td>2021-01-04</td>\n",
       "    </tr>\n",
       "    <tr>\n",
       "      <th>4</th>\n",
       "      <td>new york</td>\n",
       "      <td>3270</td>\n",
       "      <td>2021-01-05</td>\n",
       "    </tr>\n",
       "  </tbody>\n",
       "</table>\n",
       "</div>"
      ],
      "text/plain": [
       "   location     Y        date\n",
       "0  new york  3300  2021-01-01\n",
       "1  new york  3202  2021-01-02\n",
       "2  new york  4138  2021-01-03\n",
       "3  new york  3716  2021-01-04\n",
       "4  new york  3270  2021-01-05"
      ]
     },
     "execution_count": 5,
     "metadata": {},
     "output_type": "execute_result"
    }
   ],
   "source": [
    "import pygeolift.data\n",
    "geo_lift_pre_test = pygeolift.data.load_GeoLift_PreTest()\n",
    "geo_lift_pre_test.head()"
   ]
  },
  {
   "cell_type": "markdown",
   "metadata": {},
   "source": [
    "This data needs to be preprocessed with `geo_lift_pre_test` before running the market selection algorithm. The preprocessing includes: converting dates to a integer times (1, 2, ..., max time), and dropping any units with missing data."
   ]
  },
  {
   "cell_type": "code",
   "execution_count": 7,
   "metadata": {},
   "outputs": [
    {
     "name": "stderr",
     "output_type": "stream",
     "text": [
      "R[write to console]: ##################################\n",
      "#####       Summary       #####\n",
      "##################################\n",
      "\n",
      "* Raw Number of Locations: 40\n",
      "* Time Periods: 90\n",
      "* Final Number of Locations (Complete): 40\n",
      "\n"
     ]
    }
   ],
   "source": [
    "from pygeolift.geolift import geo_data_read\n",
    "geo_test_data_pre_test = geo_data_read(geo_lift_pre_test,\n",
    "                                        date_id = \"date\",\n",
    "                                        location_id = \"location\",\n",
    "                                        Y_id = \"Y\",\n",
    "                                        X = [], #empty list as we have no covariates\n",
    "                                        format = \"yyyy-mm-dd\",\n",
    "                                        summary = True)"
   ]
  },
  {
   "cell_type": "markdown",
   "metadata": {},
   "source": [
    "\n",
    "\n"
   ]
  },
  {
   "cell_type": "code",
   "execution_count": 9,
   "metadata": {},
   "outputs": [
    {
     "name": "stderr",
     "output_type": "stream",
     "text": [
      "R[write to console]: Setting up cluster.\n",
      "\n",
      "R[write to console]: Importing functions into cluster.\n",
      "\n",
      "R[write to console]: Attempting to load the environment ‘package:dplyr’\n",
      "\n",
      "R[write to console]: \n",
      "Attaching package: ‘dplyr’\n",
      "\n",
      "\n",
      "R[write to console]: The following objects are masked from ‘package:stats’:\n",
      "\n",
      "    filter, lag\n",
      "\n",
      "\n",
      "R[write to console]: The following objects are masked from ‘package:base’:\n",
      "\n",
      "    intersect, setdiff, setequal, union\n",
      "\n",
      "\n",
      "R[write to console]: \n",
      "Deterministic setup with 2 locations in treatment.\n",
      "\n",
      "R[write to console]: \n",
      "Deterministic setup with 3 locations in treatment.\n",
      "\n",
      "R[write to console]: \n",
      "Deterministic setup with 4 locations in treatment.\n",
      "\n",
      "R[write to console]: \n",
      "Deterministic setup with 5 locations in treatment.\n",
      "\n"
     ]
    },
    {
     "name": "stdout",
     "output_type": "stream",
     "text": [
      "  ID                                           location duration EffectSize\n",
      "1  1            atlanta, chicago, las vegas, saint paul       15       0.05\n",
      "2  2                                  chicago, portland       15       0.05\n",
      "3  3             chicago, cincinnati, houston, portland       15       0.05\n",
      "4  4                  chicago, houston, nashville, reno       15       0.05\n",
      "5  5       atlanta, chicago, cleveland, las vegas, reno       10       0.05\n",
      "6  6 atlanta, chicago, cleveland, las vegas, saint paul       10       0.05\n",
      "  Power AvgScaledL2Imbalance Investment   AvgATT Average_MDE ProportionTotal_Y\n",
      "1     1            0.5558341   85305.00 189.2567  0.04991417        0.08767192\n",
      "2     1            0.1738778   32281.87 146.5321  0.05111983        0.03306537\n",
      "3     1            0.1971864   74118.37 159.3627  0.04829912        0.07576405\n",
      "4     1            0.3321341   75556.12 174.0647  0.05193036        0.07816073\n",
      "5     1            0.4536741   69300.00 195.0787  0.05292824        0.10714670\n",
      "6     1            0.6273970   70187.62 176.4054  0.04699004        0.10736581\n",
      "  abs_lift_in_zero   Holdout rank correlation\n",
      "1            0.000 0.9123281    1   0.9775394\n",
      "2            0.001 0.9669346    2   0.9321104\n",
      "3            0.002 0.9242359    3   0.9144814\n",
      "4            0.002 0.9218393    3   0.9146693\n",
      "5            0.003 0.8928533    5   0.9788758\n",
      "6            0.003 0.8926342    5   0.9856002\n"
     ]
    }
   ],
   "source": [
    "from pygeolift.geolift import geo_lift_market_selection\n",
    "import numpy as np\n",
    "\n",
    "market_selections = geo_lift_market_selection(data = geo_test_data_pre_test,\n",
    "                                        treatment_periods = [10,15],\n",
    "                                        N = [2,3,4,5],\n",
    "                                        Y_id = \"Y\",\n",
    "                                        location_id = \"location\",\n",
    "                                        time_id = \"time\",\n",
    "                                        effect_size = list(np.arange(-0.25, 0.25, 0.05)),\n",
    "                                        lookback_window = 1, \n",
    "                                        include_markets = [\"chicago\"],\n",
    "                                        exclude_markets = [\"honolulu\"],\n",
    "                                        cpic = 7.50,\n",
    "                                        budget = 100000,\n",
    "                                        alpha = 0.1,\n",
    "                                        Correlations = True,\n",
    "                                        fixed_effects = True,\n",
    "                                        side_of_test = \"one_sided\"\n",
    "                                        )\n"
   ]
  },
  {
   "cell_type": "markdown",
   "metadata": {},
   "source": [
    "The output is a Python class that is equivalent to the output of the R function [geolift::GeoLiftMarketSelection](https://rdrr.io/github/facebookincubator/GeoLift/man/print.GeoLiftMarketSelection.html). See those docs for details, or see [../pygeolift/geolift.py]."
   ]
  },
  {
   "cell_type": "code",
   "execution_count": 12,
   "metadata": {},
   "outputs": [
    {
     "data": {
      "text/plain": [
       "pygeolift.geolift.GeoLiftMarketSelection"
      ]
     },
     "execution_count": 12,
     "metadata": {},
     "output_type": "execute_result"
    }
   ],
   "source": [
    "type(market_selections)"
   ]
  },
  {
   "cell_type": "markdown",
   "metadata": {},
   "source": [
    "This object has three attributes: "
   ]
  },
  {
   "cell_type": "code",
   "execution_count": 14,
   "metadata": {},
   "outputs": [
    {
     "name": "stdout",
     "output_type": "stream",
     "text": [
      "   ID                                      location  duration  EffectSize  \\\n",
      "1   1       atlanta, chicago, las vegas, saint paul      15.0        0.05   \n",
      "2   2                             chicago, portland      15.0        0.05   \n",
      "3   3        chicago, cincinnati, houston, portland      15.0        0.05   \n",
      "4   4             chicago, houston, nashville, reno      15.0        0.05   \n",
      "5   5  atlanta, chicago, cleveland, las vegas, reno      10.0        0.05   \n",
      "\n",
      "   Power  AvgScaledL2Imbalance  Investment      AvgATT  Average_MDE  \\\n",
      "1    1.0              0.555834   85305.000  189.256736     0.049914   \n",
      "2    1.0              0.173878   32281.875  146.532081     0.051120   \n",
      "3    1.0              0.197186   74118.375  159.362699     0.048299   \n",
      "4    1.0              0.332134   75556.125  174.064736     0.051930   \n",
      "5    1.0              0.453674   69300.000  195.078734     0.052928   \n",
      "\n",
      "   ProportionTotal_Y  abs_lift_in_zero   Holdout  rank  correlation  \n",
      "1           0.087672             0.000  0.912328     1     0.977539  \n",
      "2           0.033065             0.001  0.966935     2     0.932110  \n",
      "3           0.075764             0.002  0.924236     3     0.914481  \n",
      "4           0.078161             0.002  0.921839     3     0.914669  \n",
      "5           0.107147             0.003  0.892853     5     0.978876  \n",
      "           location  duration  EffectSize  power  AvgScaledL2Imbalance  \\\n",
      "1  atlanta, chicago      10.0       -0.25    1.0              0.454754   \n",
      "2  atlanta, chicago      10.0       -0.20    1.0              0.454754   \n",
      "3  atlanta, chicago      10.0       -0.15    1.0              0.454754   \n",
      "4  atlanta, chicago      10.0       -0.10    1.0              0.454754   \n",
      "5  atlanta, chicago      10.0       -0.05    1.0              0.454754   \n",
      "\n",
      "   Investment      AvgATT  AvgDetectedLift  \n",
      "1  137195.625 -942.871643        -0.255744  \n",
      "2  109756.500 -759.944143        -0.206127  \n",
      "3   82317.375 -577.016643        -0.156509  \n",
      "4   54878.250 -394.089143        -0.106892  \n",
      "5   27439.125 -211.161643        -0.057275  \n",
      "GeoLiftMarketSelectionParameters(data=        location  time     Y\n",
      "1        atlanta     1  3384\n",
      "2        atlanta     2  3904\n",
      "3        atlanta     3  5734\n",
      "4        atlanta     4  4311\n",
      "5        atlanta     5  3686\n",
      "...          ...   ...   ...\n",
      "3596  washington    86  3037\n",
      "3597  washington    87  4453\n",
      "3598  washington    88  3923\n",
      "3599  washington    89  2144\n",
      "3600  washington    90  1996\n",
      "\n",
      "[3600 rows x 3 columns], model='none', cpic=7.5, side_of_test='one_sided', fixed_effects=True)\n"
     ]
    }
   ],
   "source": [
    "print(market_selections.BestMarkets.head())  # Data frame of the locations ranked from best to worst\n",
    "print(market_selections.PowerCurves.head()) # Data frame of the power for each effect size for each (location, duration) \n",
    "print(market_selections.parameters) # parameters used when selecting markets"
   ]
  },
  {
   "cell_type": "markdown",
   "metadata": {},
   "source": [
    "The attribute `BestMarkets` contains a data frame with the best markets. \n",
    "Each row is a unique (location, duration) in the data. The values for each (location, duration) is \n",
    "the minimum effect size that had a power > 80%.  Locations that lack power and are over budget are filtered out prior to returning values.\n",
    "\n",
    "- `AverageATT`: Estimated incremental `Y` in the treated units. ATT is the *Average Treatment Effect on the Treated*\n",
    "- `EffectSize`: Relative effect size. I.e. 0.05 means that the treatment condition increases the `Y` of all treated units by 5%. Since \n",
    "   the average values of `Y` vary between units, this means that the treatment effect in levels varies between units. Only the row for the lowest (in abs value) `EffectSize` for a (location, duration) is shown in this table. See `PowerCurves` for the power of all effect sizes of that (location, duration).\n",
    "- `duration`: Number of time periods in the experiment (usually days)\n",
    "- `Power`: The proportion of times that the simulation was significant for that `EffectSize`. The number of simulations is equal to `lookback_period`. That means that if `lookback_period = 1`, then power is either 1 or 0. \n",
    "- `Average_MDE`: Estimated relative lift. This misnamed. It is *NOT* the MDE, which is the treatment effect in the true DGP.\n",
    "- rank = avgerage of the ranks of `abs(EffectSize)`, `abs_lift_in_zero` (difference between estimated and actual Effect Size), \n",
    "- `AvgScaledL2Imbalance`: A statistical thing that is used to choose between models. The theory is that weights that differ more\n",
    "   from equal weights means the model is more informative. \n",
    "- `Investment`: If a cost per incremental conversion (CPIC) is provided, it is equal to `sum(Y * EffectSize * CPIC)` for the treated units.\n",
    "- `abs_lift_in_zero`: The `mean(abs(EffectSize - detected_lift))`. This is a measure of the goodness of the estimator - closer to 0 is better. In practice, so few simulations are run, it may have little meaning. \n",
    "- `ProportionTotal_Y`: Proportion of total `Y` in the treated group. Warning: GeoLift does weird things for negative effect sizes and switches the groups in those cases. I don't fully understand it.\n",
    "- `Holdout`: Proportion of total `Y` in the control group.\n",
    "- `correlation`: It is intended to measure the correlation between the treated group and the overall population of geo-units. The higher it is, the more representative the treated units should be for the overall population of units. This is needed because the method is only concerned about maximizing power and estimating treatment effects *for the treated units*; it is not not estimating how well it estimates the treatment effect for all units. I don't fully understand their calculations. "
   ]
  },
  {
   "cell_type": "code",
   "execution_count": 13,
   "metadata": {},
   "outputs": [
    {
     "data": {
      "text/html": [
       "<div>\n",
       "<style scoped>\n",
       "    .dataframe tbody tr th:only-of-type {\n",
       "        vertical-align: middle;\n",
       "    }\n",
       "\n",
       "    .dataframe tbody tr th {\n",
       "        vertical-align: top;\n",
       "    }\n",
       "\n",
       "    .dataframe thead th {\n",
       "        text-align: right;\n",
       "    }\n",
       "</style>\n",
       "<table border=\"1\" class=\"dataframe\">\n",
       "  <thead>\n",
       "    <tr style=\"text-align: right;\">\n",
       "      <th></th>\n",
       "      <th>ID</th>\n",
       "      <th>location</th>\n",
       "      <th>duration</th>\n",
       "      <th>EffectSize</th>\n",
       "      <th>Power</th>\n",
       "      <th>AvgScaledL2Imbalance</th>\n",
       "      <th>Investment</th>\n",
       "      <th>AvgATT</th>\n",
       "      <th>Average_MDE</th>\n",
       "      <th>ProportionTotal_Y</th>\n",
       "      <th>abs_lift_in_zero</th>\n",
       "      <th>Holdout</th>\n",
       "      <th>rank</th>\n",
       "      <th>correlation</th>\n",
       "    </tr>\n",
       "  </thead>\n",
       "  <tbody>\n",
       "    <tr>\n",
       "      <th>1</th>\n",
       "      <td>1</td>\n",
       "      <td>atlanta, chicago, las vegas, saint paul</td>\n",
       "      <td>15.0</td>\n",
       "      <td>0.05</td>\n",
       "      <td>1.0</td>\n",
       "      <td>0.555834</td>\n",
       "      <td>85305.000</td>\n",
       "      <td>189.256736</td>\n",
       "      <td>0.049914</td>\n",
       "      <td>0.087672</td>\n",
       "      <td>0.000</td>\n",
       "      <td>0.912328</td>\n",
       "      <td>1</td>\n",
       "      <td>0.977539</td>\n",
       "    </tr>\n",
       "    <tr>\n",
       "      <th>2</th>\n",
       "      <td>2</td>\n",
       "      <td>chicago, portland</td>\n",
       "      <td>15.0</td>\n",
       "      <td>0.05</td>\n",
       "      <td>1.0</td>\n",
       "      <td>0.173878</td>\n",
       "      <td>32281.875</td>\n",
       "      <td>146.532081</td>\n",
       "      <td>0.051120</td>\n",
       "      <td>0.033065</td>\n",
       "      <td>0.001</td>\n",
       "      <td>0.966935</td>\n",
       "      <td>2</td>\n",
       "      <td>0.932110</td>\n",
       "    </tr>\n",
       "    <tr>\n",
       "      <th>3</th>\n",
       "      <td>3</td>\n",
       "      <td>chicago, cincinnati, houston, portland</td>\n",
       "      <td>15.0</td>\n",
       "      <td>0.05</td>\n",
       "      <td>1.0</td>\n",
       "      <td>0.197186</td>\n",
       "      <td>74118.375</td>\n",
       "      <td>159.362699</td>\n",
       "      <td>0.048299</td>\n",
       "      <td>0.075764</td>\n",
       "      <td>0.002</td>\n",
       "      <td>0.924236</td>\n",
       "      <td>3</td>\n",
       "      <td>0.914481</td>\n",
       "    </tr>\n",
       "    <tr>\n",
       "      <th>4</th>\n",
       "      <td>4</td>\n",
       "      <td>chicago, houston, nashville, reno</td>\n",
       "      <td>15.0</td>\n",
       "      <td>0.05</td>\n",
       "      <td>1.0</td>\n",
       "      <td>0.332134</td>\n",
       "      <td>75556.125</td>\n",
       "      <td>174.064736</td>\n",
       "      <td>0.051930</td>\n",
       "      <td>0.078161</td>\n",
       "      <td>0.002</td>\n",
       "      <td>0.921839</td>\n",
       "      <td>3</td>\n",
       "      <td>0.914669</td>\n",
       "    </tr>\n",
       "    <tr>\n",
       "      <th>5</th>\n",
       "      <td>5</td>\n",
       "      <td>atlanta, chicago, cleveland, las vegas, reno</td>\n",
       "      <td>10.0</td>\n",
       "      <td>0.05</td>\n",
       "      <td>1.0</td>\n",
       "      <td>0.453674</td>\n",
       "      <td>69300.000</td>\n",
       "      <td>195.078734</td>\n",
       "      <td>0.052928</td>\n",
       "      <td>0.107147</td>\n",
       "      <td>0.003</td>\n",
       "      <td>0.892853</td>\n",
       "      <td>5</td>\n",
       "      <td>0.978876</td>\n",
       "    </tr>\n",
       "  </tbody>\n",
       "</table>\n",
       "</div>"
      ],
      "text/plain": [
       "   ID                                      location  duration  EffectSize  \\\n",
       "1   1       atlanta, chicago, las vegas, saint paul      15.0        0.05   \n",
       "2   2                             chicago, portland      15.0        0.05   \n",
       "3   3        chicago, cincinnati, houston, portland      15.0        0.05   \n",
       "4   4             chicago, houston, nashville, reno      15.0        0.05   \n",
       "5   5  atlanta, chicago, cleveland, las vegas, reno      10.0        0.05   \n",
       "\n",
       "   Power  AvgScaledL2Imbalance  Investment      AvgATT  Average_MDE  \\\n",
       "1    1.0              0.555834   85305.000  189.256736     0.049914   \n",
       "2    1.0              0.173878   32281.875  146.532081     0.051120   \n",
       "3    1.0              0.197186   74118.375  159.362699     0.048299   \n",
       "4    1.0              0.332134   75556.125  174.064736     0.051930   \n",
       "5    1.0              0.453674   69300.000  195.078734     0.052928   \n",
       "\n",
       "   ProportionTotal_Y  abs_lift_in_zero   Holdout  rank  correlation  \n",
       "1           0.087672             0.000  0.912328     1     0.977539  \n",
       "2           0.033065             0.001  0.966935     2     0.932110  \n",
       "3           0.075764             0.002  0.924236     3     0.914481  \n",
       "4           0.078161             0.002  0.921839     3     0.914669  \n",
       "5           0.107147             0.003  0.892853     5     0.978876  "
      ]
     },
     "execution_count": 13,
     "metadata": {},
     "output_type": "execute_result"
    }
   ],
   "source": [
    "market_selections.BestMarkets.head()"
   ]
  },
  {
   "cell_type": "markdown",
   "metadata": {},
   "source": [
    "Displaying the `BestMarkets` table requires summarizing the MDE vs. duration or investment. Alternatively, providing various ways to filter and rank on additional criteria could help.\n",
    "\n",
    "We might like to have a plot like the one produced by ![plot.GeoLiftMarketSelection](https://github.com/facebookincubator/GeoLift/blob/main/vignettes/GeoLift_Walkthrough_files/figure-markdown_github/GeoLiftMarketSelection_Plots-1.png).  \n",
    "However, that only displays information about one market at a time.  \n",
    "\n",
    "The R code for `plot.GeoLiftMarketSelection()` is [here](https://github.com/facebookincubator/GeoLift/blob/502ff162d2a556f89a05d456993c1e181d8da144/R/plots.R#L686).  I haven't ported it to Python.\n"
   ]
  }
 ],
 "metadata": {
  "kernelspec": {
   "display_name": "Python 3.9.4 ('pygeolift-wkPm4r-4-py3.9')",
   "language": "python",
   "name": "python3"
  },
  "language_info": {
   "codemirror_mode": {
    "name": "ipython",
    "version": 3
   },
   "file_extension": ".py",
   "mimetype": "text/x-python",
   "name": "python",
   "nbconvert_exporter": "python",
   "pygments_lexer": "ipython3",
   "version": "3.9.4"
  },
  "vscode": {
   "interpreter": {
    "hash": "ca414c69c7298fb00569e95dd2b663bc30b01481e44c0b4308f8c12a44e87259"
   }
  }
 },
 "nbformat": 4,
 "nbformat_minor": 2
}
