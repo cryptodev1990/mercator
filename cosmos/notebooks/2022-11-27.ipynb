{
 "cells": [
  {
   "cell_type": "code",
   "execution_count": 449,
   "metadata": {},
   "outputs": [
    {
     "name": "stdout",
     "output_type": "stream",
     "text": [
      "The autoreload extension is already loaded. To reload it, use:\n",
      "  %reload_ext autoreload\n"
     ]
    }
   ],
   "source": [
    "%load_ext autoreload\n",
    "%autoreload 1\n",
    "%aimport app.parsers.rules"
   ]
  },
  {
   "cell_type": "code",
   "execution_count": 450,
   "metadata": {},
   "outputs": [],
   "source": [
    "nlp = app.parsers.rules.nlp"
   ]
  },
  {
   "cell_type": "code",
   "execution_count": 451,
   "metadata": {},
   "outputs": [],
   "source": [
    "from spacy import displacy"
   ]
  },
  {
   "cell_type": "markdown",
   "metadata": {},
   "source": []
  },
  {
   "cell_type": "code",
   "execution_count": 538,
   "metadata": {},
   "outputs": [
    {
     "name": "stdout",
     "output_type": "stream",
     "text": [
      "type='place' value=['Shops']\n"
     ]
    }
   ],
   "source": [
    "%aimport app.parsers.rules\n",
    "\n",
    "from app.parsers.rules import parse, Place, SpRelCoveredBy, NamedPlace, SpRelWithinDistOf, SpRelDisjoint\n",
    "from app.parsers.rules import SpRelWithinDistOf, SpRelNotNear, SpRelWithinTimeOf, Buffer, SpRelOutsideDistOf, SpRelWithinDistOf, Route, Isochrone\n",
    "from pint import Quantity\n",
    "from datetime import timedelta\n"
   ]
  },
  {
   "cell_type": "code",
   "execution_count": 539,
   "metadata": {},
   "outputs": [
    {
     "name": "stdout",
     "output_type": "stream",
     "text": [
      "type='place' value=['Shops']\n"
     ]
    }
   ],
   "source": [
    "\n",
    "examples = [\n",
    "    {\"text\": \"Shops\",\"expected\": Place(value=[\"Shops\"])},\n",
    "    # {\"text\": \"Chinese restaurants\",\"expected\": Place(value=[\"Chinese\", \"restaurants\"])},\n",
    "    # {\"text\": \"San Francisco shops\",\n",
    "    #  \"expected\": SpRelCoveredBy(subject=Place(value=['shops']), object=NamedPlace(value='San Francisco'))},\n",
    "    # {\"text\": \"Shops in San Francisco\", \n",
    "    #   \"expected\": SpRelCoveredBy(subject=Place(value=['Shops']), \n",
    "    #                  object=NamedPlace(value=['San Francisco']))},\n",
    "    # {\"text\": \"Shops not inside San Francisco\", \n",
    "    #  \"expected\": SpRelDisjoint(subject=Place(value=['Shops']), \n",
    "    #                  object=NamedPlace(value=['San Francisco']))},\n",
    "    # {\"text\": \"Shops near San Francisco\",\n",
    "    #  \"expected\": SpRelNear(subject=Place(value=['Shops']), object = NamedPlace(value=['San Francisco']))},\n",
    "    # {\"text\": \"Shops not near to San Francisco\",\n",
    "    #  \"expected\": SpRelNotNear(subject=Place(value=['Shops']), object = NamedPlace(value=['San Francisco']))},\n",
    "    # {\"text\": \"Shops within 10 minutes of San Francisco\",\n",
    "    #  \"expected\": SpRelWithinTimeOf(subject=Place(value=['Shops']),\n",
    "    #                                              object = NamedPlace(value=['San Francisco']),\n",
    "    #                                              duration = timedelta(minutes=10)\n",
    "    #                                              )},\n",
    "    # {\"text\": \"Shops not within 10 minutes of San Francisco\",\n",
    "    #  \"expected\": SpRelOutsideTimeOf(subject=Place(value=['Shops']),\n",
    "    #                                              object = NamedPlace(value=['San Francisco']),\n",
    "    #                                              duration = timedelta(minutes=10)\n",
    "    #                                              )},\n",
    "    # {\"text\": \"Shops within 10 miles of San Francisco\",\n",
    "    #  \"expected\": SpRelWithinDistOf(subject=Place(value=['Shops']), object=NamedPlace(value=['San Francisco']),\n",
    "    #                                distance = [Quantity(10, 'mile')])},\n",
    "    # {\"text\": \"Shops not within 10 miles of San Francisco\", \n",
    "    #  \"expected\": SpRelOutsideDistOf(subject=Place(value=['Shops']), object=NamedPlace(value=['San Francisco']),\n",
    "    #                                distance = [Quantity(10, 'mile')])},     \n",
    "    # {\"text\": \"Buffer of 10 miles around San Francisco\", \n",
    "    #  \"expected\": Buffer(center=NamedPlace(value=['San Francisco']), distance = [Quantity(10, 'mile')])},\n",
    "    # {\"text\": \"Buffer of 10 minutes around San Francisco\", \n",
    "    #  \"expected\": Isochrone(center=NamedPlace(value=['San Francisco']), duration = timedelta(minutes=10))},\n",
    "    # {\"text\": \"Route from Los Angeles to San Francisco\",\n",
    "    #  \"expected\": Route(end=NamedPlace(value=['San Francisco']), \n",
    "    #                    start=NamedPlace(value=['Los Angeles']))},\n",
    "    # {\"text\": \"Shops along the route from Los Angeles to San Francisco\", \n",
    "    #   \"expected\": Route(end=NamedPlace(value=['San Francisco']), \n",
    "    #                    start=NamedPlace(value=['Los Angeles']),\n",
    "    #                    along=Place(value=['Shops']))},\n",
    "    # {\"text\": \"Get me all the shops that are near San Francisco\",\n",
    "    #   \"expected\": SpRelNear(subject=Place(value=['all', 'the', 'shops']),\n",
    "    #                         object = NamedPlace(value=['San Francisco']))}\n",
    "]\n",
    "\n",
    "from app.crud.osm_search import get_osm_search\n",
    "\n",
    "for ex in examples:\n",
    "    ex[\"expected\"])\n"
   ]
  },
  {
   "cell_type": "code",
   "execution_count": 576,
   "metadata": {},
   "outputs": [],
   "source": [
    "from app.parsers.rules import parse, Place, SpRelCoveredBy, NamedPlace, SpRelWithinDistOf, SpRelDisjoint"
   ]
  },
  {
   "cell_type": "code",
   "execution_count": 580,
   "metadata": {},
   "outputs": [
    {
     "data": {
      "text/plain": [
       "'Shops IN San Francisco'"
      ]
     },
     "execution_count": 580,
     "metadata": {},
     "output_type": "execute_result"
    }
   ],
   "source": [
    "str(SpRelCoveredBy(subject=Place(value=['Shops']), object=NamedPlace(value=['San Francisco'])))"
   ]
  },
  {
   "cell_type": "code",
   "execution_count": 581,
   "metadata": {},
   "outputs": [
    {
     "ename": "ValidationError",
     "evalue": "2 validation errors for SpRelCoveredBy\nsubject\n  field required (type=value_error.missing)\nobject\n  field required (type=value_error.missing)",
     "output_type": "error",
     "traceback": [
      "\u001b[0;31m---------------------------------------------------------------------------\u001b[0m",
      "\u001b[0;31mValidationError\u001b[0m                           Traceback (most recent call last)",
      "Cell \u001b[0;32mIn [581], line 1\u001b[0m\n\u001b[0;32m----> 1\u001b[0m SpRelCoveredBy()\n",
      "File \u001b[0;32m~/Library/Caches/pypoetry/virtualenvs/cosmos-pji2pGdW-py3.10/lib/python3.10/site-packages/pydantic/main.py:342\u001b[0m, in \u001b[0;36mpydantic.main.BaseModel.__init__\u001b[0;34m()\u001b[0m\n",
      "\u001b[0;31mValidationError\u001b[0m: 2 validation errors for SpRelCoveredBy\nsubject\n  field required (type=value_error.missing)\nobject\n  field required (type=value_error.missing)"
     ]
    }
   ],
   "source": []
  },
  {
   "cell_type": "markdown",
   "metadata": {},
   "source": [
    "## Examples\n",
    "\n",
    "```\n",
    "{place}\n",
    "```\n",
    "\n",
    "```\n",
    "{\n",
    "    \"type\": \"simple\"\n",
    "    \"subject\": {\n",
    "        \"type\": \"place\",\n",
    "        \"value\": \"shops\"\n",
    "    }\n",
    "}\n",
    "```\n",
    "\n",
    "```\n",
    "{place} IN {place}\n",
    "```\n",
    "\n",
    "\n",
    "```\n",
    "{\n",
    "    \"type\": \"covered_by\",\n",
    "    \"args\": [\n",
    "        {\n",
    "            \"type\": \"place\",\n",
    "            \"value\": \"San Francisco\"\n",
    "        }\n",
    "    ]\n",
    "}\n",
    "```\n",
    "\n",
    "```\n",
    "{place} NOT IN {place}\n",
    "```\n",
    "\n",
    "```\n",
    "{\n",
    "    \"type\": \"disjoint\",\n",
    "    \"subject\": {\n",
    "        \"type\": \"place\",\n",
    "        \"value\": \"shops\"\n",
    "    }\n",
    "    \"object\":  {\n",
    "        \"type\": \"place\",\n",
    "        \"value\": \"San Francisco\"\n",
    "    }\n",
    "}\n",
    "```\n",
    "\n",
    "{place} WITHIN {dist} OF {place}\n",
    "\n",
    "```\n",
    "{\n",
    "    \"type\": \"within_dist_of\",\n",
    "    \"subject\": {\n",
    "        \"type\": \"place\",\n",
    "        \"value\": \"shops\"\n",
    "    }\n",
    "    \"dist\": {\n",
    "        \"type\": \"distance\",\n",
    "        \"value\": 100\n",
    "    }\n",
    "    \"object\":  {\n",
    "        \"type\": \"place\",\n",
    "        \"value\": \"San Francisco\"\n",
    "    }\n",
    "}\n",
    "```\n",
    "\n",
    "{place} WITHIN {time} OF {place}\n",
    "\n",
    "```\n",
    "{\n",
    "    \"type\": \"within_time_of\",\n",
    "    \"subject\": {\n",
    "        \"type\": \"place\",\n",
    "        \"value\": \"shops\"\n",
    "    }\n",
    "    \"dist\": {\n",
    "        \"type\": \"duration\",\n",
    "        \"value\": 100\n",
    "    }\n",
    "    \"object\":  {\n",
    "        \"type\": \"place\",\n",
    "        \"value\": \"San Francisco\"\n",
    "    }\n",
    "}\n",
    "```\n",
    "\n",
    "BUFFER OF {dist} AROUND {place}\n",
    "\n",
    "```\n",
    "{\n",
    "    \"type\": \"buffer\",\n",
    "    \"subject\": {\n",
    "        \"type\": \"place\",\n",
    "        \"value\": \"shops\"\n",
    "    }\n",
    "    \"dist\": {\n",
    "        \"type\": \"distance\",\n",
    "        \"value\": 100\n",
    "    }\n",
    "}\n",
    "```\n",
    "\n",
    "{time} ISOCHRONE AROUND {place}\n",
    "\n",
    "```\n",
    "{\n",
    "    \"type\": \"isochrone\",\n",
    "    \"subject\": {\n",
    "        \"type\": \"place\",\n",
    "        \"value\": \"shops\"\n",
    "    }\n",
    "    \"dist\": {\n",
    "        \"type\": \"duration\",\n",
    "        \"value\": 100\n",
    "    },\n",
    "    \"method\": {\n",
    "        \"type\": \"travel_method\",\n",
    "        \"value\": \"driving\"\n",
    "    }\n",
    "}\n",
    "```\n"
   ]
  },
  {
   "cell_type": "code",
   "execution_count": 437,
   "metadata": {},
   "outputs": [
    {
     "data": {
      "text/html": [
       "nautical_mile"
      ],
      "text/latex": [
       "$\\mathrm{nautical\\_mile}$"
      ],
      "text/plain": [
       "<Unit('nautical_mile')>"
      ]
     },
     "execution_count": 437,
     "metadata": {},
     "output_type": "execute_result"
    }
   ],
   "source": []
  }
 ],
 "metadata": {
  "kernelspec": {
   "display_name": "Python 3.10.8 ('cosmos-pji2pGdW-py3.10')",
   "language": "python",
   "name": "python3"
  },
  "language_info": {
   "codemirror_mode": {
    "name": "ipython",
    "version": 3
   },
   "file_extension": ".py",
   "mimetype": "text/x-python",
   "name": "python",
   "nbconvert_exporter": "python",
   "pygments_lexer": "ipython3",
   "version": "3.10.8"
  },
  "orig_nbformat": 4,
  "vscode": {
   "interpreter": {
    "hash": "cf87586360090ef95828afe1e74fec9526bb74310b35dd81660e38a1d0642c08"
   }
  }
 },
 "nbformat": 4,
 "nbformat_minor": 2
}
