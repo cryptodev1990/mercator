{
 "cells": [
  {
   "cell_type": "code",
   "execution_count": 449,
   "metadata": {},
   "outputs": [
    {
     "name": "stdout",
     "output_type": "stream",
     "text": [
      "The autoreload extension is already loaded. To reload it, use:\n",
      "  %reload_ext autoreload\n"
     ]
    }
   ],
   "source": [
    "%load_ext autoreload\n",
    "%autoreload 1\n",
    "%aimport app.parsers.rules"
   ]
  },
  {
   "cell_type": "code",
   "execution_count": 450,
   "metadata": {},
   "outputs": [],
   "source": [
    "nlp = app.parsers.rules.nlp"
   ]
  },
  {
   "cell_type": "code",
   "execution_count": 451,
   "metadata": {},
   "outputs": [],
   "source": [
    "from spacy import displacy"
   ]
  },
  {
   "cell_type": "markdown",
   "metadata": {},
   "source": []
  },
  {
   "cell_type": "code",
   "execution_count": 499,
   "metadata": {},
   "outputs": [
    {
     "name": "stdout",
     "output_type": "stream",
     "text": [
      "ok\n",
      "ok\n",
      "ok\n",
      "ok\n",
      "ok\n",
      "ok\n",
      "ok\n",
      "ok\n",
      "ok\n",
      "ok\n",
      "ok\n",
      "ok\n",
      "ok\n",
      "ok\n",
      "ok\n"
     ]
    }
   ],
   "source": [
    "%aimport app.parsers.rules\n",
    "\n",
    "examples = [\n",
    "    {\"text\": \"Shops\", \"sprel\": \"in\"},\n",
    "    {\"text\": \"San Francisco shops\", \"sprel\": \"in\"},\n",
    "    {\"text\": \"Shops in San Francisco\", \"sprel\": \"in\"},\n",
    "    {\"text\": \"Shops not inside San Francisco\", \"sprel\": \"in\"},\n",
    "    {\"text\": \"Shops near San Francisco\", \"sprel\": \"near\"},\n",
    "    {\"text\": \"Shops not near to San Francisco\", \"sprel\": \"near\"},\n",
    "    {\"text\": \"Shops within 10 minutes of San Francisco\", \"sprel\": \"within 10 minutes of\"},\n",
    "    {\"text\": \"Shops not within 10 minutes of San Francisco\", \"sprel\": \"within 10 minutes of\"},\n",
    "    {\"text\": \"Shops within 10 miles of San Francisco\", \"sprel\": \"within 10 miles of\"},\n",
    "    {\"text\": \"Shops not within 10 miles of San Francisco\", \"sprel\": \"within 10 miles of\"},\n",
    "    {\"text\": \"Buffer of 10 miles around San Francisco\", \"sprel\": \"Buffer of 10 miles around\"},\n",
    "    {\"text\": \"Buffer of 10 minutes around San Francisco\", \"sprel\": \"Buffer of 10 minutes around\"},\n",
    "    {\"text\": \"Route from Los Angeles to San Francisco\", \"sprel\": \"Buffer of 10 minutes around\"},\n",
    "    {\"text\": \"Shops along the route from Los Angeles to San Francisco\", \"sprel\": \"Buffer of 10 minutes around\"},\n",
    "    {\"text\": \"Get me all the shops that are near San Francisco\"}\n",
    "]\n",
    "\n",
    "from app.parsers.rules import parse\n",
    "   \n",
    "for ex in examples:\n",
    "    try:\n",
    "        parse(ex[\"text\"])\n",
    "        print(\"ok\")\n",
    "    except Exception as exc:\n",
    "        print(ex[\"text\"])\n",
    "        print(exc)\n"
   ]
  },
  {
   "cell_type": "markdown",
   "metadata": {},
   "source": [
    "## Examples\n",
    "\n",
    "```\n",
    "{place}\n",
    "```\n",
    "\n",
    "```\n",
    "{\n",
    "    \"type\": \"simple\"\n",
    "    \"subject\": {\n",
    "        \"type\": \"place\",\n",
    "        \"value\": \"shops\"\n",
    "    }\n",
    "}\n",
    "```\n",
    "\n",
    "```\n",
    "{place} IN {place}\n",
    "```\n",
    "\n",
    "\n",
    "```\n",
    "{\n",
    "    \"type\": \"covered_by\",\n",
    "    \"args\": [\n",
    "        {\n",
    "            \"type\": \"place\",\n",
    "            \"value\": \"San Francisco\"\n",
    "        }\n",
    "    ]\n",
    "}\n",
    "```\n",
    "\n",
    "```\n",
    "{place} NOT IN {place}\n",
    "```\n",
    "\n",
    "```\n",
    "{\n",
    "    \"type\": \"disjoint\",\n",
    "    \"subject\": {\n",
    "        \"type\": \"place\",\n",
    "        \"value\": \"shops\"\n",
    "    }\n",
    "    \"object\":  {\n",
    "        \"type\": \"place\",\n",
    "        \"value\": \"San Francisco\"\n",
    "    }\n",
    "}\n",
    "```\n",
    "\n",
    "{place} WITHIN {dist} OF {place}\n",
    "\n",
    "```\n",
    "{\n",
    "    \"type\": \"within_dist_of\",\n",
    "    \"subject\": {\n",
    "        \"type\": \"place\",\n",
    "        \"value\": \"shops\"\n",
    "    }\n",
    "    \"dist\": {\n",
    "        \"type\": \"distance\",\n",
    "        \"value\": 100\n",
    "    }\n",
    "    \"object\":  {\n",
    "        \"type\": \"place\",\n",
    "        \"value\": \"San Francisco\"\n",
    "    }\n",
    "}\n",
    "```\n",
    "\n",
    "{place} WITHIN {time} OF {place}\n",
    "\n",
    "```\n",
    "{\n",
    "    \"type\": \"within_time_of\",\n",
    "    \"subject\": {\n",
    "        \"type\": \"place\",\n",
    "        \"value\": \"shops\"\n",
    "    }\n",
    "    \"dist\": {\n",
    "        \"type\": \"duration\",\n",
    "        \"value\": 100\n",
    "    }\n",
    "    \"object\":  {\n",
    "        \"type\": \"place\",\n",
    "        \"value\": \"San Francisco\"\n",
    "    }\n",
    "}\n",
    "```\n",
    "\n",
    "BUFFER OF {dist} AROUND {place}\n",
    "\n",
    "```\n",
    "{\n",
    "    \"type\": \"buffer\",\n",
    "    \"subject\": {\n",
    "        \"type\": \"place\",\n",
    "        \"value\": \"shops\"\n",
    "    }\n",
    "    \"dist\": {\n",
    "        \"type\": \"distance\",\n",
    "        \"value\": 100\n",
    "    }\n",
    "}\n",
    "```\n",
    "\n",
    "{time} ISOCHRONE AROUND {place}\n",
    "\n",
    "```\n",
    "{\n",
    "    \"type\": \"isochrone\",\n",
    "    \"subject\": {\n",
    "        \"type\": \"place\",\n",
    "        \"value\": \"shops\"\n",
    "    }\n",
    "    \"dist\": {\n",
    "        \"type\": \"duration\",\n",
    "        \"value\": 100\n",
    "    },\n",
    "    \"method\": {\n",
    "        \"type\": \"travel_method\",\n",
    "        \"value\": \"driving\"\n",
    "    }\n",
    "}\n",
    "```\n"
   ]
  },
  {
   "cell_type": "code",
   "execution_count": 437,
   "metadata": {},
   "outputs": [
    {
     "data": {
      "text/html": [
       "nautical_mile"
      ],
      "text/latex": [
       "$\\mathrm{nautical\\_mile}$"
      ],
      "text/plain": [
       "<Unit('nautical_mile')>"
      ]
     },
     "execution_count": 437,
     "metadata": {},
     "output_type": "execute_result"
    }
   ],
   "source": []
  }
 ],
 "metadata": {
  "kernelspec": {
   "display_name": "Python 3.10.8 ('cosmos-pji2pGdW-py3.10')",
   "language": "python",
   "name": "python3"
  },
  "language_info": {
   "codemirror_mode": {
    "name": "ipython",
    "version": 3
   },
   "file_extension": ".py",
   "mimetype": "text/x-python",
   "name": "python",
   "nbconvert_exporter": "python",
   "pygments_lexer": "ipython3",
   "version": "3.10.8"
  },
  "orig_nbformat": 4,
  "vscode": {
   "interpreter": {
    "hash": "cf87586360090ef95828afe1e74fec9526bb74310b35dd81660e38a1d0642c08"
   }
  }
 },
 "nbformat": 4,
 "nbformat_minor": 2
}
