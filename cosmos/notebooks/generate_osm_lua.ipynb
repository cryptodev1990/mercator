{
 "cells": [
  {
   "cell_type": "code",
   "execution_count": 24,
   "metadata": {},
   "outputs": [],
   "source": [
    "import json"
   ]
  },
  {
   "cell_type": "code",
   "execution_count": 25,
   "metadata": {},
   "outputs": [],
   "source": [
    "import httpx"
   ]
  },
  {
   "cell_type": "code",
   "execution_count": 26,
   "metadata": {},
   "outputs": [],
   "source": [
    "area_keys = httpx.get(\"https://raw.githubusercontent.com/ideditor/id-area-keys/main/areaKeys.json\").json()"
   ]
  },
  {
   "cell_type": "code",
   "execution_count": 29,
   "metadata": {},
   "outputs": [
    {
     "ename": "TypeError",
     "evalue": "string indices must be integers",
     "output_type": "error",
     "traceback": [
      "\u001b[0;31m---------------------------------------------------------------------------\u001b[0m",
      "\u001b[0;31mTypeError\u001b[0m                                 Traceback (most recent call last)",
      "Cell \u001b[0;32mIn[29], line 36\u001b[0m\n\u001b[1;32m      3\u001b[0m tmpl \u001b[39m=\u001b[39m \u001b[39m\"\"\"\u001b[39m\n\u001b[1;32m      4\u001b[0m \u001b[39mareakeys = \u001b[39m\u001b[39m{}\u001b[39;00m\n\u001b[1;32m      5\u001b[0m \u001b[39m<\u001b[39m\u001b[39m%- f\u001b[39;00m\u001b[39mor key, values in area_keys.items() \u001b[39m\u001b[39m%\u001b[39m\u001b[39m>\u001b[39m\n\u001b[0;32m   (...)\u001b[0m\n\u001b[1;32m     28\u001b[0m \u001b[39mend\u001b[39m\n\u001b[1;32m     29\u001b[0m \u001b[39m\"\"\"\u001b[39m\n\u001b[1;32m     31\u001b[0m env \u001b[39m=\u001b[39m j2\u001b[39m.\u001b[39mEnvironment(\n\u001b[1;32m     32\u001b[0m     block_start_string\u001b[39m=\u001b[39m\u001b[39m\"\u001b[39m\u001b[39m<\u001b[39m\u001b[39m%\u001b[39m\u001b[39m\"\u001b[39m, block_end_string\u001b[39m=\u001b[39m\u001b[39m\"\u001b[39m\u001b[39m%\u001b[39m\u001b[39m>\u001b[39m\u001b[39m\"\u001b[39m,\n\u001b[1;32m     33\u001b[0m     variable_start_string\u001b[39m=\u001b[39m\u001b[39m\"\u001b[39m\u001b[39m<<\u001b[39m\u001b[39m\"\u001b[39m, variable_end_string\u001b[39m=\u001b[39m\u001b[39m\"\u001b[39m\u001b[39m>>\u001b[39m\u001b[39m\"\u001b[39m,\n\u001b[1;32m     34\u001b[0m     comment_start_string\u001b[39m=\u001b[39m\u001b[39m\"\u001b[39m\u001b[39m<#\u001b[39m\u001b[39m\"\u001b[39m, comment_end_string\u001b[39m=\u001b[39m\u001b[39m\"\u001b[39m\u001b[39m#>\u001b[39m\u001b[39m\"\u001b[39m,\n\u001b[1;32m     35\u001b[0m )\n\u001b[0;32m---> 36\u001b[0m area_keys \u001b[39m=\u001b[39m env\u001b[39m.\u001b[39mfrom_string(tmpl)\u001b[39m.\u001b[39mrender(area_keys\u001b[39m=\u001b[39marea_keys[\u001b[39m\"\u001b[39;49m\u001b[39mareaKeys\u001b[39;49m\u001b[39m\"\u001b[39;49m])\n\u001b[1;32m     37\u001b[0m \u001b[39mwith\u001b[39;00m \u001b[39mopen\u001b[39m(\u001b[39m\"\u001b[39m\u001b[39marea_keys.lua\u001b[39m\u001b[39m\"\u001b[39m, \u001b[39m\"\u001b[39m\u001b[39mw\u001b[39m\u001b[39m\"\u001b[39m) \u001b[39mas\u001b[39;00m f:\n\u001b[1;32m     38\u001b[0m     f\u001b[39m.\u001b[39mwrite(area_keys)\n",
      "\u001b[0;31mTypeError\u001b[0m: string indices must be integers"
     ]
    }
   ],
   "source": [
    "import jinja2 as j2\n",
    "\n",
    "tmpl = \"\"\"\n",
    "areakeys = {}\n",
    "<%- for key, values in area_keys.items() %>\n",
    "areakeys[\"<< key >>\"] = {\n",
    "<%- for value in values -%>\n",
    "<% if not loop.first %>, <% endif %>['<< value >>'] = true\n",
    "<%- endfor -%>\n",
    "}\n",
    "<%- endfor %>\n",
    "\n",
    "function has_area_tags(tags)\n",
    "    if tags.area == 'yes' then\n",
    "        return true\n",
    "    end\n",
    "    if tags.area == 'no' then\n",
    "        return false\n",
    "    end\n",
    "    for key, value in pairs(tags) do\n",
    "        if area_tags[key] and not area_tags[key][value] then\n",
    "            return true\n",
    "        end\n",
    "        if string.find(key, 'addr:*') then\n",
    "            return true\n",
    "        end\n",
    "    end\n",
    "end\n",
    "\"\"\"\n",
    "\n",
    "env = j2.Environment(\n",
    "    block_start_string=\"<%\", block_end_string=\"%>\",\n",
    "    variable_start_string=\"<<\", variable_end_string=\">>\",\n",
    "    comment_start_string=\"<#\", comment_end_string=\"#>\",\n",
    ")\n",
    "area_keys = env.from_string(tmpl).render(area_keys=area_keys[\"areaKeys\"])\n",
    "with open(\"area_keys.lua\", \"w\") as f:\n",
    "    f.write(area_keys)\n"
   ]
  }
 ],
 "metadata": {
  "kernelspec": {
   "display_name": "Python 3.10.8 ('cosmos-pji2pGdW-py3.10')",
   "language": "python",
   "name": "python3"
  },
  "language_info": {
   "codemirror_mode": {
    "name": "ipython",
    "version": 3
   },
   "file_extension": ".py",
   "mimetype": "text/x-python",
   "name": "python",
   "nbconvert_exporter": "python",
   "pygments_lexer": "ipython3",
   "version": "3.10.8"
  },
  "orig_nbformat": 4,
  "vscode": {
   "interpreter": {
    "hash": "cf87586360090ef95828afe1e74fec9526bb74310b35dd81660e38a1d0642c08"
   }
  }
 },
 "nbformat": 4,
 "nbformat_minor": 2
}
