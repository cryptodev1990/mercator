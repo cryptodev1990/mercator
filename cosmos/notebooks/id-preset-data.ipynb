{
 "cells": [
  {
   "cell_type": "markdown",
   "metadata": {},
   "source": [
    "## OSM ID Preset Schemas\n",
    "\n",
    "The OSM Id editor defines \"presets\" which are roughly spatial feature categories. These have associated names, terms, and aliases which can be used for lookup."
   ]
  },
  {
   "cell_type": "code",
   "execution_count": 13,
   "metadata": {},
   "outputs": [],
   "source": [
    "import httpx\n",
    "# replace with your own path\n",
    "presets = httpx.get(\"https://raw.githubusercontent.com/openstreetmap/id-tagging-schema/main/dist/presets.json\").json()\n",
    "translations = httpx.get(\"https://raw.githubusercontent.com/openstreetmap/id-tagging-schema/main/dist/translations/en.json\").json()\n",
    "categories = httpx.get(\"https://raw.githubusercontent.com/openstreetmap/id-tagging-schema/main/dist/preset_categories.json\").json()\n",
    "\n",
    "for k, v in translations[\"en\"][\"presets\"][\"presets\"].items():\n",
    "    if k not in presets:\n",
    "        print(f\"{k} not in presets\")\n",
    "    else:\n",
    "        presets[k].update(v)\n",
    "\n",
    "for k, v in presets.items():\n",
    "    terms = v.get(\"terms\", \"\")\n",
    "    presets[k][\"terms\"] = [x.strip() for x in terms.split(\",\") if x.strip() != \"\"]\n",
    "\n",
    "for k, v in presets.items():  \n",
    "    aliases = v.get(\"aliases\", \"\")\n",
    "    presets[k][\"aliases\"] = [x.strip() for x in aliases.splitlines() if x.strip() != \"\"]\n"
   ]
  },
  {
   "cell_type": "code",
   "execution_count": 14,
   "metadata": {},
   "outputs": [],
   "source": [
    "from itertools import chain\n",
    "keywords = {\n",
    "    \"aliases\": {chain.from_iterable(v[\"aliases\"] for v in presets.values())},\n",
    "    \"names\": {chain.from_iterable(v[\"name\"] for v in presets.values())},\n",
    "    \"terms\":  {chain.from_iterable(v[\"terms\"] for v in presets.values())},\n",
    "    \"categories\": [k.split(\"-\")[1].replace(\"_\", \" \") for k in categories.keys()]\n",
    "}\n"
   ]
  }
 ],
 "metadata": {
  "kernelspec": {
   "display_name": "Python 3.10.8 ('cosmos-pji2pGdW-py3.10')",
   "language": "python",
   "name": "python3"
  },
  "language_info": {
   "codemirror_mode": {
    "name": "ipython",
    "version": 3
   },
   "file_extension": ".py",
   "mimetype": "text/x-python",
   "name": "python",
   "nbconvert_exporter": "python",
   "pygments_lexer": "ipython3",
   "version": "3.10.8"
  },
  "orig_nbformat": 4,
  "vscode": {
   "interpreter": {
    "hash": "cf87586360090ef95828afe1e74fec9526bb74310b35dd81660e38a1d0642c08"
   }
  }
 },
 "nbformat": 4,
 "nbformat_minor": 2
}
