{
 "cells": [
  {
   "cell_type": "code",
   "execution_count": 1,
   "metadata": {},
   "outputs": [],
   "source": [
    "import arpeggio"
   ]
  },
  {
   "cell_type": "code",
   "execution_count": 2,
   "metadata": {},
   "outputs": [],
   "source": [
    "from csv import DictReader"
   ]
  },
  {
   "cell_type": "code",
   "execution_count": 51,
   "metadata": {},
   "outputs": [
    {
     "data": {
      "text/plain": [
       "[[ 'restaurant' [0]],\n",
       " [[[ 'within' [11]],  '5' [18], [ 'km' [20]], [ 'of' [23]]]],\n",
       " [[ 'Oakland' [26]]]]"
      ]
     },
     "execution_count": 51,
     "metadata": {},
     "output_type": "execute_result"
    }
   ],
   "source": [
    "from typing import List\n",
    "from arpeggio import RegExMatch as _\n",
    "from arpeggio import RegExMatch, ParserPython, OneOrMore\n",
    "\n",
    "number =  _(r'\\d*\\.\\d*|\\d+')\n",
    "from arpeggio import Optional\n",
    "\n",
    "meters = _(r\"m|metres?|meters?\")\n",
    "kilometers = _(r\"km|kilometres?|kilometers?\")\n",
    "miles = _(r\"mi|miles?\")\n",
    "\n",
    "distance_units =  [miles, meters, kilometers]\n",
    "\n",
    "feature_type = [\"restaurant\", \"bar\"]\n",
    "\n",
    "token = _(r\"\\S+\")\n",
    "toponymn = OneOrMore(token)\n",
    "location = [feature_type, toponymn]\n",
    "\n",
    "sprel_in = \"in\"\n",
    "sprel_fuzzy_dist = (Optional(\"very\"), [\"near\", \"far\"])\n",
    "\n",
    "sprel_in_distance = ([\"within\", \"in\"], number, distance_units, Optional(\"of\"))\n",
    "sprel__distance = ([\"within\", \"in\"], number, distance_units, Optional(\"of\"))\n",
    "\n",
    "spatial_relation = [sprel_in_distance, sprel_in]\n",
    "\n",
    "grammar = (feature_type, spatial_relation, location)\n",
    "\n",
    "parser = ParserPython(grammar)\n",
    "\n",
    "parser.parse(\"restaurant within 5 km of Oakland\")"
   ]
  },
  {
   "cell_type": "code",
   "execution_count": 57,
   "metadata": {},
   "outputs": [],
   "source": [
    "import pandas as pd\n",
    "df = pd.read_csv(\"../data/nominatim-special-phrases.csv\")"
   ]
  },
  {
   "cell_type": "code",
   "execution_count": 66,
   "metadata": {},
   "outputs": [],
   "source": [
    "import json\n",
    "spatial_feature_type_lexicon = df.loc[df[\"Operator\"] == \"-\", :][\"Word / Phrase\"].str.lower().to_list()\n",
    "with open(\"../data/spatial_feature_types_lexicon.json\", \"w\") as f:\n",
    "    json.dump(spatial_feature_type_lexicon, f)"
   ]
  }
 ],
 "metadata": {
  "kernelspec": {
   "display_name": "osm-search-pji2pGdW-py3.10",
   "language": "python",
   "name": "python3"
  },
  "language_info": {
   "codemirror_mode": {
    "name": "ipython",
    "version": 3
   },
   "file_extension": ".py",
   "mimetype": "text/x-python",
   "name": "python",
   "nbconvert_exporter": "python",
   "pygments_lexer": "ipython3",
   "version": "3.10.8"
  },
  "orig_nbformat": 4,
  "vscode": {
   "interpreter": {
    "hash": "e64a7d034fcfb85ef858a952203675d196a6106e68a3109e941d0f3b9a44dcc9"
   }
  }
 },
 "nbformat": 4,
 "nbformat_minor": 2
}
