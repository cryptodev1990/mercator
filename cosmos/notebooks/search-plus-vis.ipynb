{
 "cells": [
  {
   "cell_type": "code",
   "execution_count": 8,
   "id": "9a793c57",
   "metadata": {},
   "outputs": [],
   "source": [
    "import sqlalchemy as sa\n",
    "import psycopg2\n",
    "import pandas as pd\n",
    "import shapely.wkt\n",
    "import geopandas as gpd"
   ]
  },
  {
   "cell_type": "code",
   "execution_count": 9,
   "id": "d4662ae7",
   "metadata": {},
   "outputs": [],
   "source": [
    "eng = sa.create_engine(\"postgresql://osmuser@localhost:5432/osm\")"
   ]
  },
  {
   "cell_type": "code",
   "execution_count": 10,
   "id": "17a32778",
   "metadata": {},
   "outputs": [],
   "source": [
    "import ipywidgets as widgets"
   ]
  },
  {
   "cell_type": "code",
   "execution_count": 11,
   "id": "b3337726",
   "metadata": {},
   "outputs": [],
   "source": [
    "import pydeck as pdk\n",
    "import geopandas as gpdx\n",
    "\n",
    "def f(input_text):\n",
    "    try:\n",
    "        query, geographic_reference = input_text.split('in')\n",
    "    except Exception:\n",
    "        raise InputError(\"Current query requires an `in` e.g. `book stores in san francisco`\")\n",
    "    \n",
    "    SQL = f\"\"\"\n",
    "    WITH container AS (\n",
    "        SELECT geom\n",
    "        FROM (\n",
    "        SELECT ST_BuildArea(geom) AS geom\n",
    "        FROM boundaries\n",
    "        WHERE fts @@ websearch_to_tsquery('{geographic_reference}')\n",
    "        LIMIT 5\n",
    "        ) candidates\n",
    "        ORDER BY ST_Area(geom) DESC\n",
    "        LIMIT 1\n",
    "    )\n",
    "    SELECT\n",
    "        ST_AsText(ST_Transform(points.geom, 4326)) as geometry\n",
    "    , json_build_object(\n",
    "        'name', tags->>'name',\n",
    "        'amenity', tags->>'amenity') as properties\n",
    "    FROM points\n",
    "    JOIN container\n",
    "    ON ST_CONTAINS(container.geom, points.geom)\n",
    "    WHERE 1=1\n",
    "        AND fts @@ websearch_to_tsquery('{query}')\n",
    "    \"\"\"\n",
    "    \n",
    "    df = pd.read_sql(SQL, eng)\n",
    "    gdf = gpd.GeoDataFrame(df)\n",
    "    \n",
    "    \n",
    "    gdf['geometry'] = gdf['geometry'].apply(lambda x: shapely.wkt.loads(x))\n",
    "    gdf['label'] = gdf['properties'].apply(lambda x: x.get('name'))\n",
    "    \n",
    "    INITIAL_VIEW_STATE = {\n",
    "        \"longitude\": -122.419906,\n",
    "        \"latitude\": 37.7790262,\n",
    "        \"zoom\": 10.656177979169486,\n",
    "        \"pitch\": 0,\n",
    "        \"bearing\": 0\n",
    "    }\n",
    "    \n",
    "    layers = [\n",
    "        pdk.Layer(\n",
    "            \"GeoJsonLayer\",\n",
    "            data=gdf,\n",
    "            get_radius=200,\n",
    "            get_fill_color=[0, 150, 255],\n",
    "            filled=True,\n",
    "            line_width_min_pixels=5,\n",
    "            radius_min_pixels=5,\n",
    "            opacity=0.4,\n",
    "            stroked=False,\n",
    "            extruded=True,\n",
    "            wireframe=True,\n",
    "            pickable=True,\n",
    "        )       \n",
    "    ]\n",
    "    \n",
    "    d = pdk.Deck(layers,\n",
    "        initial_view_state=INITIAL_VIEW_STATE,\n",
    "        tooltip={\n",
    "            \"html\": \"{label}\"\n",
    "        }\n",
    "    )\n",
    "    return d"
   ]
  },
  {
   "cell_type": "code",
   "execution_count": 12,
   "id": "11da308e-3523-431c-ad00-a10aa8bad80c",
   "metadata": {},
   "outputs": [
    {
     "data": {
      "application/vnd.jupyter.widget-view+json": {
       "model_id": "a4ff4219f437491086adae0bdb156f1a",
       "version_major": 2,
       "version_minor": 0
      },
      "text/plain": [
       "Text(value='library in san francisco', description='Search:', placeholder='Type something')"
      ]
     },
     "metadata": {},
     "output_type": "display_data"
    },
    {
     "data": {
      "application/vnd.jupyter.widget-view+json": {
       "model_id": "a5115ae14b0c479f910444caabaf21dc",
       "version_major": 2,
       "version_minor": 0
      },
      "text/plain": [
       "Button(description='Click Me!', style=ButtonStyle())"
      ]
     },
     "metadata": {},
     "output_type": "display_data"
    },
    {
     "data": {
      "application/vnd.jupyter.widget-view+json": {
       "model_id": "cd7b09a5a1a0487b9e8f64a36c0e978e",
       "version_major": 2,
       "version_minor": 0
      },
      "text/plain": [
       "HBox(children=(Output(layout=Layout(width='100%')),))"
      ]
     },
     "metadata": {},
     "output_type": "display_data"
    }
   ],
   "source": [
    "from IPython.display import display, HTML, IFrame, clear_output\n",
    "from ipywidgets import widgets, Layout, HBox\n",
    "\n",
    "html_out = widgets.Output(layout=Layout(width=\"100%\"))\n",
    "\n",
    "\n",
    "h_box = HBox([html_out])\n",
    "\n",
    "output = widgets.Output()\n",
    "\n",
    "\n",
    "t = widgets.Text(\n",
    "    value='library in san francisco',\n",
    "    placeholder='Type something',\n",
    "    description='Search:',\n",
    "    disabled=False\n",
    ")\n",
    "        \n",
    "def on_button_clicked(b):\n",
    "    with html_out:\n",
    "        clear_output(wait=True)\n",
    "        display(f(t.value))\n",
    "        \n",
    "button = widgets.Button(description=\"Click Me!\")\n",
    "button.on_click(on_button_clicked)\n",
    "\n",
    "display(t)\n",
    "display(button)\n",
    "display(h_box)"
   ]
  },
  {
   "cell_type": "code",
   "execution_count": null,
   "id": "a03771f5-236b-4ba3-a251-d886138af8db",
   "metadata": {},
   "outputs": [],
   "source": []
  }
 ],
 "metadata": {
  "kernelspec": {
   "display_name": "Python 3 (ipykernel)",
   "language": "python",
   "name": "python3"
  },
  "language_info": {
   "codemirror_mode": {
    "name": "ipython",
    "version": 3
   },
   "file_extension": ".py",
   "mimetype": "text/x-python",
   "name": "python",
   "nbconvert_exporter": "python",
   "pygments_lexer": "ipython3",
   "version": "3.9.13"
  }
 },
 "nbformat": 4,
 "nbformat_minor": 5
}
