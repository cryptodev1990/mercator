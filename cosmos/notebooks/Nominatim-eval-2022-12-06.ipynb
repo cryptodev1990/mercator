{
 "cells": [
  {
   "cell_type": "markdown",
   "metadata": {},
   "source": [
    "## NER and Nominatim"
   ]
  },
  {
   "cell_type": "code",
   "execution_count": 18,
   "metadata": {},
   "outputs": [],
   "source": [
    "import os\n",
    "from app.core.graphhopper import GraphHopper"
   ]
  },
  {
   "cell_type": "markdown",
   "metadata": {
    "jp-MarkdownHeadingCollapsed": true,
    "tags": []
   },
   "source": [
    "# Problem\n",
    "\n",
    "\n",
    "The query \"buffer of 20 meters around daly city\" does not work because the NER model does not recognize \"Daly City\".\n",
    "\n",
    "## Current system:\n",
    "\n",
    "- SpaCy NER model tags chunks as a Named Place (entities of type `LOC`, `GPE`, `ORG`, `FAC`) or unnamed Place.\n",
    "- If unnamed Place:\n",
    "\n",
    "  - Search OSM for matching values, return all matching values\n",
    "  \n",
    "- If Named Place:\n",
    "\n",
    "\n",
    "  - Search Nominatim and return the top value if one exists\n",
    "  - If no nominatim result, search OSM directly for matching values using some sort of text similarity, return the top value.\n",
    "\n",
    "## Alternative:\n",
    "\n",
    "- Search nominatim and return \n",
    "- If no results from nominatim, then try searching OSM \n",
    "\n",
    "\n",
    "## Pros and Cons\n",
    "\n",
    "- Current system:\n",
    "\n",
    "  - If NER model is wrong may return incorrect results because it misses a match\n",
    "  - however it is likely that the named place will be returned as one of the set of results.\n",
    "  \n",
    "  \n",
    "- Alternative Fallback:\n",
    "\n",
    "  - Nominatim will almost always return results and there is no uncertainty that can be used to filter top results\n",
    "\n",
    "## Proposal\n",
    "\n",
    "- Keep current system\n",
    "- Consider another type of fallback\n"
   ]
  },
  {
   "cell_type": "markdown",
   "metadata": {},
   "source": [
    "## Evaluation"
   ]
  },
  {
   "cell_type": "code",
   "execution_count": 13,
   "metadata": {
    "tags": []
   },
   "outputs": [],
   "source": [
    "client = GraphHopper(os.environ[\"APP_GRAPH_HOPPER__API_KEY\"])"
   ]
  },
  {
   "cell_type": "code",
   "execution_count": 16,
   "metadata": {},
   "outputs": [
    {
     "data": {
      "text/plain": [
       "{'hits': [{'point': {'lat': 37.6904826, 'lng': -122.47267},\n",
       "   'extent': [-122.5008215, 37.6485198, -122.4051391, 37.708269],\n",
       "   'name': 'Daly City, California, United States of America',\n",
       "   'country': 'United States',\n",
       "   'city': 'Daly City',\n",
       "   'state': 'California',\n",
       "   'county': 'San Mateo County',\n",
       "   'osm_id': 112271,\n",
       "   'osm_type': 'R',\n",
       "   'osm_value': 'city'}],\n",
       " 'locale': 'en'}"
      ]
     },
     "execution_count": 16,
     "metadata": {},
     "output_type": "execute_result"
    }
   ],
   "source": [
    "client.geocode(\"daly city\")"
   ]
  },
  {
   "cell_type": "code",
   "execution_count": 15,
   "metadata": {},
   "outputs": [
    {
     "data": {
      "text/plain": [
       "{'hits': [{'point': {'lat': 42.4416101, 'lng': -76.4985196},\n",
       "   'extent': [-76.4986547, 42.4415577, -76.4983846, 42.4416948],\n",
       "   'name': 'benches, City of Ithaca, NY, United States of America',\n",
       "   'country': 'United States',\n",
       "   'city': 'City of Ithaca',\n",
       "   'state': 'New York',\n",
       "   'county': 'Tompkins County',\n",
       "   'street': 'benches',\n",
       "   'osm_id': 995640278,\n",
       "   'osm_type': 'W',\n",
       "   'osm_value': 'road'}],\n",
       " 'locale': 'en'}"
      ]
     },
     "execution_count": 15,
     "metadata": {},
     "output_type": "execute_result"
    }
   ],
   "source": [
    "client.geocode(\"benches\")"
   ]
  },
  {
   "cell_type": "code",
   "execution_count": 17,
   "metadata": {},
   "outputs": [
    {
     "data": {
      "text/plain": [
       "{'hits': [{'point': {'lat': 39.1089299, 'lng': -105.7561639},\n",
       "   'extent': [-106.210206, 38.690659, -105.3288612, 39.5681797],\n",
       "   'name': 'Park County, Colorado, United States of America',\n",
       "   'country': 'United States',\n",
       "   'state': 'Colorado',\n",
       "   'county': 'Park County',\n",
       "   'osm_id': 439376,\n",
       "   'osm_type': 'R',\n",
       "   'osm_value': 'county'}],\n",
       " 'locale': 'en'}"
      ]
     },
     "execution_count": 17,
     "metadata": {},
     "output_type": "execute_result"
    }
   ],
   "source": [
    "client.geocode(\"park\")"
   ]
  }
 ],
 "metadata": {
  "kernelspec": {
   "display_name": "Python 3 (ipykernel)",
   "language": "python",
   "name": "python3"
  },
  "language_info": {
   "codemirror_mode": {
    "name": "ipython",
    "version": 3
   },
   "file_extension": ".py",
   "mimetype": "text/x-python",
   "name": "python",
   "nbconvert_exporter": "python",
   "pygments_lexer": "ipython3",
   "version": "3.9.13"
  },
  "vscode": {
   "interpreter": {
    "hash": "cf87586360090ef95828afe1e74fec9526bb74310b35dd81660e38a1d0642c08"
   }
  }
 },
 "nbformat": 4,
 "nbformat_minor": 4
}
