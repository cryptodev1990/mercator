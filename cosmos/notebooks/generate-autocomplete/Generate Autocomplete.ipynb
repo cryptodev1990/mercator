{
 "cells": [
  {
   "cell_type": "code",
   "execution_count": 87,
   "id": "769ddde5",
   "metadata": {},
   "outputs": [],
   "source": [
    "import json\n",
    "from itertools import product\n",
    "\n",
    "f = open('../../app/data/feature_classes.json')\n",
    "raw = f.read()"
   ]
  },
  {
   "cell_type": "code",
   "execution_count": 88,
   "id": "9e500e63",
   "metadata": {},
   "outputs": [],
   "source": [
    "objs = json.loads(raw)"
   ]
  },
  {
   "cell_type": "code",
   "execution_count": 89,
   "id": "ff3b408c",
   "metadata": {},
   "outputs": [
    {
     "data": {
      "text/plain": [
       "array(['nurserys in [[neighborhood]]', 'sports pitch in [[city]]',\n",
       "       'conference center in [[city]]', 'arts centres in [[county]]',\n",
       "       'level crossings in [[city]]', 'coastlines in [[neighborhood]]',\n",
       "       'department store in [[county]]', 'cash in [[zip code]]',\n",
       "       'key cutter in [[area code]]', 'kiosk shop in [[county]]'],\n",
       "      dtype='<U47')"
      ]
     },
     "execution_count": 89,
     "metadata": {},
     "output_type": "execute_result"
    }
   ],
   "source": [
    "# TODO a lot of these should not be among our autosuggest\n",
    "# Might also want to compute the likelihood that any of these are actually in the area\n",
    "words = [x for x in objs.keys()]\n",
    "ops = ['in [[zip code]]', 'in [[county]]', 'in [[area code]]', 'in [[neighborhood]]', 'in [[city]]']\n",
    "autocomplete_suggestions = [' '.join(x) for x in product(words, ops)]\n",
    "np.random.choice(autocomplete_suggestions, 10)"
   ]
  },
  {
   "cell_type": "code",
   "execution_count": 90,
   "id": "3d342b29",
   "metadata": {},
   "outputs": [
    {
     "data": {
      "text/plain": [
       "array(['plaques near to rubbish bin',\n",
       "       'brewery within [[x]] meters of land',\n",
       "       'buildings within an [[x]] minute drive of drains',\n",
       "       'community center within an [[x]] minute drive of platform',\n",
       "       'conservations near to atm',\n",
       "       'conference centers within [[x]] meters of guided bus lanes',\n",
       "       'animal shelter near to zip lines',\n",
       "       'windmill within an [[x]] minute drive of hamlets',\n",
       "       'brewery near to restaurant',\n",
       "       'fashion shop within [[x]] meters of cosmetics shops'],\n",
       "      dtype='<U87')"
      ]
     },
     "execution_count": 90,
     "metadata": {},
     "output_type": "execute_result"
    }
   ],
   "source": [
    "autocomplete_suggestions = [' '.join(x) for x in product(words, ['within [[x]] meters of', 'near to', 'within an [[x]] minute drive of'], words)]\n",
    "np.random.choice(autocomplete_suggestions, 10)"
   ]
  },
  {
   "cell_type": "code",
   "execution_count": 92,
   "id": "b529487b",
   "metadata": {},
   "outputs": [],
   "source": [
    "import shapely"
   ]
  },
  {
   "cell_type": "code",
   "execution_count": 100,
   "id": "c2c5126c",
   "metadata": {},
   "outputs": [
    {
     "data": {
      "text/plain": [
       "['naturalearth_cities', 'naturalearth_lowres', 'nybb']"
      ]
     },
     "execution_count": 100,
     "metadata": {},
     "output_type": "execute_result"
    }
   ],
   "source": [
    "import geopandas as gpd\n",
    "gpd.datasets.available"
   ]
  },
  {
   "cell_type": "code",
   "execution_count": 101,
   "id": "e8bce7a4",
   "metadata": {},
   "outputs": [
    {
     "data": {
      "text/html": [
       "<div>\n",
       "<style scoped>\n",
       "    .dataframe tbody tr th:only-of-type {\n",
       "        vertical-align: middle;\n",
       "    }\n",
       "\n",
       "    .dataframe tbody tr th {\n",
       "        vertical-align: top;\n",
       "    }\n",
       "\n",
       "    .dataframe thead th {\n",
       "        text-align: right;\n",
       "    }\n",
       "</style>\n",
       "<table border=\"1\" class=\"dataframe\">\n",
       "  <thead>\n",
       "    <tr style=\"text-align: right;\">\n",
       "      <th></th>\n",
       "      <th>name</th>\n",
       "      <th>geometry</th>\n",
       "    </tr>\n",
       "  </thead>\n",
       "  <tbody>\n",
       "    <tr>\n",
       "      <th>0</th>\n",
       "      <td>Vatican City</td>\n",
       "      <td>POINT (12.45339 41.90328)</td>\n",
       "    </tr>\n",
       "    <tr>\n",
       "      <th>1</th>\n",
       "      <td>San Marino</td>\n",
       "      <td>POINT (12.44177 43.93610)</td>\n",
       "    </tr>\n",
       "    <tr>\n",
       "      <th>2</th>\n",
       "      <td>Vaduz</td>\n",
       "      <td>POINT (9.51667 47.13372)</td>\n",
       "    </tr>\n",
       "    <tr>\n",
       "      <th>3</th>\n",
       "      <td>Lobamba</td>\n",
       "      <td>POINT (31.20000 -26.46667)</td>\n",
       "    </tr>\n",
       "    <tr>\n",
       "      <th>4</th>\n",
       "      <td>Luxembourg</td>\n",
       "      <td>POINT (6.13000 49.61166)</td>\n",
       "    </tr>\n",
       "    <tr>\n",
       "      <th>...</th>\n",
       "      <td>...</td>\n",
       "      <td>...</td>\n",
       "    </tr>\n",
       "    <tr>\n",
       "      <th>238</th>\n",
       "      <td>Rio de Janeiro</td>\n",
       "      <td>POINT (-43.21212 -22.90731)</td>\n",
       "    </tr>\n",
       "    <tr>\n",
       "      <th>239</th>\n",
       "      <td>São Paulo</td>\n",
       "      <td>POINT (-46.62697 -23.55673)</td>\n",
       "    </tr>\n",
       "    <tr>\n",
       "      <th>240</th>\n",
       "      <td>Sydney</td>\n",
       "      <td>POINT (151.21255 -33.87137)</td>\n",
       "    </tr>\n",
       "    <tr>\n",
       "      <th>241</th>\n",
       "      <td>Singapore</td>\n",
       "      <td>POINT (103.85387 1.29498)</td>\n",
       "    </tr>\n",
       "    <tr>\n",
       "      <th>242</th>\n",
       "      <td>Hong Kong</td>\n",
       "      <td>POINT (114.18306 22.30693)</td>\n",
       "    </tr>\n",
       "  </tbody>\n",
       "</table>\n",
       "<p>243 rows × 2 columns</p>\n",
       "</div>"
      ],
      "text/plain": [
       "               name                     geometry\n",
       "0      Vatican City    POINT (12.45339 41.90328)\n",
       "1        San Marino    POINT (12.44177 43.93610)\n",
       "2             Vaduz     POINT (9.51667 47.13372)\n",
       "3           Lobamba   POINT (31.20000 -26.46667)\n",
       "4        Luxembourg     POINT (6.13000 49.61166)\n",
       "..              ...                          ...\n",
       "238  Rio de Janeiro  POINT (-43.21212 -22.90731)\n",
       "239       São Paulo  POINT (-46.62697 -23.55673)\n",
       "240          Sydney  POINT (151.21255 -33.87137)\n",
       "241       Singapore    POINT (103.85387 1.29498)\n",
       "242       Hong Kong   POINT (114.18306 22.30693)\n",
       "\n",
       "[243 rows x 2 columns]"
      ]
     },
     "execution_count": 101,
     "metadata": {},
     "output_type": "execute_result"
    }
   ],
   "source": [
    "# gpd.read_file(gpd.datasets.get_path('naturalearth_cities'))"
   ]
  },
  {
   "cell_type": "code",
   "execution_count": 113,
   "id": "396c2954",
   "metadata": {},
   "outputs": [
    {
     "ename": "ModuleNotFoundError",
     "evalue": "No module named 'psycopg2'",
     "output_type": "error",
     "traceback": [
      "\u001b[0;31m---------------------------------------------------------------------------\u001b[0m",
      "\u001b[0;31mModuleNotFoundError\u001b[0m                       Traceback (most recent call last)",
      "Cell \u001b[0;32mIn [113], line 12\u001b[0m\n\u001b[1;32m      2\u001b[0m \u001b[38;5;66;03m# Generate neighborhoods\u001b[39;00m\n\u001b[1;32m      4\u001b[0m sql \u001b[38;5;241m=\u001b[39m \u001b[38;5;124m'''\u001b[39m\n\u001b[1;32m      5\u001b[0m \u001b[38;5;124m  SELECT ST_Centroid(geom)\u001b[39m\n\u001b[1;32m      6\u001b[0m \u001b[38;5;124m  , tags\u001b[39m\n\u001b[0;32m   (...)\u001b[0m\n\u001b[1;32m      9\u001b[0m \u001b[38;5;124m    AND tags::varchar ILIKE \u001b[39m\u001b[38;5;124m'\u001b[39m\u001b[38;5;124m%\u001b[39m\u001b[38;5;124mSan\u001b[39m\u001b[38;5;132;01m%F\u001b[39;00m\u001b[38;5;124mrancisco\u001b[39m\u001b[38;5;124m%\u001b[39m\u001b[38;5;124m'\u001b[39m\u001b[38;5;124m AND tags::varchar ILIKE \u001b[39m\u001b[38;5;124m'\u001b[39m\u001b[38;5;124m%\u001b[39m\u001b[38;5;124mneighbourhood\u001b[39m\u001b[38;5;124m%\u001b[39m\u001b[38;5;124m'\u001b[39m\n\u001b[1;32m     10\u001b[0m \u001b[38;5;124m'''\u001b[39m\n\u001b[0;32m---> 12\u001b[0m conn \u001b[38;5;241m=\u001b[39m \u001b[43mcreate_engine\u001b[49m\u001b[43m(\u001b[49m\u001b[38;5;124;43m'\u001b[39;49m\u001b[38;5;124;43mpostgresql://osmuser:@localhost:5432/osm\u001b[39;49m\u001b[38;5;124;43m'\u001b[39;49m\u001b[43m)\u001b[49m\n\u001b[1;32m     13\u001b[0m gpd\u001b[38;5;241m.\u001b[39mread_postgis(sql, conn)\n",
      "File \u001b[0;32m<string>:2\u001b[0m, in \u001b[0;36mcreate_engine\u001b[0;34m(url, **kwargs)\u001b[0m\n",
      "File \u001b[0;32m/Library/Frameworks/Python.framework/Versions/3.10/lib/python3.10/site-packages/sqlalchemy/util/deprecations.py:309\u001b[0m, in \u001b[0;36mdeprecated_params.<locals>.decorate.<locals>.warned\u001b[0;34m(fn, *args, **kwargs)\u001b[0m\n\u001b[1;32m    302\u001b[0m     \u001b[38;5;28;01mif\u001b[39;00m m \u001b[38;5;129;01min\u001b[39;00m kwargs:\n\u001b[1;32m    303\u001b[0m         _warn_with_version(\n\u001b[1;32m    304\u001b[0m             messages[m],\n\u001b[1;32m    305\u001b[0m             versions[m],\n\u001b[1;32m    306\u001b[0m             version_warnings[m],\n\u001b[1;32m    307\u001b[0m             stacklevel\u001b[38;5;241m=\u001b[39m\u001b[38;5;241m3\u001b[39m,\n\u001b[1;32m    308\u001b[0m         )\n\u001b[0;32m--> 309\u001b[0m \u001b[38;5;28;01mreturn\u001b[39;00m \u001b[43mfn\u001b[49m\u001b[43m(\u001b[49m\u001b[38;5;241;43m*\u001b[39;49m\u001b[43margs\u001b[49m\u001b[43m,\u001b[49m\u001b[43m \u001b[49m\u001b[38;5;241;43m*\u001b[39;49m\u001b[38;5;241;43m*\u001b[39;49m\u001b[43mkwargs\u001b[49m\u001b[43m)\u001b[49m\n",
      "File \u001b[0;32m/Library/Frameworks/Python.framework/Versions/3.10/lib/python3.10/site-packages/sqlalchemy/engine/create.py:548\u001b[0m, in \u001b[0;36mcreate_engine\u001b[0;34m(url, **kwargs)\u001b[0m\n\u001b[1;32m    546\u001b[0m         \u001b[38;5;28;01mif\u001b[39;00m k \u001b[38;5;129;01min\u001b[39;00m kwargs:\n\u001b[1;32m    547\u001b[0m             dbapi_args[k] \u001b[38;5;241m=\u001b[39m pop_kwarg(k)\n\u001b[0;32m--> 548\u001b[0m     dbapi \u001b[38;5;241m=\u001b[39m \u001b[43mdialect_cls\u001b[49m\u001b[38;5;241;43m.\u001b[39;49m\u001b[43mdbapi\u001b[49m\u001b[43m(\u001b[49m\u001b[38;5;241;43m*\u001b[39;49m\u001b[38;5;241;43m*\u001b[39;49m\u001b[43mdbapi_args\u001b[49m\u001b[43m)\u001b[49m\n\u001b[1;32m    550\u001b[0m dialect_args[\u001b[38;5;124m\"\u001b[39m\u001b[38;5;124mdbapi\u001b[39m\u001b[38;5;124m\"\u001b[39m] \u001b[38;5;241m=\u001b[39m dbapi\n\u001b[1;32m    552\u001b[0m dialect_args\u001b[38;5;241m.\u001b[39msetdefault(\u001b[38;5;124m\"\u001b[39m\u001b[38;5;124mcompiler_linting\u001b[39m\u001b[38;5;124m\"\u001b[39m, compiler\u001b[38;5;241m.\u001b[39mNO_LINTING)\n",
      "File \u001b[0;32m/Library/Frameworks/Python.framework/Versions/3.10/lib/python3.10/site-packages/sqlalchemy/dialects/postgresql/psycopg2.py:811\u001b[0m, in \u001b[0;36mPGDialect_psycopg2.dbapi\u001b[0;34m(cls)\u001b[0m\n\u001b[1;32m    809\u001b[0m \u001b[38;5;129m@classmethod\u001b[39m\n\u001b[1;32m    810\u001b[0m \u001b[38;5;28;01mdef\u001b[39;00m \u001b[38;5;21mdbapi\u001b[39m(\u001b[38;5;28mcls\u001b[39m):\n\u001b[0;32m--> 811\u001b[0m     \u001b[38;5;28;01mimport\u001b[39;00m \u001b[38;5;21;01mpsycopg2\u001b[39;00m\n\u001b[1;32m    813\u001b[0m     \u001b[38;5;28;01mreturn\u001b[39;00m psycopg2\n",
      "\u001b[0;31mModuleNotFoundError\u001b[0m: No module named 'psycopg2'"
     ]
    }
   ],
   "source": [
    "from sqlalchemy import create_engine\n",
    "# Generate neighborhoods\n",
    "\n",
    "sql = '''\n",
    "  WITH centroids AS (\n",
    "    SELECT ST_Collect(ST_Centroid(geom)) AS collect_geom\n",
    "    FROM osm\n",
    "    WHERE 1=1\n",
    "      AND tags::varchar ILIKE '%San%Francisco%' AND tags::varchar ILIKE '%neighbourhood%'\n",
    "  )\n",
    "  SELECT ST_VoronoiPolygons()\n",
    "  FROM centroids\n",
    "'''\n",
    "\n",
    "conn = create_engine('postgresql://osmuser:@localhost:5432/osm')\n",
    "gpd.read_postgis(sql, conn)"
   ]
  },
  {
   "cell_type": "code",
   "execution_count": 117,
   "id": "f23d175b",
   "metadata": {},
   "outputs": [],
   "source": [
    "a = {\"type\":\"GeometryCollection\",\"geometries\":[{\"type\":\"Polygon\",\"coordinates\":[[[-122.6050404,37.9127752],[-122.496375373,37.9127752],[-122.473368759,37.834017003],[-122.473834399,37.795329998],[-122.487676794,37.770230205],[-122.6050404,37.798174097],[-122.6050404,37.9127752]]]},{\"type\":\"Polygon\",\"coordinates\":[[[-122.6050404,37.798174097],[-122.487676794,37.770230205],[-122.477282469,37.761541957],[-122.480267656,37.746073069],[-122.512970069,37.698941766],[-122.6050404,37.611774008],[-122.6050404,37.798174097]]]},{\"type\":\"Polygon\",\"coordinates\":[[[-122.6050404,37.5995868],[-122.6050404,37.611774008],[-122.512970069,37.698941766],[-122.46505625,37.722997003],[-122.447349297,37.714545991],[-122.473348075,37.5995868],[-122.6050404,37.5995868]]]},{\"type\":\"Polygon\",\"coordinates\":[[[-122.477282469,37.761541957],[-122.487676794,37.770230205],[-122.473834399,37.795329998],[-122.463999882,37.78018916],[-122.461651816,37.770841121],[-122.462311848,37.769248468],[-122.47710748,37.761589449],[-122.477282469,37.761541957]]]},{\"type\":\"Polygon\",\"coordinates\":[[[-122.473834399,37.795329998],[-122.473368759,37.834017003],[-122.450023519,37.796921635],[-122.463999882,37.78018916],[-122.473834399,37.795329998]]]},{\"type\":\"Polygon\",\"coordinates\":[[[-122.47710748,37.761589449],[-122.462311848,37.769248468],[-122.446958366,37.757590229],[-122.444160383,37.747395286],[-122.448437631,37.742158585],[-122.47710748,37.761589449]]]},{\"type\":\"Polygon\",\"coordinates\":[[[-122.449946344,37.738818357],[-122.454169638,37.736994636],[-122.480267656,37.746073069],[-122.477282469,37.761541957],[-122.47710748,37.761589449],[-122.448437631,37.742158585],[-122.449946344,37.738818357]]]},{\"type\":\"Polygon\",\"coordinates\":[[[-122.454169638,37.736994636],[-122.449946344,37.738818357],[-122.443778894,37.728684207],[-122.444532639,37.717534615],[-122.447349297,37.714545991],[-122.46505625,37.722997003],[-122.454169638,37.736994636]]]},{\"type\":\"Polygon\",\"coordinates\":[[[-122.512970069,37.698941766],[-122.480267656,37.746073069],[-122.454169638,37.736994636],[-122.46505625,37.722997003],[-122.512970069,37.698941766]]]},{\"type\":\"Polygon\",\"coordinates\":[[[-122.416201435,37.9127752],[-122.423356267,37.800199886],[-122.448824394,37.795667953],[-122.450023519,37.796921635],[-122.473368759,37.834017003],[-122.496375373,37.9127752],[-122.416201435,37.9127752]]]},{\"type\":\"Polygon\",\"coordinates\":[[[-122.462311848,37.769248468],[-122.461651816,37.770841121],[-122.451332945,37.77765491],[-122.439151623,37.773334915],[-122.438920439,37.772082787],[-122.439962743,37.766761978],[-122.446958366,37.757590229],[-122.462311848,37.769248468]]]},{\"type\":\"Polygon\",\"coordinates\":[[[-122.449946344,37.738818357],[-122.448437631,37.742158585],[-122.444160383,37.747395286],[-122.42779064,37.747695515],[-122.427649084,37.747610898],[-122.420813897,37.72700708],[-122.443778894,37.728684207],[-122.449946344,37.738818357]]]},{\"type\":\"Polygon\",\"coordinates\":[[[-122.461651816,37.770841121],[-122.463999882,37.78018916],[-122.450023519,37.796921635],[-122.448824394,37.795667953],[-122.447334878,37.791790871],[-122.451332945,37.77765491],[-122.461651816,37.770841121]]]},{\"type\":\"Polygon\",\"coordinates\":[[[-122.473348075,37.5995868],[-122.447349297,37.714545991],[-122.444532639,37.717534615],[-122.424298259,37.712311183],[-122.413545834,37.5995868],[-122.473348075,37.5995868]]]},{\"type\":\"Polygon\",\"coordinates\":[[[-122.451332945,37.77765491],[-122.447334878,37.791790871],[-122.437270239,37.785433579],[-122.43521317,37.779647325],[-122.439151623,37.773334915],[-122.451332945,37.77765491]]]},{\"type\":\"Polygon\",\"coordinates\":[[[-122.444532639,37.717534615],[-122.443778894,37.728684207],[-122.420813897,37.72700708],[-122.419366713,37.725412107],[-122.424298259,37.712311183],[-122.444532639,37.717534615]]]},{\"type\":\"Polygon\",\"coordinates\":[[[-122.437270239,37.785433579],[-122.447334878,37.791790871],[-122.448824394,37.795667953],[-122.423356267,37.800199886],[-122.422501484,37.797507288],[-122.437270239,37.785433579]]]},{\"type\":\"Polygon\",\"coordinates\":[[[-122.446958366,37.757590229],[-122.439962743,37.766761978],[-122.42700377,37.761136611],[-122.42779064,37.747695515],[-122.444160383,37.747395286],[-122.446958366,37.757590229]]]},{\"type\":\"Polygon\",\"coordinates\":[[[-122.421827305,37.785791887],[-122.422645765,37.784012048],[-122.428850585,37.779217085],[-122.43521317,37.779647325],[-122.437270239,37.785433579],[-122.422501484,37.797507288],[-122.421009717,37.795517104],[-122.421827305,37.785791887]]]},{\"type\":\"Polygon\",\"coordinates\":[[[-122.422645765,37.784012048],[-122.421827305,37.785791887],[-122.408679295,37.777882576],[-122.407959821,37.769105506],[-122.408465511,37.768629594],[-122.415774135,37.769500731],[-122.422645765,37.784012048]]]},{\"type\":\"Polygon\",\"coordinates\":[[[-122.419366713,37.725412107],[-122.420813897,37.72700708],[-122.427649084,37.747610898],[-122.408677304,37.752545974],[-122.400421048,37.745380359],[-122.405814546,37.727524955],[-122.419366713,37.725412107]]]},{\"type\":\"Polygon\",\"coordinates\":[[[-122.439962743,37.766761978],[-122.438920439,37.772082787],[-122.423551465,37.767987087],[-122.423343571,37.767784706],[-122.42700377,37.761136611],[-122.439962743,37.766761978]]]},{\"type\":\"Polygon\",\"coordinates\":[[[-122.42700377,37.761136611],[-122.423343571,37.767784706],[-122.415774135,37.769500731],[-122.408465511,37.768629594],[-122.408677304,37.752545974],[-122.427649084,37.747610898],[-122.42779064,37.747695515],[-122.42700377,37.761136611]]]},{\"type\":\"Polygon\",\"coordinates\":[[[-122.438920439,37.772082787],[-122.439151623,37.773334915],[-122.43521317,37.779647325],[-122.428850585,37.779217085],[-122.423551465,37.767987087],[-122.438920439,37.772082787]]]},{\"type\":\"Polygon\",\"coordinates\":[[[-122.423343571,37.767784706],[-122.423551465,37.767987087],[-122.428850585,37.779217085],[-122.422645765,37.784012048],[-122.415774135,37.769500731],[-122.423343571,37.767784706]]]},{\"type\":\"Polygon\",\"coordinates\":[[[-122.421827305,37.785791887],[-122.421009717,37.795517104],[-122.405330386,37.790893417],[-122.408679295,37.777882576],[-122.421827305,37.785791887]]]},{\"type\":\"Polygon\",\"coordinates\":[[[-122.292834354,37.9127752],[-122.402022098,37.792206512],[-122.405330386,37.790893417],[-122.421009717,37.795517104],[-122.422501484,37.797507288],[-122.423356267,37.800199886],[-122.416201435,37.9127752],[-122.292834354,37.9127752]]]},{\"type\":\"Polygon\",\"coordinates\":[[[-122.407959821,37.769105506],[-122.408679295,37.777882576],[-122.405330386,37.790893417],[-122.402022098,37.792206512],[-122.393484601,37.778324245],[-122.402201059,37.769898699],[-122.407959821,37.769105506]]]},{\"type\":\"Polygon\",\"coordinates\":[[[-122.408465511,37.768629594],[-122.407959821,37.769105506],[-122.402201059,37.769898699],[-122.394180372,37.76495527],[-122.39211747,37.74754657],[-122.400421048,37.745380359],[-122.408677304,37.752545974],[-122.408465511,37.768629594]]]},{\"type\":\"Polygon\",\"coordinates\":[[[-122.2756677,37.5995868],[-122.413545834,37.5995868],[-122.424298259,37.712311183],[-122.419366713,37.725412107],[-122.405814546,37.727524955],[-122.2756677,37.618781193],[-122.2756677,37.5995868]]]},{\"type\":\"Polygon\",\"coordinates\":[[[-122.2756677,37.9127752],[-122.2756677,37.805676833],[-122.364605026,37.78064734],[-122.393484601,37.778324245],[-122.402022098,37.792206512],[-122.292834354,37.9127752],[-122.2756677,37.9127752]]]},{\"type\":\"Polygon\",\"coordinates\":[[[-122.402201059,37.769898699],[-122.393484601,37.778324245],[-122.364605026,37.78064734],[-122.388344932,37.766095892],[-122.394180372,37.76495527],[-122.402201059,37.769898699]]]},{\"type\":\"Polygon\",\"coordinates\":[[[-122.2756677,37.618781193],[-122.405814546,37.727524955],[-122.400421048,37.745380359],[-122.39211747,37.74754657],[-122.384469492,37.746926113],[-122.2756677,37.723457188],[-122.2756677,37.618781193]]]},{\"type\":\"Polygon\",\"coordinates\":[[[-122.2756677,37.723457188],[-122.384469492,37.746926113],[-122.388344932,37.766095892],[-122.364605026,37.78064734],[-122.2756677,37.805676833],[-122.2756677,37.723457188]]]},{\"type\":\"Polygon\",\"coordinates\":[[[-122.39211747,37.74754657],[-122.394180372,37.76495527],[-122.388344932,37.766095892],[-122.384469492,37.746926113],[-122.39211747,37.74754657]]]}]}"
   ]
  },
  {
   "cell_type": "code",
   "execution_count": 130,
   "id": "a728831b",
   "metadata": {},
   "outputs": [
    {
     "ename": "ImportError",
     "evalue": "The matplotlib package is required for plotting in geopandas. You can install it using 'conda install -c conda-forge matplotlib' or 'pip install matplotlib'.",
     "output_type": "error",
     "traceback": [
      "\u001b[0;31m---------------------------------------------------------------------------\u001b[0m",
      "\u001b[0;31mModuleNotFoundError\u001b[0m                       Traceback (most recent call last)",
      "File \u001b[0;32m/Library/Frameworks/Python.framework/Versions/3.10/lib/python3.10/site-packages/geopandas/plotting.py:662\u001b[0m, in \u001b[0;36mplot_dataframe\u001b[0;34m(df, column, cmap, color, ax, cax, categorical, legend, scheme, k, vmin, vmax, markersize, figsize, legend_kwds, categories, classification_kwds, missing_kwds, aspect, **style_kwds)\u001b[0m\n\u001b[1;32m    661\u001b[0m \u001b[38;5;28;01mtry\u001b[39;00m:\n\u001b[0;32m--> 662\u001b[0m     \u001b[38;5;28;01mimport\u001b[39;00m \u001b[38;5;21;01mmatplotlib\u001b[39;00m\u001b[38;5;21;01m.\u001b[39;00m\u001b[38;5;21;01mpyplot\u001b[39;00m \u001b[38;5;28;01mas\u001b[39;00m \u001b[38;5;21;01mplt\u001b[39;00m\n\u001b[1;32m    663\u001b[0m \u001b[38;5;28;01mexcept\u001b[39;00m \u001b[38;5;167;01mImportError\u001b[39;00m:\n",
      "\u001b[0;31mModuleNotFoundError\u001b[0m: No module named 'matplotlib'",
      "\nDuring handling of the above exception, another exception occurred:\n",
      "\u001b[0;31mImportError\u001b[0m                               Traceback (most recent call last)",
      "Cell \u001b[0;32mIn [130], line 1\u001b[0m\n\u001b[0;32m----> 1\u001b[0m \u001b[43mgpd\u001b[49m\u001b[38;5;241;43m.\u001b[39;49m\u001b[43mGeoDataFrame\u001b[49m\u001b[43m(\u001b[49m\u001b[43m{\u001b[49m\u001b[38;5;124;43m'\u001b[39;49m\u001b[38;5;124;43mtype\u001b[39;49m\u001b[38;5;124;43m'\u001b[39;49m\u001b[43m:\u001b[49m\u001b[43m \u001b[49m\u001b[38;5;124;43m\"\u001b[39;49m\u001b[38;5;124;43mFeature\u001b[39;49m\u001b[38;5;124;43m\"\u001b[39;49m\u001b[43m,\u001b[49m\u001b[43m \u001b[49m\u001b[38;5;124;43m'\u001b[39;49m\u001b[38;5;124;43mfeatures\u001b[39;49m\u001b[38;5;124;43m'\u001b[39;49m\u001b[43m:\u001b[49m\u001b[43m \u001b[49m\u001b[43m[\u001b[49m\u001b[43mx\u001b[49m\u001b[43m \u001b[49m\u001b[38;5;28;43;01mfor\u001b[39;49;00m\u001b[43m \u001b[49m\u001b[43mx\u001b[49m\u001b[43m \u001b[49m\u001b[38;5;129;43;01min\u001b[39;49;00m\u001b[43m \u001b[49m\u001b[43ma\u001b[49m\u001b[43m[\u001b[49m\u001b[38;5;124;43m'\u001b[39;49m\u001b[38;5;124;43mgeometries\u001b[39;49m\u001b[38;5;124;43m'\u001b[39;49m\u001b[43m]\u001b[49m\u001b[43m]\u001b[49m\u001b[43m}\u001b[49m\u001b[43m)\u001b[49m\u001b[38;5;241;43m.\u001b[39;49m\u001b[43mplot\u001b[49m\u001b[43m(\u001b[49m\u001b[43m)\u001b[49m\n",
      "File \u001b[0;32m/Library/Frameworks/Python.framework/Versions/3.10/lib/python3.10/site-packages/geopandas/plotting.py:968\u001b[0m, in \u001b[0;36mGeoplotAccessor.__call__\u001b[0;34m(self, *args, **kwargs)\u001b[0m\n\u001b[1;32m    966\u001b[0m kind \u001b[38;5;241m=\u001b[39m kwargs\u001b[38;5;241m.\u001b[39mpop(\u001b[38;5;124m\"\u001b[39m\u001b[38;5;124mkind\u001b[39m\u001b[38;5;124m\"\u001b[39m, \u001b[38;5;124m\"\u001b[39m\u001b[38;5;124mgeo\u001b[39m\u001b[38;5;124m\"\u001b[39m)\n\u001b[1;32m    967\u001b[0m \u001b[38;5;28;01mif\u001b[39;00m kind \u001b[38;5;241m==\u001b[39m \u001b[38;5;124m\"\u001b[39m\u001b[38;5;124mgeo\u001b[39m\u001b[38;5;124m\"\u001b[39m:\n\u001b[0;32m--> 968\u001b[0m     \u001b[38;5;28;01mreturn\u001b[39;00m \u001b[43mplot_dataframe\u001b[49m\u001b[43m(\u001b[49m\u001b[43mdata\u001b[49m\u001b[43m,\u001b[49m\u001b[43m \u001b[49m\u001b[38;5;241;43m*\u001b[39;49m\u001b[43margs\u001b[49m\u001b[43m,\u001b[49m\u001b[43m \u001b[49m\u001b[38;5;241;43m*\u001b[39;49m\u001b[38;5;241;43m*\u001b[39;49m\u001b[43mkwargs\u001b[49m\u001b[43m)\u001b[49m\n\u001b[1;32m    969\u001b[0m \u001b[38;5;28;01mif\u001b[39;00m kind \u001b[38;5;129;01min\u001b[39;00m \u001b[38;5;28mself\u001b[39m\u001b[38;5;241m.\u001b[39m_pandas_kinds:\n\u001b[1;32m    970\u001b[0m     \u001b[38;5;66;03m# Access pandas plots\u001b[39;00m\n\u001b[1;32m    971\u001b[0m     \u001b[38;5;28;01mreturn\u001b[39;00m PlotAccessor(data)(kind\u001b[38;5;241m=\u001b[39mkind, \u001b[38;5;241m*\u001b[39m\u001b[38;5;241m*\u001b[39mkwargs)\n",
      "File \u001b[0;32m/Library/Frameworks/Python.framework/Versions/3.10/lib/python3.10/site-packages/geopandas/plotting.py:664\u001b[0m, in \u001b[0;36mplot_dataframe\u001b[0;34m(df, column, cmap, color, ax, cax, categorical, legend, scheme, k, vmin, vmax, markersize, figsize, legend_kwds, categories, classification_kwds, missing_kwds, aspect, **style_kwds)\u001b[0m\n\u001b[1;32m    662\u001b[0m     \u001b[38;5;28;01mimport\u001b[39;00m \u001b[38;5;21;01mmatplotlib\u001b[39;00m\u001b[38;5;21;01m.\u001b[39;00m\u001b[38;5;21;01mpyplot\u001b[39;00m \u001b[38;5;28;01mas\u001b[39;00m \u001b[38;5;21;01mplt\u001b[39;00m\n\u001b[1;32m    663\u001b[0m \u001b[38;5;28;01mexcept\u001b[39;00m \u001b[38;5;167;01mImportError\u001b[39;00m:\n\u001b[0;32m--> 664\u001b[0m     \u001b[38;5;28;01mraise\u001b[39;00m \u001b[38;5;167;01mImportError\u001b[39;00m(\n\u001b[1;32m    665\u001b[0m         \u001b[38;5;124m\"\u001b[39m\u001b[38;5;124mThe matplotlib package is required for plotting in geopandas. \u001b[39m\u001b[38;5;124m\"\u001b[39m\n\u001b[1;32m    666\u001b[0m         \u001b[38;5;124m\"\u001b[39m\u001b[38;5;124mYou can install it using \u001b[39m\u001b[38;5;124m'\u001b[39m\u001b[38;5;124mconda install -c conda-forge matplotlib\u001b[39m\u001b[38;5;124m'\u001b[39m\u001b[38;5;124m or \u001b[39m\u001b[38;5;124m\"\u001b[39m\n\u001b[1;32m    667\u001b[0m         \u001b[38;5;124m\"\u001b[39m\u001b[38;5;124m'\u001b[39m\u001b[38;5;124mpip install matplotlib\u001b[39m\u001b[38;5;124m'\u001b[39m\u001b[38;5;124m.\u001b[39m\u001b[38;5;124m\"\u001b[39m\n\u001b[1;32m    668\u001b[0m     )\n\u001b[1;32m    670\u001b[0m \u001b[38;5;28;01mif\u001b[39;00m ax \u001b[38;5;129;01mis\u001b[39;00m \u001b[38;5;28;01mNone\u001b[39;00m:\n\u001b[1;32m    671\u001b[0m     \u001b[38;5;28;01mif\u001b[39;00m cax \u001b[38;5;129;01mis\u001b[39;00m \u001b[38;5;129;01mnot\u001b[39;00m \u001b[38;5;28;01mNone\u001b[39;00m:\n",
      "\u001b[0;31mImportError\u001b[0m: The matplotlib package is required for plotting in geopandas. You can install it using 'conda install -c conda-forge matplotlib' or 'pip install matplotlib'."
     ]
    }
   ],
   "source": [
    "gpd.GeoDataFrame({'type': \"Feature\", 'features': [x for x in a['geometries']]}).plot()"
   ]
  },
  {
   "cell_type": "code",
   "execution_count": 131,
   "id": "193b54f4",
   "metadata": {},
   "outputs": [
    {
     "name": "stdout",
     "output_type": "stream",
     "text": [
      "\u001b[33mWARNING: Retrying (Retry(total=4, connect=None, read=None, redirect=None, status=None)) after connection broken by 'NewConnectionError('<pip._vendor.urllib3.connection.HTTPSConnection object at 0x102d118a0>: Failed to establish a new connection: [Errno 8] nodename nor servname provided, or not known')': /simple/matplotlib/\u001b[0m\u001b[33m\n",
      "\u001b[0m\u001b[33mWARNING: Retrying (Retry(total=3, connect=None, read=None, redirect=None, status=None)) after connection broken by 'NewConnectionError('<pip._vendor.urllib3.connection.HTTPSConnection object at 0x102d11ae0>: Failed to establish a new connection: [Errno 8] nodename nor servname provided, or not known')': /simple/matplotlib/\u001b[0m\u001b[33m\n",
      "\u001b[0m\u001b[33mWARNING: Retrying (Retry(total=2, connect=None, read=None, redirect=None, status=None)) after connection broken by 'NewConnectionError('<pip._vendor.urllib3.connection.HTTPSConnection object at 0x102d11d80>: Failed to establish a new connection: [Errno 8] nodename nor servname provided, or not known')': /simple/matplotlib/\u001b[0m\u001b[33m\n",
      "\u001b[0m\u001b[33mWARNING: Retrying (Retry(total=1, connect=None, read=None, redirect=None, status=None)) after connection broken by 'NewConnectionError('<pip._vendor.urllib3.connection.HTTPSConnection object at 0x102d11f30>: Failed to establish a new connection: [Errno 8] nodename nor servname provided, or not known')': /simple/matplotlib/\u001b[0m\u001b[33m\n",
      "\u001b[0m\u001b[33mWARNING: Retrying (Retry(total=0, connect=None, read=None, redirect=None, status=None)) after connection broken by 'NewConnectionError('<pip._vendor.urllib3.connection.HTTPSConnection object at 0x102d120e0>: Failed to establish a new connection: [Errno 8] nodename nor servname provided, or not known')': /simple/matplotlib/\u001b[0m\u001b[33m\n",
      "\u001b[0m\u001b[31mERROR: Could not find a version that satisfies the requirement matplotlib (from versions: none)\u001b[0m\u001b[31m\n",
      "\u001b[0m\u001b[31mERROR: No matching distribution found for matplotlib\u001b[0m\u001b[31m\n",
      "\u001b[0mNote: you may need to restart the kernel to use updated packages.\n"
     ]
    }
   ],
   "source": [
    "pip install matplotlib"
   ]
  }
 ],
 "metadata": {
  "kernelspec": {
   "display_name": "Python 3 (ipykernel)",
   "language": "python",
   "name": "python3"
  },
  "language_info": {
   "codemirror_mode": {
    "name": "ipython",
    "version": 3
   },
   "file_extension": ".py",
   "mimetype": "text/x-python",
   "name": "python",
   "nbconvert_exporter": "python",
   "pygments_lexer": "ipython3",
   "version": "3.10.5"
  }
 },
 "nbformat": 4,
 "nbformat_minor": 5
}
