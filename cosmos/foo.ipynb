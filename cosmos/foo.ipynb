{
 "cells": [
  {
   "cell_type": "code",
   "execution_count": 3,
   "metadata": {},
   "outputs": [],
   "source": [
    "from pydantic import BaseModel\n",
    "from typing import NamedTuple\n",
    "\n",
    "\n",
    "class BBox(NamedTuple):\n",
    "    x: float\n",
    "    y: float\n"
   ]
  },
  {
   "cell_type": "code",
   "execution_count": 4,
   "metadata": {},
   "outputs": [
    {
     "data": {
      "text/plain": [
       "BBox(x=1, y=2)"
      ]
     },
     "execution_count": 4,
     "metadata": {},
     "output_type": "execute_result"
    }
   ],
   "source": [
    "BBox(1, 2)"
   ]
  }
 ],
 "metadata": {
  "kernelspec": {
   "display_name": "cosmos-pji2pGdW-py3.10",
   "language": "python",
   "name": "python3"
  },
  "language_info": {
   "codemirror_mode": {
    "name": "ipython",
    "version": 3
   },
   "file_extension": ".py",
   "mimetype": "text/x-python",
   "name": "python",
   "nbconvert_exporter": "python",
   "pygments_lexer": "ipython3",
   "version": "3.10.8"
  },
  "orig_nbformat": 4,
  "vscode": {
   "interpreter": {
    "hash": "cf87586360090ef95828afe1e74fec9526bb74310b35dd81660e38a1d0642c08"
   }
  }
 },
 "nbformat": 4,
 "nbformat_minor": 2
}
