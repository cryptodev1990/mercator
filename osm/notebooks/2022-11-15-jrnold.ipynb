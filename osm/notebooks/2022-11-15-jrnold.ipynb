{
 "cells": [
  {
   "cell_type": "code",
   "execution_count": 1,
   "id": "9a793c57",
   "metadata": {},
   "outputs": [],
   "source": [
    "import sqlalchemy as sa\n",
    "import psycopg2\n",
    "import pandas as pd\n",
    "import shapely.wkt\n",
    "import geopandas as gpd"
   ]
  },
  {
   "cell_type": "code",
   "execution_count": 2,
   "id": "d4662ae7",
   "metadata": {},
   "outputs": [],
   "source": [
    "from app.core.config import get_settings\n",
    "from sqlalchemy import create_engine\n",
    "\n",
    "settings = get_settings()\n",
    "engine = sa.create_engine(settings.db.url.get_secret_value().replace(\"asyncpg\", \"psycopg2\"),\n",
    "                          future=True)"
   ]
  },
  {
   "cell_type": "code",
   "execution_count": 9,
   "id": "b3337726",
   "metadata": {},
   "outputs": [
    {
     "data": {
      "text/html": [
       "<div>\n",
       "<style scoped>\n",
       "    .dataframe tbody tr th:only-of-type {\n",
       "        vertical-align: middle;\n",
       "    }\n",
       "\n",
       "    .dataframe tbody tr th {\n",
       "        vertical-align: top;\n",
       "    }\n",
       "\n",
       "    .dataframe thead th {\n",
       "        text-align: right;\n",
       "    }\n",
       "</style>\n",
       "<table border=\"1\" class=\"dataframe\">\n",
       "  <thead>\n",
       "    <tr style=\"text-align: right;\">\n",
       "      <th></th>\n",
       "      <th>geom</th>\n",
       "      <th>tags</th>\n",
       "    </tr>\n",
       "  </thead>\n",
       "  <tbody>\n",
       "    <tr>\n",
       "      <th>0</th>\n",
       "      <td>LINESTRING (-122.77668 37.60303, -122.77669 37...</td>\n",
       "      <td>{'name': 'United States of America (Pacific Oc...</td>\n",
       "    </tr>\n",
       "    <tr>\n",
       "      <th>1</th>\n",
       "      <td>LINESTRING (-121.49454 35.98944, -121.49468 35...</td>\n",
       "      <td>{'ref': 'CA 1', 'name': 'Cabrillo Highway', 'l...</td>\n",
       "    </tr>\n",
       "  </tbody>\n",
       "</table>\n",
       "</div>"
      ],
      "text/plain": [
       "                                                geom  \\\n",
       "0  LINESTRING (-122.77668 37.60303, -122.77669 37...   \n",
       "1  LINESTRING (-121.49454 35.98944, -121.49468 35...   \n",
       "\n",
       "                                                tags  \n",
       "0  {'name': 'United States of America (Pacific Oc...  \n",
       "1  {'ref': 'CA 1', 'name': 'Cabrillo Highway', 'l...  "
      ]
     },
     "execution_count": 9,
     "metadata": {},
     "output_type": "execute_result"
    }
   ],
   "source": [
    "import pydeck as pdk\n",
    "import geopandas as gpd\n",
    "from sqlalchemy import text\n",
    "\n",
    "q = \"SELECT geom, tags FROM osm LIMIT 2\"\n",
    "    \n",
    "\n"
   ]
  },
  {
   "cell_type": "code",
   "execution_count": 12,
   "id": "0d816225",
   "metadata": {},
   "outputs": [
    {
     "data": {
      "text/plain": [
       "sqlalchemy.sql.elements.TextClause"
      ]
     },
     "execution_count": 12,
     "metadata": {},
     "output_type": "execute_result"
    }
   ],
   "source": [
    "from sqlalchemy.sql import Executable"
   ]
  },
  {
   "cell_type": "code",
   "execution_count": 57,
   "id": "90e993fa",
   "metadata": {},
   "outputs": [],
   "source": [
    "from typing import Union, cast, Dict, Any, Generator\n",
    "from sqlalchemy.engine import Connection, Engine\n",
    "from sqlalchemy.sql.expression import Executable\n",
    "from pydeck.data_utils.viewport_helpers import compute_view, bbox_to_zoom_level\n",
    "\n",
    "from typing import Optional, Union, cast, Dict, Any, Generator\n",
    "\n",
    "\n",
    "from pydeck.data_utils import compute_view\n",
    "\n",
    "def geodf_to_viewstate(df: gpd.GeoDataFrame) -> pdk.ViewState:\n",
    "    bbox = df.total_bounds\n",
    "    center_lat = (bbox[1] + bbox[3]) / 2\n",
    "    center_lng = (bbox[0] + bbox[2]) / 2\n",
    "    zoom_level = bbox_to_zoom_level([list(bbox[:2]), list(bbox[2:])])\n",
    "    return pdk.ViewState(center_lng, center_lat, zoom_level=zoom_level)\n",
    "\n",
    "def view_gpd(df: gpd.GeoDataFrame, **kwargs) -> pdk.Deck:\n",
    "    return pdk.Deck(layers=[pdk.Layer(\"GeoJsonLayer\", df)], \n",
    "                    initial_view_state=geodf_to_viewstate(df),\n",
    "                    **kwargs)\n",
    "\n",
    "class OsmDb:\n",
    "    \n",
    "    def __init__(self, engine: Engine) -> None:\n",
    "        self._engine = engine\n",
    "\n",
    "    def run(self, query: Union[str, Executable], **kwargs: Dict[str, Any]) -> Union[gpd.GeoDataFrame, Generator[gpd.GeoDataFrame, None, None]]:\n",
    "        if isinstance(query, str):\n",
    "            query = text(query)\n",
    "        with self._engine.begin() as conn:\n",
    "            df = gpd.read_postgis(cast(Executable, query), conn, **kwargs)\n",
    "        return df\n",
    "    \n",
    "    def view(self, query: Union[str, Executable], layer_opts: Optional[Dict[str, Any]] = None, **kwargs: Dict[str, Any]) -> pdk.Deck:\n",
    "        df = self.run(query, **kwargs)\n",
    "        assert isinstance(df, gpd.GeoDataFrame)\n",
    "        initial_view_state = geodf_to_viewstate(df)\n",
    "        return pdk.Deck(layers=[pdk.Layer(\"GeoJsonLayer\", df)], initial_view_state=initial_view_state, **(layer_opts or {}))\n",
    "\n",
    "\n"
   ]
  },
  {
   "cell_type": "code",
   "execution_count": 54,
   "id": "b53ac849",
   "metadata": {},
   "outputs": [],
   "source": [
    "df = osm.run(\"\"\"\n",
    "    select st_buildarea(geom) as geom, tags->>'name' AS name\n",
    "    from osm w\n",
    "    where category = 'boundary' \n",
    "    and tags->>'name' = 'Oakland' \n",
    "    and tags->>'boundary' = 'administrative' \n",
    "    and tags->>'admin_level'= '8' \n",
    "    limit 1\n",
    "    \"\"\")"
   ]
  },
  {
   "cell_type": "code",
   "execution_count": 65,
   "id": "e21d59e1",
   "metadata": {},
   "outputs": [
    {
     "data": {
      "text/html": [
       "<div>\n",
       "<style scoped>\n",
       "    .dataframe tbody tr th:only-of-type {\n",
       "        vertical-align: middle;\n",
       "    }\n",
       "\n",
       "    .dataframe tbody tr th {\n",
       "        vertical-align: top;\n",
       "    }\n",
       "\n",
       "    .dataframe thead th {\n",
       "        text-align: right;\n",
       "    }\n",
       "</style>\n",
       "<table border=\"1\" class=\"dataframe\">\n",
       "  <thead>\n",
       "    <tr style=\"text-align: right;\">\n",
       "      <th></th>\n",
       "      <th>osm_type</th>\n",
       "      <th>osm_id</th>\n",
       "      <th>attrs</th>\n",
       "      <th>tags</th>\n",
       "      <th>geom</th>\n",
       "      <th>category</th>\n",
       "      <th>fts</th>\n",
       "    </tr>\n",
       "  </thead>\n",
       "  <tbody>\n",
       "    <tr>\n",
       "      <th>0</th>\n",
       "      <td>R</td>\n",
       "      <td>2778884</td>\n",
       "      <td>{}</td>\n",
       "      <td>{'name': 'Silver Peak Wilderness', 'type': 'bo...</td>\n",
       "      <td>MULTILINESTRING ((-121.43896 35.89099, -121.43...</td>\n",
       "      <td>boundary</td>\n",
       "      <td>'1b':26 'area':11,31 'boundari':5 'forest':15 ...</td>\n",
       "    </tr>\n",
       "    <tr>\n",
       "      <th>1</th>\n",
       "      <td>R</td>\n",
       "      <td>5366706</td>\n",
       "      <td>{}</td>\n",
       "      <td>{'name': 'Owens Peak Wilderness', 'type': 'mul...</td>\n",
       "      <td>MULTILINESTRING ((-118.05696 35.70358, -118.05...</td>\n",
       "      <td>boundary</td>\n",
       "      <td>'1b':19 'area':11,22 'blm':13 'multipolygon':5...</td>\n",
       "    </tr>\n",
       "  </tbody>\n",
       "</table>\n",
       "</div>"
      ],
      "text/plain": [
       "  osm_type   osm_id attrs                                               tags  \\\n",
       "0        R  2778884    {}  {'name': 'Silver Peak Wilderness', 'type': 'bo...   \n",
       "1        R  5366706    {}  {'name': 'Owens Peak Wilderness', 'type': 'mul...   \n",
       "\n",
       "                                                geom  category  \\\n",
       "0  MULTILINESTRING ((-121.43896 35.89099, -121.43...  boundary   \n",
       "1  MULTILINESTRING ((-118.05696 35.70358, -118.05...  boundary   \n",
       "\n",
       "                                                 fts  \n",
       "0  '1b':26 'area':11,31 'boundari':5 'forest':15 ...  \n",
       "1  '1b':19 'area':11,22 'blm':13 'multipolygon':5...  "
      ]
     },
     "execution_count": 65,
     "metadata": {},
     "output_type": "execute_result"
    }
   ],
   "source": [
    "osm.run(\"\"\" \n",
    "    WITH trajectors AS (\n",
    "        SELECT *\n",
    "        FROM osm\n",
    "        WHERE (\n",
    "            (category='boundary' AND ST_BuildArea(geom) IS NOT NULL)\n",
    "            OR GeometryType(geom) = 'Polygon')\n",
    "    )\n",
    "    SELECT * FROM trajectors\n",
    "    LIMIT 2\n",
    "\"\"\")"
   ]
  },
  {
   "cell_type": "code",
   "execution_count": 66,
   "id": "86f521cd",
   "metadata": {},
   "outputs": [],
   "source": [
    "import geopy"
   ]
  },
  {
   "cell_type": "code",
   "execution_count": 67,
   "id": "81d66312",
   "metadata": {},
   "outputs": [],
   "source": [
    "from geopy.geocoders import Nominatim\n",
    "geolocator = Nominatim(user_agent=\"mercator\")"
   ]
  },
  {
   "cell_type": "code",
   "execution_count": 75,
   "id": "32c5611d",
   "metadata": {},
   "outputs": [
    {
     "name": "stdout",
     "output_type": "stream",
     "text": [
      "United States\n"
     ]
    }
   ],
   "source": [
    "location = geolocator.geocode(\"United States\", geometry=\"geojson\")\n",
    "print(location)"
   ]
  },
  {
   "cell_type": "code",
   "execution_count": 79,
   "id": "b12bc8c6",
   "metadata": {},
   "outputs": [
    {
     "ename": "AttributeError",
     "evalue": "'dict' object has no attribute 'place_id'",
     "output_type": "error",
     "traceback": [
      "\u001b[0;31m---------------------------------------------------------------------------\u001b[0m",
      "\u001b[0;31mAttributeError\u001b[0m                            Traceback (most recent call last)",
      "Cell \u001b[0;32mIn [79], line 1\u001b[0m\n\u001b[0;32m----> 1\u001b[0m location\u001b[39m.\u001b[39;49mraw\u001b[39m.\u001b[39;49mplace_id\n",
      "\u001b[0;31mAttributeError\u001b[0m: 'dict' object has no attribute 'place_id'"
     ]
    }
   ],
   "source": [
    "# Rules for areas\n",
    "# https://github.com/carolinlawrence/overpass-nlmaps/blob/master/rules/areas.osm3s"
   ]
  }
 ],
 "metadata": {
  "kernelspec": {
   "display_name": "osm-search-aWMJe3kG-py3.10",
   "language": "python",
   "name": "python3"
  },
  "language_info": {
   "codemirror_mode": {
    "name": "ipython",
    "version": 3
   },
   "file_extension": ".py",
   "mimetype": "text/x-python",
   "name": "python",
   "nbconvert_exporter": "python",
   "pygments_lexer": "ipython3",
   "version": "3.10.8"
  },
  "vscode": {
   "interpreter": {
    "hash": "3d2d84be3ace00e319e1afeea0fede94f2538c88274c3abbd1c2855bfa690442"
   }
  }
 },
 "nbformat": 4,
 "nbformat_minor": 5
}
