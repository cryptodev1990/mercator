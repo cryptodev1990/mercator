{
 "cells": [
  {
   "cell_type": "code",
   "execution_count": null,
   "id": "87db1589",
   "metadata": {},
   "outputs": [],
   "source": [
    "from pyrosm import OSM\n",
    "from pyrosm import get_data\n",
    "fp = get_data(\"./north-america-latest.osm.pbf\")\n",
    "# Initialize the OSM parser object\n",
    "osm = OSM(fp)\n",
    "\n",
    "# By default pyrosm reads all elements having \"amenity\", \"shop\" or \"tourism\" tag\n",
    "# Here, let's read only \"amenity\" and \"shop\" by applying a custom filter that\n",
    "# overrides the default filtering mechanism\n",
    "# custom_filter = {'amenity': True, \"shop\": True}\n",
    "# pois = osm.get_pois(custom_filter=custom_filter)\n",
    "pois = osm.get_pois(custom_filter=custom_filter)\n",
    "# Gather info about POI type (combines the tag info from \"amenity\" and \"shop\")\n",
    "# pois[\"poi_type\"] = pois[\"amenity\"]\n",
    "# pois[\"poi_type\"] = pois[\"poi_type\"].fillna(pois[\"shop\"])"
   ]
  }
 ],
 "metadata": {
  "kernelspec": {
   "display_name": "Python 3 (ipykernel)",
   "language": "python",
   "name": "python3"
  },
  "language_info": {
   "codemirror_mode": {
    "name": "ipython",
    "version": 3
   },
   "file_extension": ".py",
   "mimetype": "text/x-python",
   "name": "python",
   "nbconvert_exporter": "python",
   "pygments_lexer": "ipython3",
   "version": "3.9.13"
  }
 },
 "nbformat": 4,
 "nbformat_minor": 5
}
