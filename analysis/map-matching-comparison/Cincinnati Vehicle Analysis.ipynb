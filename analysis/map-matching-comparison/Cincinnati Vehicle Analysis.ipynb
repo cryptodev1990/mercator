{
 "cells": [
  {
   "cell_type": "code",
   "execution_count": 1,
   "id": "3669cb3c",
   "metadata": {},
   "outputs": [],
   "source": [
    "import pandas as pd"
   ]
  },
  {
   "cell_type": "code",
   "execution_count": 2,
   "id": "1b69de7e",
   "metadata": {},
   "outputs": [],
   "source": [
    "df = pd.read_csv('ignore__cincy.csv')"
   ]
  },
  {
   "cell_type": "code",
   "execution_count": 3,
   "id": "4aa57a99",
   "metadata": {},
   "outputs": [
    {
     "data": {
      "text/html": [
       "<div>\n",
       "<style scoped>\n",
       "    .dataframe tbody tr th:only-of-type {\n",
       "        vertical-align: middle;\n",
       "    }\n",
       "\n",
       "    .dataframe tbody tr th {\n",
       "        vertical-align: top;\n",
       "    }\n",
       "\n",
       "    .dataframe thead th {\n",
       "        text-align: right;\n",
       "    }\n",
       "</style>\n",
       "<table border=\"1\" class=\"dataframe\">\n",
       "  <thead>\n",
       "    <tr style=\"text-align: right;\">\n",
       "      <th></th>\n",
       "      <th>ASSET</th>\n",
       "      <th>ASSETNHOOD</th>\n",
       "      <th>DISTANCE_TRAVELED</th>\n",
       "      <th>HEADING</th>\n",
       "      <th>ID_HAM_PVMNT_PLYGN</th>\n",
       "      <th>LATITUDE</th>\n",
       "      <th>LOADTS</th>\n",
       "      <th>LONGITUDE</th>\n",
       "      <th>ODOMETER</th>\n",
       "      <th>PPOLYLABEL</th>\n",
       "      <th>REASONS</th>\n",
       "      <th>REASONS_TEXT</th>\n",
       "      <th>SPEED</th>\n",
       "      <th>STREETFROM</th>\n",
       "      <th>STREETTO</th>\n",
       "      <th>TIME</th>\n",
       "    </tr>\n",
       "  </thead>\n",
       "  <tbody>\n",
       "    <tr>\n",
       "      <th>0</th>\n",
       "      <td>116</td>\n",
       "      <td>HYDE PARK</td>\n",
       "      <td>0.1</td>\n",
       "      <td>SEE</td>\n",
       "      <td>S-HAM35857</td>\n",
       "      <td>39.142289</td>\n",
       "      <td>2.020011e+13</td>\n",
       "      <td>-84.412495</td>\n",
       "      <td>132486.6</td>\n",
       "      <td>SAYBROOK AV</td>\n",
       "      <td>10</td>\n",
       "      <td>Motion Start</td>\n",
       "      <td>7.5</td>\n",
       "      <td>WILSHIRE AV</td>\n",
       "      <td>TERM E OF WILSHIRE AV</td>\n",
       "      <td>2.020011e+13</td>\n",
       "    </tr>\n",
       "    <tr>\n",
       "      <th>1</th>\n",
       "      <td>457</td>\n",
       "      <td>NORTHSIDE</td>\n",
       "      <td>0.0</td>\n",
       "      <td>NW</td>\n",
       "      <td>S-HAM07341</td>\n",
       "      <td>39.158027</td>\n",
       "      <td>2.020010e+13</td>\n",
       "      <td>-84.538794</td>\n",
       "      <td>1067.1</td>\n",
       "      <td>OLD LUDLOW AV</td>\n",
       "      <td>12</td>\n",
       "      <td>Power On</td>\n",
       "      <td>0.0</td>\n",
       "      <td>WILLIAM P DOOLEY BYPS</td>\n",
       "      <td>HOFFNER ST</td>\n",
       "      <td>2.020010e+13</td>\n",
       "    </tr>\n",
       "    <tr>\n",
       "      <th>2</th>\n",
       "      <td>153</td>\n",
       "      <td>EAST PRICE HILL</td>\n",
       "      <td>0.2</td>\n",
       "      <td>E</td>\n",
       "      <td>S-HAM01940</td>\n",
       "      <td>39.106321</td>\n",
       "      <td>2.020012e+13</td>\n",
       "      <td>-84.574692</td>\n",
       "      <td>127236.0</td>\n",
       "      <td>W 8TH ST</td>\n",
       "      <td>11</td>\n",
       "      <td>Standard Event</td>\n",
       "      <td>30.9</td>\n",
       "      <td>ENRIGHT AV</td>\n",
       "      <td>KIRBERT AV</td>\n",
       "      <td>2.020012e+13</td>\n",
       "    </tr>\n",
       "    <tr>\n",
       "      <th>3</th>\n",
       "      <td>215</td>\n",
       "      <td>NaN</td>\n",
       "      <td>0.2</td>\n",
       "      <td>N</td>\n",
       "      <td>NaN</td>\n",
       "      <td>39.269699</td>\n",
       "      <td>2.020022e+13</td>\n",
       "      <td>-84.595141</td>\n",
       "      <td>84116.9</td>\n",
       "      <td>NaN</td>\n",
       "      <td>11</td>\n",
       "      <td>Standard Event</td>\n",
       "      <td>9.7</td>\n",
       "      <td>NaN</td>\n",
       "      <td>NaN</td>\n",
       "      <td>2.020022e+13</td>\n",
       "    </tr>\n",
       "    <tr>\n",
       "      <th>4</th>\n",
       "      <td>303</td>\n",
       "      <td>NORTHSIDE</td>\n",
       "      <td>1.9</td>\n",
       "      <td>W</td>\n",
       "      <td>I-GJ13213738</td>\n",
       "      <td>39.159551</td>\n",
       "      <td>2.020020e+13</td>\n",
       "      <td>-84.532379</td>\n",
       "      <td>24377.6</td>\n",
       "      <td>SPRING GROVE AV &amp; WILLIAM P DOOLEY BYPS &amp; DANE...</td>\n",
       "      <td>10</td>\n",
       "      <td>Motion Start</td>\n",
       "      <td>12.4</td>\n",
       "      <td>NaN</td>\n",
       "      <td>NaN</td>\n",
       "      <td>2.020020e+13</td>\n",
       "    </tr>\n",
       "  </tbody>\n",
       "</table>\n",
       "</div>"
      ],
      "text/plain": [
       "   ASSET       ASSETNHOOD  DISTANCE_TRAVELED HEADING ID_HAM_PVMNT_PLYGN  \\\n",
       "0    116        HYDE PARK                0.1     SEE         S-HAM35857   \n",
       "1    457        NORTHSIDE                0.0      NW         S-HAM07341   \n",
       "2    153  EAST PRICE HILL                0.2       E         S-HAM01940   \n",
       "3    215              NaN                0.2       N                NaN   \n",
       "4    303        NORTHSIDE                1.9       W       I-GJ13213738   \n",
       "\n",
       "    LATITUDE        LOADTS  LONGITUDE  ODOMETER  \\\n",
       "0  39.142289  2.020011e+13 -84.412495  132486.6   \n",
       "1  39.158027  2.020010e+13 -84.538794    1067.1   \n",
       "2  39.106321  2.020012e+13 -84.574692  127236.0   \n",
       "3  39.269699  2.020022e+13 -84.595141   84116.9   \n",
       "4  39.159551  2.020020e+13 -84.532379   24377.6   \n",
       "\n",
       "                                          PPOLYLABEL REASONS    REASONS_TEXT  \\\n",
       "0                                        SAYBROOK AV      10    Motion Start   \n",
       "1                                      OLD LUDLOW AV      12        Power On   \n",
       "2                                           W 8TH ST      11  Standard Event   \n",
       "3                                                NaN      11  Standard Event   \n",
       "4  SPRING GROVE AV & WILLIAM P DOOLEY BYPS & DANE...      10    Motion Start   \n",
       "\n",
       "   SPEED             STREETFROM               STREETTO          TIME  \n",
       "0    7.5            WILSHIRE AV  TERM E OF WILSHIRE AV  2.020011e+13  \n",
       "1    0.0  WILLIAM P DOOLEY BYPS             HOFFNER ST  2.020010e+13  \n",
       "2   30.9             ENRIGHT AV             KIRBERT AV  2.020012e+13  \n",
       "3    9.7                    NaN                    NaN  2.020022e+13  \n",
       "4   12.4                    NaN                    NaN  2.020020e+13  "
      ]
     },
     "execution_count": 3,
     "metadata": {},
     "output_type": "execute_result"
    }
   ],
   "source": [
    "df.head()"
   ]
  },
  {
   "cell_type": "code",
   "execution_count": 6,
   "id": "d0d72f59",
   "metadata": {},
   "outputs": [],
   "source": [
    "df = df[['ASSET', 'ODOMETER', 'SPEED', 'TIME', 'LONGITUDE', 'LATITUDE', 'HEADING']]"
   ]
  },
  {
   "cell_type": "code",
   "execution_count": 9,
   "id": "2d24323c",
   "metadata": {},
   "outputs": [],
   "source": [
    "df = df.rename(str.lower, axis='columns')"
   ]
  },
  {
   "cell_type": "code",
   "execution_count": 26,
   "id": "1f4d6d9b",
   "metadata": {},
   "outputs": [],
   "source": [
    "import datetime\n",
    "\n",
    "df['ymd'] = df['time'].apply(lambda x: datetime.datetime.strptime(str(x), '%Y%m%d%H%M%S.0'))"
   ]
  },
  {
   "cell_type": "code",
   "execution_count": 34,
   "id": "32a77ff2",
   "metadata": {},
   "outputs": [],
   "source": [
    "df.sort_values(['asset', 'time']).head(1000).to_csv('1k-pts.csv', index=False)"
   ]
  },
  {
   "cell_type": "code",
   "execution_count": 35,
   "id": "664f57d1",
   "metadata": {},
   "outputs": [],
   "source": [
    "sorted_df = df.sort_values(['asset', 'time'])"
   ]
  },
  {
   "cell_type": "code",
   "execution_count": 38,
   "id": "a09fc839",
   "metadata": {},
   "outputs": [],
   "source": [
    "sorted_df['unix'] = sorted_df['ymd'].apply(lambda x: int(x.strftime(\"%s\")))"
   ]
  },
  {
   "cell_type": "code",
   "execution_count": 42,
   "id": "858012b8",
   "metadata": {},
   "outputs": [
    {
     "data": {
      "text/plain": [
       "308"
      ]
     },
     "execution_count": 42,
     "metadata": {},
     "output_type": "execute_result"
    }
   ],
   "source": [
    "from sqlalchemy import create_engine\n",
    "\n",
    "engine = create_engine('postgresql://andrewduberstein:@localhost:5432/andrewduberstein')\n",
    "\n",
    "sorted_df.to_sql('cincy_routes', engine)"
   ]
  }
 ],
 "metadata": {
  "kernelspec": {
   "display_name": "Python 3 (ipykernel)",
   "language": "python",
   "name": "python3"
  },
  "language_info": {
   "codemirror_mode": {
    "name": "ipython",
    "version": 3
   },
   "file_extension": ".py",
   "mimetype": "text/x-python",
   "name": "python",
   "nbconvert_exporter": "python",
   "pygments_lexer": "ipython3",
   "version": "3.9.13"
  }
 },
 "nbformat": 4,
 "nbformat_minor": 5
}
