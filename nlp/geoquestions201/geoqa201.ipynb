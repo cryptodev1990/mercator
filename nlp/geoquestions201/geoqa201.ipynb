{
 "cells": [
  {
   "cell_type": "code",
   "execution_count": 5,
   "metadata": {},
   "outputs": [],
   "source": [
    "import aiohttp"
   ]
  },
  {
   "cell_type": "code",
   "execution_count": 6,
   "metadata": {},
   "outputs": [],
   "source": [
    "import aiohttp\n",
    "async def main():\n",
    "    async with aiohttp.ClientSession() as session:\n",
    "        async with session.get('https://geoqa.di.uoa.gr/geospatial_gold_standard.html') as response:\n",
    "\n",
    "            print(\"Status:\", response.status)\n",
    "            print(\"Content-type:\", response.headers['content-type'])\n",
    "\n",
    "            html = await response.text()\n",
    "            return html"
   ]
  },
  {
   "cell_type": "code",
   "execution_count": 7,
   "metadata": {},
   "outputs": [
    {
     "name": "stdout",
     "output_type": "stream",
     "text": [
      "Status: 200\n",
      "Content-type: text/html\n"
     ]
    }
   ],
   "source": [
    "html = await main()"
   ]
  },
  {
   "cell_type": "code",
   "execution_count": 8,
   "metadata": {},
   "outputs": [],
   "source": [
    "import lxml, cssselect"
   ]
  },
  {
   "cell_type": "code",
   "execution_count": 9,
   "metadata": {},
   "outputs": [],
   "source": [
    "import lxml.html\n",
    "tree = lxml.html.document_fromstring(html)"
   ]
  },
  {
   "cell_type": "code",
   "execution_count": 27,
   "metadata": {},
   "outputs": [],
   "source": [
    "import re\n",
    "\n",
    "RE_URL= re.compile(r\"assets/queries/\\d+\\.sparql$\")\n",
    "RE_QUESTION = re.compile(r\"^(\\d+)\\.\\s+?(.*)$\")\n",
    "\n",
    "def parse_link(elem, root_url=\"https://geoqa.di.uoa.gr/\"):\n",
    "    text = str(elem.text_content()).strip()\n",
    "    match = RE_QUESTION.match(text)\n",
    "    href = elem.attrib[\"href\"]\n",
    "    return {\"href\": f\"{root_url}{href}\", \"number\": int(match.group(1)), \"question\": match.group(2)}\n",
    "\n",
    "questions = [parse_link(a) for a in tree.cssselect('a[href^=\"assets/queries\"]') if RE_URL.search(a.attrib[\"href\"])]"
   ]
  },
  {
   "cell_type": "code",
   "execution_count": 34,
   "metadata": {},
   "outputs": [],
   "source": [
    "async def get_answers(questions): \n",
    "    final_questions = []\n",
    "    async with aiohttp.ClientSession() as session:\n",
    "        for q in questions:\n",
    "            async with session.get(q[\"href\"]) as response:\n",
    "                sparql = await response.text()\n",
    "                final_questions.append({**q, \"answer\": sparql})\n",
    "    return final_questions\n"
   ]
  },
  {
   "cell_type": "code",
   "execution_count": 35,
   "metadata": {},
   "outputs": [],
   "source": [
    "final_questions = await get_answers(questions)"
   ]
  },
  {
   "cell_type": "code",
   "execution_count": 38,
   "metadata": {},
   "outputs": [],
   "source": [
    "import json\n",
    "with open(\"geoqa201.json\", \"w\") as f:\n",
    "    json.dump(final_questions, f)"
   ]
  }
 ],
 "metadata": {
  "kernelspec": {
   "display_name": "nlp-Zl_60d9X-py3.9",
   "language": "python",
   "name": "python3"
  },
  "language_info": {
   "codemirror_mode": {
    "name": "ipython",
    "version": 3
   },
   "file_extension": ".py",
   "mimetype": "text/x-python",
   "name": "python",
   "nbconvert_exporter": "python",
   "pygments_lexer": "ipython3",
   "version": "3.9.4"
  },
  "orig_nbformat": 4,
  "vscode": {
   "interpreter": {
    "hash": "42ce4c85ffae9e08504d835b3c4cb39e22efd75bffc6e2446327ec954331669c"
   }
  }
 },
 "nbformat": 4,
 "nbformat_minor": 2
}
